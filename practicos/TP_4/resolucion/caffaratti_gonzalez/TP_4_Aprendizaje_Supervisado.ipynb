{
  "nbformat": 4,
  "nbformat_minor": 0,
  "metadata": {
    "kernelspec": {
      "display_name": "Python 3",
      "language": "python",
      "name": "python3"
    },
    "language_info": {
      "codemirror_mode": {
        "name": "ipython",
        "version": 3
      },
      "file_extension": ".py",
      "mimetype": "text/x-python",
      "name": "python",
      "nbconvert_exporter": "python",
      "pygments_lexer": "ipython3",
      "version": "3.7.6"
    },
    "colab": {
      "name": "Daniel_TP_4_Aprendizaje_Supervisado.ipynb",
      "provenance": [],
      "collapsed_sections": []
    }
  },
  "cells": [
    {
      "cell_type": "markdown",
      "metadata": {
        "id": "eLSz4XG032mr"
      },
      "source": [
        "# Mentoría"
      ]
    },
    {
      "cell_type": "markdown",
      "metadata": {
        "id": "8GjXdQqo32mv"
      },
      "source": [
        "## Aprendizaje Supervisado"
      ]
    },
    {
      "cell_type": "markdown",
      "metadata": {
        "id": "CCuvV1vO32mx"
      },
      "source": [
        "### Introducción"
      ]
    },
    {
      "cell_type": "markdown",
      "metadata": {
        "id": "wV8OyWpK32mz"
      },
      "source": [
        "En la siguiente notebook se presentará la consigna a seguir para el cuarto práctico del proyecto, correspondiente a la materia Aprendizaje Automático Supervisado. El objetivo consiste en profundizar en la aplicación de métodos de aprendizaje supervisado aprendidos en el curso, así como también en métodos de ensemble learning. Esto, siempre a través de experimentos reproducibles y evaluando a su vez la conveniencia de uno u otro, así como la selección de diferentes hiperparámetros a partir del cálculo de las métricas pertinentes.\n",
        "\n",
        "A los fines de este práctico, consideraremos el problema original de nuestro proyecto, el cual consiste en un problema de regresión. Nuevamente, al igual que en el práctico anterior, será importante evaluar el desbalance de clases y qué decisiones tomaremos al respecto.\n",
        "\n",
        "Para ello, comenzaremos con las importaciones pertinentes."
      ]
    },
    {
      "cell_type": "markdown",
      "metadata": {
        "id": "QUmjygEH32m2"
      },
      "source": [
        "### Importaciones"
      ]
    },
    {
      "cell_type": "code",
      "metadata": {
        "id": "ttiezXbI32m4"
      },
      "source": [
        "# Importación de las librerías necesarias\n",
        "import numpy as np\n",
        "import pandas as pd\n",
        "# Puede que nos sirvan también\n",
        "import matplotlib as mpl\n",
        "mpl.get_cachedir()\n",
        "import matplotlib.pyplot as plt\n",
        "%matplotlib inline\n",
        "import seaborn as sns\n",
        "# import sklearn as skl\n",
        "\n",
        "from sklearn import preprocessing\n",
        "from sklearn.utils import shuffle\n",
        "from sklearn.metrics import (accuracy_score, \n",
        "                             confusion_matrix, \n",
        "                             mean_squared_error, \n",
        "                             classification_report, \n",
        "                             roc_curve, \n",
        "                             auc,\n",
        "                             mean_absolute_error,\n",
        "                             mean_squared_error,\n",
        "                             r2_score,\n",
        "                             explained_variance_score\n",
        "                             )\n",
        "from sklearn.metrics import \n",
        "from sklearn.metrics import \n",
        "from sklearn.metrics import \n",
        "from sklearn.metrics import \n",
        "\n",
        "from sklearn import ensemble\n",
        "from sklearn import svm\n",
        "from sklearn import tree\n",
        "from sklearn import neural_network\n",
        "from sklearn.model_selection import train_test_split, GridSearchCV\n",
        "from sklearn.pipeline import make_pipeline\n",
        "from sklearn.preprocessing import StandardScaler\n",
        "from sklearn.tree import DecisionTreeClassifier as DT\n",
        "from sklearn.ensemble import RandomForestClassifier\n",
        "from matplotlib.colors import ListedColormap\n",
        "\n",
        "np.random.seed(0)  # Para mayor determinismo"
      ],
      "execution_count": 1,
      "outputs": []
    },
    {
      "cell_type": "code",
      "metadata": {
        "id": "lmORv2a832nE"
      },
      "source": [
        "pd.set_option('display.max_columns', 150)\n",
        "pd.set_option('display.max_rows', 150)\n",
        "pd.set_option('max_colwidth', 151)"
      ],
      "execution_count": 2,
      "outputs": []
    },
    {
      "cell_type": "markdown",
      "metadata": {
        "id": "fZXzqoZd32nM"
      },
      "source": [
        "## Consigna para Aprendizaje Automático Supervisado"
      ]
    },
    {
      "cell_type": "markdown",
      "metadata": {
        "id": "oZAenIm032nO"
      },
      "source": [
        "### I. Preprocesamiento\n",
        "\n",
        "A los fines de realizar este práctico, se utilizará el dataset energia_completo. La división entre train y test será realizada en este mismo práctico.\n",
        "A continuación se detallan los pasos a seguir para el preprocesamiento de los datos, prácticamente iguales a los del práctico anterior.\n",
        "\n",
        "#### 1. Obtención del Dataset\n",
        "\n",
        "Cargar el conjunto de entrenamiento original. Luego, eliminar las columnas calculadas en base a features preexistentes.\n",
        "\n",
        "#### 2. Aplicar Script de Curación\n",
        "\n",
        "Inicialmente, con el objetivo de preparar los datos que alimentarán los modelos de aprendizaje automático (ML) propuestos, deberán aplicar el script de curación obtenido en el segundo práctico.\n",
        "En esta etapa, nuevamente, pueden adicionar los atributos creados por ustedes que crean pertinentes a priori o que hayan encontrado interesantes por tener mayor correlación con la variable `Kwatts_3_fases`.\n",
        "\n",
        "#### 3. Análisis del Balance de Clases\n",
        "\n",
        "¿Cómo luce el balance de clases? ¿Tomarán alguna decisión al respecto?\n",
        "\n",
        "\n",
        "#### 4. Normalización de Atributos\n",
        "\n",
        "Es posible que sea necesario normalizar las features de nuestro dataset, dado que muchos de los algoritmos de clasificación supervisada lo requieren. ¿En qué casos tendrá que implementarse normalización, considerando los nuevos modelos propuestos?\n",
        "\n",
        "Aplicar al dataset la normalización de atributos que consideren adecuada.\n",
        "\n",
        "#### 5. Mezca Aleatória y División en Train/Test\n",
        "\n",
        "Finalmente, están en condiciones de **dividir el dataset en Train y Test**, utilizando para este último conjunto un 20% de los datos disponibles. Previo a esta división, es recomendable que mezclen los datos aleatoriamente.\n",
        "De este modo, deberán obtener cuatro conjuntos de datos, para cada uno de los datasets: ```X_train```, ```X_test```, ```y_train``` y ```y_test```.\n"
      ]
    },
    {
      "cell_type": "markdown",
      "metadata": {
        "id": "cNLjIzgh32nP"
      },
      "source": [
        "### II. Aplicación de Modelos de Aprendizaje Automático Supervisado\n",
        "\n",
        "Una vez finalizada la etapa de preprocesamiento, se propone implementar diferentes modelos de regresión **para el dataset seleccionado**, utilizando la librería Scikit-Learn (o la que consideren apropiada):\n",
        "\n",
        "1. Support Vector Machines (SVM), probando distintos kernels para la regresión.\n",
        "2. Random Forest, utilizando parámetros de normalización cuando lo crean pertinente.\n",
        "3. Red neuronal.\n",
        "\n",
        "Para cada uno de ellos, se pide responder las siguientes consignas:\n",
        "- Utilizar dos features para graficar las clases y la frontera de decisión, siempre que sea posible.\n",
        "- Agregar vector de Bias, cuando lo crean pertinente. Cuándo hace falta y cuándo no? Por qué?\n",
        "\n",
        "De estos tres modelos, cuál creen que es el más adecuado para nuestro caso de aplicación?\n",
        "\n",
        "Finalmente, **combinar los modelos en un clasificador por votos** (pueden implementar VotingClassifier, del módulo de ensemble).\n",
        "\n",
        "**Elegir el modelo que consideren que mejor aplica a nuestro problema.** Para ello, recuerden que los pasos a seguir en la selección pueden esquematizarse como sigue:\n",
        "\n",
        "#### 1. Descripción de la Hipótesis\n",
        "\n",
        "¿Cuál es nuestro problema? ¿Cómo se caracteriza? ¿Cuál es la hipótesis?\n",
        "\n",
        "#### 2. Selección de Regularizador\n",
        "\n",
        " ¿Utilizarán algún regularizador?¿Cuál?\n",
        "\n",
        "#### 3. Selección de Función de Costo\n",
        "\n",
        "¿Cuál será la función de costo utilizada?\n",
        "\n",
        "#### 4. Justificación de las Selecciones\n",
        "\n",
        "¿Por qué eligieron el modelo, el regularizador y la función de costo previas?\n",
        "\n",
        "Finalmente, para el modelo selecionado:\n",
        "\n",
        "- Utilizar el método *Grid Search*, o de búsqueda exahustiva, con *cross-validation* para profundizar en la búsqueda y selección de hiperparámetros (fine tuning).\n",
        "- Calcular métricas sobre el conjunto de entrenamiento y de evaluación para los mejores parámetros obtenidos:\n",
        "   + Mean Absolute Error (MAE)\n",
        "   + Mean Squared Error (MSE)\n",
        "   + R2 Score\n",
        "   + Explaned Variance Score\n",
        "   \n",
        "https://scikit-learn.org/stable/modules/model_evaluation.html#regression-metrics\n",
        "   \n",
        "- ¿Cuál consideran la métrica más apropiada para utilizar en nuestros modelos? ¿Por qué?"
      ]
    },
    {
      "cell_type": "markdown",
      "metadata": {
        "id": "lxULPXuc32nQ"
      },
      "source": [
        "### Entregables\n",
        "\n",
        "El entregable de este práctico consiste en **esta misma Notebook**, pero con el preprocesamiento aplicado y los modelos implementados, agregando las explicaciones que crean pertinentes y las decisiones tomadas, en caso de corresponder."
      ]
    },
    {
      "cell_type": "code",
      "metadata": {
        "id": "J7AzW2vC32nR"
      },
      "source": [
        ""
      ],
      "execution_count": 2,
      "outputs": []
    },
    {
      "cell_type": "markdown",
      "metadata": {
        "id": "LvTOqcu44JIM"
      },
      "source": [
        "### CARGA DEL DATASET"
      ]
    },
    {
      "cell_type": "code",
      "metadata": {
        "id": "lDToZDc84OGM",
        "outputId": "f7b9b074-0c1e-4122-dfea-6633f9f75aa4",
        "colab": {
          "base_uri": "https://localhost:8080/",
          "height": 202
        }
      },
      "source": [
        "#Parsing auxiliar\n",
        "dateparse = lambda x: dt.datetime.strptime(x, '%Y-%m-%d %H:%M:%S')\n",
        "\n",
        "_ds_energia = pd.read_csv('https://raw.githubusercontent.com/alaain04/diplodatos/master/data/energia_completo.csv')\n",
        "_ds_energia['hora'] = _ds_energia.Fecha.apply(lambda x: x[11:13])\n",
        "_ds_energia['Fecha'] = pd.to_datetime(_ds_energia['Fecha'],format='%Y-%m-%d %H:%M:%S')\n",
        "_ds_energia.head(5)"
      ],
      "execution_count": 3,
      "outputs": [
        {
          "output_type": "execute_result",
          "data": {
            "text/html": [
              "<div>\n",
              "<style scoped>\n",
              "    .dataframe tbody tr th:only-of-type {\n",
              "        vertical-align: middle;\n",
              "    }\n",
              "\n",
              "    .dataframe tbody tr th {\n",
              "        vertical-align: top;\n",
              "    }\n",
              "\n",
              "    .dataframe thead th {\n",
              "        text-align: right;\n",
              "    }\n",
              "</style>\n",
              "<table border=\"1\" class=\"dataframe\">\n",
              "  <thead>\n",
              "    <tr style=\"text-align: right;\">\n",
              "      <th></th>\n",
              "      <th>Fecha</th>\n",
              "      <th>Amper_fase_T_A</th>\n",
              "      <th>Amper_fase_S_A</th>\n",
              "      <th>Amper_fase_R_A</th>\n",
              "      <th>Vab</th>\n",
              "      <th>Vca</th>\n",
              "      <th>Vbc</th>\n",
              "      <th>Kwatts_3_fases</th>\n",
              "      <th>Factor_de_Poten_A</th>\n",
              "      <th>hora</th>\n",
              "    </tr>\n",
              "  </thead>\n",
              "  <tbody>\n",
              "    <tr>\n",
              "      <th>0</th>\n",
              "      <td>2019-12-03 20:45:00</td>\n",
              "      <td>11</td>\n",
              "      <td>11</td>\n",
              "      <td>12</td>\n",
              "      <td>2147483.65</td>\n",
              "      <td>42.16</td>\n",
              "      <td>40.94</td>\n",
              "      <td>-2.147484e+09</td>\n",
              "      <td>0.00</td>\n",
              "      <td>20</td>\n",
              "    </tr>\n",
              "    <tr>\n",
              "      <th>1</th>\n",
              "      <td>2019-12-03 20:50:00</td>\n",
              "      <td>11</td>\n",
              "      <td>11</td>\n",
              "      <td>11</td>\n",
              "      <td>0.00</td>\n",
              "      <td>2147483.65</td>\n",
              "      <td>0.00</td>\n",
              "      <td>-2.147484e+09</td>\n",
              "      <td>0.00</td>\n",
              "      <td>20</td>\n",
              "    </tr>\n",
              "    <tr>\n",
              "      <th>2</th>\n",
              "      <td>2019-12-03 20:55:00</td>\n",
              "      <td>11</td>\n",
              "      <td>11</td>\n",
              "      <td>12</td>\n",
              "      <td>2147483.65</td>\n",
              "      <td>2147483.65</td>\n",
              "      <td>2147483.65</td>\n",
              "      <td>-2.147484e+09</td>\n",
              "      <td>-0.93</td>\n",
              "      <td>20</td>\n",
              "    </tr>\n",
              "    <tr>\n",
              "      <th>3</th>\n",
              "      <td>2019-12-03 21:00:00</td>\n",
              "      <td>11</td>\n",
              "      <td>11</td>\n",
              "      <td>11</td>\n",
              "      <td>2147483.65</td>\n",
              "      <td>0.00</td>\n",
              "      <td>2147483.65</td>\n",
              "      <td>0.000000e+00</td>\n",
              "      <td>0.00</td>\n",
              "      <td>21</td>\n",
              "    </tr>\n",
              "    <tr>\n",
              "      <th>4</th>\n",
              "      <td>2019-12-03 21:05:00</td>\n",
              "      <td>10</td>\n",
              "      <td>10</td>\n",
              "      <td>11</td>\n",
              "      <td>35.78</td>\n",
              "      <td>36.54</td>\n",
              "      <td>0.00</td>\n",
              "      <td>-4.342000e+03</td>\n",
              "      <td>-0.51</td>\n",
              "      <td>21</td>\n",
              "    </tr>\n",
              "  </tbody>\n",
              "</table>\n",
              "</div>"
            ],
            "text/plain": [
              "                Fecha  Amper_fase_T_A  Amper_fase_S_A  Amper_fase_R_A  \\\n",
              "0 2019-12-03 20:45:00              11              11              12   \n",
              "1 2019-12-03 20:50:00              11              11              11   \n",
              "2 2019-12-03 20:55:00              11              11              12   \n",
              "3 2019-12-03 21:00:00              11              11              11   \n",
              "4 2019-12-03 21:05:00              10              10              11   \n",
              "\n",
              "          Vab         Vca         Vbc  Kwatts_3_fases  Factor_de_Poten_A hora  \n",
              "0  2147483.65       42.16       40.94   -2.147484e+09               0.00   20  \n",
              "1        0.00  2147483.65        0.00   -2.147484e+09               0.00   20  \n",
              "2  2147483.65  2147483.65  2147483.65   -2.147484e+09              -0.93   20  \n",
              "3  2147483.65        0.00  2147483.65    0.000000e+00               0.00   21  \n",
              "4       35.78       36.54        0.00   -4.342000e+03              -0.51   21  "
            ]
          },
          "metadata": {
            "tags": []
          },
          "execution_count": 3
        }
      ]
    },
    {
      "cell_type": "code",
      "metadata": {
        "id": "IgVyFHQ-4QH5"
      },
      "source": [
        "#Elimino datos del día 3/12/2019 para comenzar un dia completo\n",
        "_ds_energia.drop(_ds_energia[pd.to_datetime(_ds_energia['Fecha'].dt.date)=='2019-12-03'].index,inplace=True)\n",
        "\n",
        "#Generamos Period Index y ordenamos el dataset de Energia\n",
        "_ds_energia.index = pd.PeriodIndex(list(_ds_energia['Fecha']), freq='05T')\n",
        "_ds_energia = _ds_energia.sort_index()\n"
      ],
      "execution_count": 4,
      "outputs": []
    },
    {
      "cell_type": "code",
      "metadata": {
        "id": "hRSACurB4Tua"
      },
      "source": [
        "# _ds_clima\n",
        "_ds_clima = pd.read_csv('https://raw.githubusercontent.com/alaain04/diplodatos/master/data/clima_posadas_20192020.csv')\n",
        "_ds_clima['time'] = pd.to_datetime(_ds_clima['time'],format='%Y-%m-%d %H:%M:%S')\n",
        "#Elegimos features del dataset de Clima y los llevamos cada 5 minutos para poder unirlo con el dataset de energia\n",
        "_ds_clima.index = pd.PeriodIndex(list(_ds_clima['time']), freq='T')\n",
        "_ds_clima = _ds_clima[['temperature','windspeed','winddirection']].resample('05T').fillna(\"backfill\")\n",
        "#Ordenamos valores\n",
        "_ds_clima = _ds_clima.sort_index()"
      ],
      "execution_count": 5,
      "outputs": []
    },
    {
      "cell_type": "code",
      "metadata": {
        "id": "VNgULxIz4WPs",
        "outputId": "8c373f64-9b37-4b62-bf5f-52b98e13a5e6",
        "colab": {
          "base_uri": "https://localhost:8080/",
          "height": 289
        }
      },
      "source": [
        "_ds_energia=_ds_energia.join(_ds_clima,how='left')\n",
        "_ds_energia.head()"
      ],
      "execution_count": 6,
      "outputs": [
        {
          "output_type": "execute_result",
          "data": {
            "text/html": [
              "<div>\n",
              "<style scoped>\n",
              "    .dataframe tbody tr th:only-of-type {\n",
              "        vertical-align: middle;\n",
              "    }\n",
              "\n",
              "    .dataframe tbody tr th {\n",
              "        vertical-align: top;\n",
              "    }\n",
              "\n",
              "    .dataframe thead th {\n",
              "        text-align: right;\n",
              "    }\n",
              "</style>\n",
              "<table border=\"1\" class=\"dataframe\">\n",
              "  <thead>\n",
              "    <tr style=\"text-align: right;\">\n",
              "      <th></th>\n",
              "      <th>Fecha</th>\n",
              "      <th>Amper_fase_T_A</th>\n",
              "      <th>Amper_fase_S_A</th>\n",
              "      <th>Amper_fase_R_A</th>\n",
              "      <th>Vab</th>\n",
              "      <th>Vca</th>\n",
              "      <th>Vbc</th>\n",
              "      <th>Kwatts_3_fases</th>\n",
              "      <th>Factor_de_Poten_A</th>\n",
              "      <th>hora</th>\n",
              "      <th>temperature</th>\n",
              "      <th>windspeed</th>\n",
              "      <th>winddirection</th>\n",
              "    </tr>\n",
              "  </thead>\n",
              "  <tbody>\n",
              "    <tr>\n",
              "      <th>2019-12-04 00:00</th>\n",
              "      <td>2019-12-04 00:00:00</td>\n",
              "      <td>9</td>\n",
              "      <td>9</td>\n",
              "      <td>10</td>\n",
              "      <td>2147483.65</td>\n",
              "      <td>2147483.65</td>\n",
              "      <td>2147483.65</td>\n",
              "      <td>-2.147484e+09</td>\n",
              "      <td>0.0</td>\n",
              "      <td>00</td>\n",
              "      <td>26.7</td>\n",
              "      <td>9.4</td>\n",
              "      <td>230.0</td>\n",
              "    </tr>\n",
              "    <tr>\n",
              "      <th>2019-12-04 00:05</th>\n",
              "      <td>2019-12-04 00:05:00</td>\n",
              "      <td>9</td>\n",
              "      <td>10</td>\n",
              "      <td>10</td>\n",
              "      <td>2147483.65</td>\n",
              "      <td>2147483.65</td>\n",
              "      <td>2147483.65</td>\n",
              "      <td>-2.147484e+09</td>\n",
              "      <td>0.0</td>\n",
              "      <td>00</td>\n",
              "      <td>25.8</td>\n",
              "      <td>9.4</td>\n",
              "      <td>140.0</td>\n",
              "    </tr>\n",
              "    <tr>\n",
              "      <th>2019-12-04 00:10</th>\n",
              "      <td>2019-12-04 00:10:00</td>\n",
              "      <td>9</td>\n",
              "      <td>9</td>\n",
              "      <td>10</td>\n",
              "      <td>2147483.65</td>\n",
              "      <td>2147483.65</td>\n",
              "      <td>2147483.65</td>\n",
              "      <td>-2.147484e+09</td>\n",
              "      <td>0.0</td>\n",
              "      <td>00</td>\n",
              "      <td>25.8</td>\n",
              "      <td>9.4</td>\n",
              "      <td>140.0</td>\n",
              "    </tr>\n",
              "    <tr>\n",
              "      <th>2019-12-04 00:15</th>\n",
              "      <td>2019-12-04 00:15:00</td>\n",
              "      <td>9</td>\n",
              "      <td>9</td>\n",
              "      <td>10</td>\n",
              "      <td>2147483.65</td>\n",
              "      <td>2147483.65</td>\n",
              "      <td>2147483.65</td>\n",
              "      <td>-2.147484e+09</td>\n",
              "      <td>0.0</td>\n",
              "      <td>00</td>\n",
              "      <td>25.8</td>\n",
              "      <td>9.4</td>\n",
              "      <td>140.0</td>\n",
              "    </tr>\n",
              "    <tr>\n",
              "      <th>2019-12-04 00:20</th>\n",
              "      <td>2019-12-04 00:20:00</td>\n",
              "      <td>9</td>\n",
              "      <td>9</td>\n",
              "      <td>10</td>\n",
              "      <td>2147483.65</td>\n",
              "      <td>2147483.65</td>\n",
              "      <td>2147483.65</td>\n",
              "      <td>-2.147484e+09</td>\n",
              "      <td>0.0</td>\n",
              "      <td>00</td>\n",
              "      <td>25.8</td>\n",
              "      <td>9.4</td>\n",
              "      <td>140.0</td>\n",
              "    </tr>\n",
              "  </tbody>\n",
              "</table>\n",
              "</div>"
            ],
            "text/plain": [
              "                               Fecha  Amper_fase_T_A  Amper_fase_S_A  \\\n",
              "2019-12-04 00:00 2019-12-04 00:00:00               9               9   \n",
              "2019-12-04 00:05 2019-12-04 00:05:00               9              10   \n",
              "2019-12-04 00:10 2019-12-04 00:10:00               9               9   \n",
              "2019-12-04 00:15 2019-12-04 00:15:00               9               9   \n",
              "2019-12-04 00:20 2019-12-04 00:20:00               9               9   \n",
              "\n",
              "                  Amper_fase_R_A         Vab         Vca         Vbc  \\\n",
              "2019-12-04 00:00              10  2147483.65  2147483.65  2147483.65   \n",
              "2019-12-04 00:05              10  2147483.65  2147483.65  2147483.65   \n",
              "2019-12-04 00:10              10  2147483.65  2147483.65  2147483.65   \n",
              "2019-12-04 00:15              10  2147483.65  2147483.65  2147483.65   \n",
              "2019-12-04 00:20              10  2147483.65  2147483.65  2147483.65   \n",
              "\n",
              "                  Kwatts_3_fases  Factor_de_Poten_A hora  temperature  \\\n",
              "2019-12-04 00:00   -2.147484e+09                0.0   00         26.7   \n",
              "2019-12-04 00:05   -2.147484e+09                0.0   00         25.8   \n",
              "2019-12-04 00:10   -2.147484e+09                0.0   00         25.8   \n",
              "2019-12-04 00:15   -2.147484e+09                0.0   00         25.8   \n",
              "2019-12-04 00:20   -2.147484e+09                0.0   00         25.8   \n",
              "\n",
              "                  windspeed  winddirection  \n",
              "2019-12-04 00:00        9.4          230.0  \n",
              "2019-12-04 00:05        9.4          140.0  \n",
              "2019-12-04 00:10        9.4          140.0  \n",
              "2019-12-04 00:15        9.4          140.0  \n",
              "2019-12-04 00:20        9.4          140.0  "
            ]
          },
          "metadata": {
            "tags": []
          },
          "execution_count": 6
        }
      ]
    },
    {
      "cell_type": "markdown",
      "metadata": {
        "id": "jFmcU9fg4Yjw"
      },
      "source": [
        "### CURACION DE DATOS"
      ]
    },
    {
      "cell_type": "code",
      "metadata": {
        "id": "UwTldNyF4Wv2"
      },
      "source": [
        "#Calculamos los valores absolutos de la Potencia\n",
        "_ds_energia['abs_Kwatts'] = _ds_energia['Kwatts_3_fases'].abs()\n",
        "\n",
        "#Calculamos los valores absolutos de la Potencia\n",
        "_ds_energia['abs_Potencia'] = _ds_energia['Factor_de_Poten_A'].abs()\n",
        "\n",
        "#Creamos un campo con la fecha del día solamente\n",
        "_ds_energia['fecha_dia'] = pd.to_datetime(_ds_energia['Fecha'].dt.date) \n",
        "\n",
        "_ds_energia['DiaSemana'] = pd.to_datetime(_ds_energia.fecha_dia.dt.date).dt.day_name()\n",
        "_ds_energia['mes_desc'] = pd.to_datetime(_ds_energia.fecha_dia.dt.date).dt.month_name()"
      ],
      "execution_count": 7,
      "outputs": []
    },
    {
      "cell_type": "code",
      "metadata": {
        "id": "ekChgRPS4cDM"
      },
      "source": [
        "def get_dia_laboral(nombre_dia):\n",
        "    if nombre_dia in ['Wednesday', 'Thursday', 'Friday', 'Monday','Tuesday']:\n",
        "        return 'Dia laboral'\n",
        "    else:\n",
        "        return 'Fin de semana'"
      ],
      "execution_count": 8,
      "outputs": []
    },
    {
      "cell_type": "code",
      "metadata": {
        "id": "I3S373304cAa"
      },
      "source": [
        "_ds_energia['es_dia_laboral'] = _ds_energia['DiaSemana'].apply(lambda x:get_dia_laboral(x))"
      ],
      "execution_count": 9,
      "outputs": []
    },
    {
      "cell_type": "code",
      "metadata": {
        "id": "EyewfmUy4goY"
      },
      "source": [
        "# instanciamos clases\n",
        "le_dia_semana = preprocessing.LabelEncoder()\n",
        "le_dia_laboral = preprocessing.LabelEncoder()"
      ],
      "execution_count": 10,
      "outputs": []
    },
    {
      "cell_type": "code",
      "metadata": {
        "id": "_L_KSwqT4gml",
        "outputId": "25d23ea7-0ff7-454d-edb4-51e6c6a75ce2",
        "colab": {
          "base_uri": "https://localhost:8080/"
        }
      },
      "source": [
        "# Ejecutamos la funcion entrena el modelo de codificación\n",
        "le_dia_semana.fit(_ds_energia['DiaSemana'])\n",
        "le_dia_laboral.fit(_ds_energia['es_dia_laboral'])"
      ],
      "execution_count": 11,
      "outputs": [
        {
          "output_type": "execute_result",
          "data": {
            "text/plain": [
              "LabelEncoder()"
            ]
          },
          "metadata": {
            "tags": []
          },
          "execution_count": 11
        }
      ]
    },
    {
      "cell_type": "code",
      "metadata": {
        "id": "tYX-IVeC4gjz",
        "outputId": "829762d0-584d-482e-8a5b-c4af70653a47",
        "colab": {
          "base_uri": "https://localhost:8080/"
        }
      },
      "source": [
        "# View encoder mapping\n",
        "dict(zip(le_dia_semana.classes_,le_dia_semana.transform(le_dia_semana.classes_)))"
      ],
      "execution_count": 12,
      "outputs": [
        {
          "output_type": "execute_result",
          "data": {
            "text/plain": [
              "{'Friday': 0,\n",
              " 'Monday': 1,\n",
              " 'Saturday': 2,\n",
              " 'Sunday': 3,\n",
              " 'Thursday': 4,\n",
              " 'Tuesday': 5,\n",
              " 'Wednesday': 6}"
            ]
          },
          "metadata": {
            "tags": []
          },
          "execution_count": 12
        }
      ]
    },
    {
      "cell_type": "code",
      "metadata": {
        "id": "b47urcyz4gg3",
        "outputId": "49f75da7-1131-41cc-dd18-a681cddd551d",
        "colab": {
          "base_uri": "https://localhost:8080/"
        }
      },
      "source": [
        "dict(zip(le_dia_laboral.classes_,le_dia_laboral.transform(le_dia_laboral.classes_)))"
      ],
      "execution_count": 13,
      "outputs": [
        {
          "output_type": "execute_result",
          "data": {
            "text/plain": [
              "{'Dia laboral': 0, 'Fin de semana': 1}"
            ]
          },
          "metadata": {
            "tags": []
          },
          "execution_count": 13
        }
      ]
    },
    {
      "cell_type": "code",
      "metadata": {
        "id": "lGR6xLf34qwJ"
      },
      "source": [
        "# transfomr -> ejecuta el modelo y retorna el array con los datos transformados\n",
        "\n",
        "_ds_energia['DiaSemana_Transform'] = le_dia_semana.transform(_ds_energia['DiaSemana']) \n",
        "_ds_energia['Es_dia_laboral_Transform'] = le_dia_laboral.transform(_ds_energia['es_dia_laboral']) \n"
      ],
      "execution_count": 14,
      "outputs": []
    },
    {
      "cell_type": "code",
      "metadata": {
        "id": "K3--ABH24qtu",
        "outputId": "8233b50f-706d-4f3c-c097-79d3f5487579",
        "colab": {
          "base_uri": "https://localhost:8080/"
        }
      },
      "source": [
        "# obtengo lista de registros outliers\n",
        "outl = _ds_energia[_ds_energia.abs_Kwatts > (_ds_energia.abs_Kwatts.median() + 3 * _ds_energia.abs_Kwatts.median())] \n",
        "_valor_outlier = _ds_energia.abs_Kwatts.median() + 3 * _ds_energia.abs_Kwatts.median()\n",
        "print('Límite máximo de consumo para considerar outliers: ' + str(_valor_outlier) )"
      ],
      "execution_count": 15,
      "outputs": [
        {
          "output_type": "stream",
          "text": [
            "Límite máximo de consumo para considerar outliers: 14280.0\n"
          ],
          "name": "stdout"
        }
      ]
    },
    {
      "cell_type": "code",
      "metadata": {
        "id": "1WLPBxO24qsd"
      },
      "source": [
        "#Reemplazamos Nan en tensiones\n",
        "_ds_energia.loc[ ( _ds_energia['Vab'].isna()), 'Vab'] = 0\n",
        "_ds_energia.loc[ ( _ds_energia['Vca'].isna()), 'Vca'] = 0\n",
        "_ds_energia.loc[ ( _ds_energia['Vbc'].isna()), 'Vbc'] = 0\n",
        "#Reemplazamos outliers en tensiones\n",
        "_ds_energia.loc[ ( _ds_energia['Vab'] > _ds_energia.Vab.median() + 3 * _ds_energia.Vab.median() ), 'Vab'] = 0 #_ds_energia.Vab.median() + 3 * _ds_energia.Vab.median()\n",
        "_ds_energia.loc[ ( _ds_energia.Vca > _ds_energia.Vca.median() + 3 * _ds_energia.Vca.median() ) , 'Vca'] = 0 #_ds_energia.Vca.median() + 3 * _ds_energia.Vca.median()\n",
        "_ds_energia.loc[ ( _ds_energia['Vbc'] > _ds_energia.Vbc.median() + 3 * _ds_energia.Vbc.median() ), 'Vbc'] = 0 #_ds_energia.Vbc.median() + 3 * _ds_energia.Vbc.median()"
      ],
      "execution_count": 16,
      "outputs": []
    },
    {
      "cell_type": "code",
      "metadata": {
        "id": "Hoj3J_oZ4whM"
      },
      "source": [
        "# convertimos los nan de abs_Kwatts en valor 0 si es nan 'Kwatts 3 fases' y 'Amper fase T-A'== 0, luego se marcará como un corte de energia\n",
        "_ds_energia.loc[ ( _ds_energia['Amper_fase_R_A'].isna()) & (_ds_energia['Amper_fase_T_A'] == 0), 'Amper_fase_R_A'] = 0\n",
        "_ds_energia.loc[ ( _ds_energia['Amper_fase_S_A'].isna()) & (_ds_energia['Amper_fase_T_A'] == 0), 'Amper_fase_S_A'] = 0\n",
        "_ds_energia.loc[ ( _ds_energia['Kwatts_3_fases'].isna()) & (_ds_energia['Amper_fase_T_A'] == 0), 'abs_Kwatts'] = 0"
      ],
      "execution_count": 17,
      "outputs": []
    },
    {
      "cell_type": "code",
      "metadata": {
        "id": "9oCMNxB64wfP"
      },
      "source": [
        "#Evaluamos si hubo un corte de energia (o sea, si la potencia total es igual a 0)\n",
        "_ds_energia.loc[_ds_energia.abs_Kwatts == 0, 'corte_energia'] = 1\n",
        "_ds_energia.loc[(_ds_energia['Factor_de_Poten_A']<=0) & (_ds_energia['Kwatts_3_fases']>0),\n",
        "                                               'corte_energia'] = 1\n",
        "_ds_energia.loc[(_ds_energia['Factor_de_Poten_A']>0) & (_ds_energia['Kwatts_3_fases']<0),\n",
        "                                               'corte_energia'] = 1                                               \n",
        "\n",
        "_ds_energia.loc[_ds_energia.abs_Kwatts != 0, 'corte_energia'] = 0\n",
        "\n",
        "_ds_energia.loc[_ds_energia.Vca == 0, 'corte_energia'] = 1\n",
        "_ds_energia.loc[_ds_energia.Vab == 0, 'corte_energia'] = 1\n",
        "_ds_energia.loc[_ds_energia.Vbc == 0, 'corte_energia'] = 1\n",
        "\n",
        "_ds_energia.loc[_ds_energia['Amper_fase_R_A'] == 0, 'corte_energia'] = 1\n",
        "_ds_energia.loc[_ds_energia['Amper_fase_T_A'] == 0, 'corte_energia'] = 1\n",
        "_ds_energia.loc[_ds_energia['Amper_fase_S_A'] == 0, 'corte_energia'] = 1\n",
        "\n",
        "\n",
        "#Cambiamos outliers sólo en columna nueva\n",
        "#Evaluamos si hay los outliers de la potencia\n",
        "_ds_energia.loc[_ds_energia.abs_Kwatts > _valor_outlier, 'outlier_Kwatts'] = 1\n",
        "_ds_energia.loc[_ds_energia.abs_Kwatts <= _valor_outlier, 'outlier_Kwatts'] = 0\n",
        "\n",
        "\n",
        "#Decidimos reemplazar los valores outliers de Potencia por 0 ya que consideramos que fue un error de medición y que para poder graficar los datos, necesitamos que no estén.\n",
        "_ds_energia.loc[_ds_energia['outlier_Kwatts']==1, 'abs_Kwatts'] = 0\n",
        "\n",
        "_ds_energia.abs_Kwatts.fillna(value=0,inplace=True)\n",
        "_ds_energia.winddirection.fillna(value=0,inplace=True)\n",
        "_ds_energia.windspeed.fillna(value=0,inplace=True)"
      ],
      "execution_count": 18,
      "outputs": []
    },
    {
      "cell_type": "code",
      "metadata": {
        "id": "36-z0Qum4wcA",
        "outputId": "e1d9e65e-96cc-4bf7-c7fe-2918c81eb8b1",
        "colab": {
          "base_uri": "https://localhost:8080/"
        }
      },
      "source": [
        "#Verifico Nan\n",
        "_ds_energia[_ds_energia.abs_Kwatts.isna()==True].abs_Kwatts.count()"
      ],
      "execution_count": 19,
      "outputs": [
        {
          "output_type": "execute_result",
          "data": {
            "text/plain": [
              "0"
            ]
          },
          "metadata": {
            "tags": []
          },
          "execution_count": 19
        }
      ]
    },
    {
      "cell_type": "code",
      "metadata": {
        "id": "pfCW44Mx42-3"
      },
      "source": [
        "#Creamos la columna target seteando un 1 suponiendo que hay energia, para luego evaluar la columna de potencia y asignarle 0 en caso contrario\n",
        "_ds_energia['target'] = 1\n",
        "_ds_energia.loc[_ds_energia.abs_Kwatts <= 100, 'target'] = 0\n",
        "_ds_energia.loc[_ds_energia.corte_energia==1, 'target'] = 0\n"
      ],
      "execution_count": 20,
      "outputs": []
    },
    {
      "cell_type": "code",
      "metadata": {
        "id": "cUXK27Yl4432",
        "outputId": "97a97248-e442-4504-efd2-8782ae3ac163",
        "colab": {
          "base_uri": "https://localhost:8080/"
        }
      },
      "source": [
        "print('Porcentaje de valor 1 (con distribución de energia) ' + str(_ds_energia[_ds_energia.target==1].Fecha.count()/_ds_energia.Fecha.count()))\n",
        "print('Porcentaje de valor 0 (sin distribución de energia) ' + str(_ds_energia[_ds_energia.target==0].Fecha.count()/_ds_energia.Fecha.count()))"
      ],
      "execution_count": 21,
      "outputs": [
        {
          "output_type": "stream",
          "text": [
            "Porcentaje de valor 1 (con distribución de energia) 0.5311325654578228\n",
            "Porcentaje de valor 0 (sin distribución de energia) 0.46886743454217716\n"
          ],
          "name": "stdout"
        }
      ]
    },
    {
      "cell_type": "code",
      "metadata": {
        "id": "HW8CE3xH44xk"
      },
      "source": [
        "#Funcion para normalizar los campos numéricos de 0 a 1\n",
        "def normalize(df):\n",
        "    result = df.copy()\n",
        "    for feature_name in df.columns:\n",
        "        max_value = df[feature_name].max()\n",
        "        min_value = df[feature_name].min()\n",
        "        result[feature_name] = (df[feature_name] - min_value) / (max_value - min_value)\n",
        "    return result"
      ],
      "execution_count": 22,
      "outputs": []
    },
    {
      "cell_type": "code",
      "metadata": {
        "id": "SnjvP7XC5IOA"
      },
      "source": [
        "#Funcion para normalizar los campos numéricos de -1 a 1\n",
        "def normalize_alternativa(df):\n",
        "    result = df.copy()\n",
        "    for feature_name in df.columns:\n",
        "        if feature_name != 'target':\n",
        "            _mean = df[feature_name].mean()\n",
        "            _std = df[feature_name].std()\n",
        "            result[feature_name] = (df[feature_name] - _mean) / (_std)\n",
        "    return result"
      ],
      "execution_count": 23,
      "outputs": []
    },
    {
      "cell_type": "code",
      "metadata": {
        "id": "4n1vq0CW5KBW",
        "outputId": "8f00321d-7565-47b4-d01d-fa035d60e2bb",
        "colab": {
          "base_uri": "https://localhost:8080/",
          "height": 396
        }
      },
      "source": [
        "dt_normalizado = normalize(_ds_energia.drop(columns=['Kwatts_3_fases','Factor_de_Poten_A','outlier_Kwatts','corte_energia','es_dia_laboral','mes_desc','DiaSemana','fecha_dia','hora','Fecha']))\n",
        "dt_normalizado.sample(5)"
      ],
      "execution_count": 24,
      "outputs": [
        {
          "output_type": "execute_result",
          "data": {
            "text/html": [
              "<div>\n",
              "<style scoped>\n",
              "    .dataframe tbody tr th:only-of-type {\n",
              "        vertical-align: middle;\n",
              "    }\n",
              "\n",
              "    .dataframe tbody tr th {\n",
              "        vertical-align: top;\n",
              "    }\n",
              "\n",
              "    .dataframe thead th {\n",
              "        text-align: right;\n",
              "    }\n",
              "</style>\n",
              "<table border=\"1\" class=\"dataframe\">\n",
              "  <thead>\n",
              "    <tr style=\"text-align: right;\">\n",
              "      <th></th>\n",
              "      <th>Amper_fase_T_A</th>\n",
              "      <th>Amper_fase_S_A</th>\n",
              "      <th>Amper_fase_R_A</th>\n",
              "      <th>Vab</th>\n",
              "      <th>Vca</th>\n",
              "      <th>Vbc</th>\n",
              "      <th>temperature</th>\n",
              "      <th>windspeed</th>\n",
              "      <th>winddirection</th>\n",
              "      <th>abs_Kwatts</th>\n",
              "      <th>abs_Potencia</th>\n",
              "      <th>DiaSemana_Transform</th>\n",
              "      <th>Es_dia_laboral_Transform</th>\n",
              "      <th>target</th>\n",
              "    </tr>\n",
              "  </thead>\n",
              "  <tbody>\n",
              "    <tr>\n",
              "      <th>2019-12-28 21:15</th>\n",
              "      <td>0.000000</td>\n",
              "      <td>0.000000</td>\n",
              "      <td>0.000000</td>\n",
              "      <td>0.627813</td>\n",
              "      <td>0.636568</td>\n",
              "      <td>0.626986</td>\n",
              "      <td>0.885057</td>\n",
              "      <td>0.000000</td>\n",
              "      <td>0.000000</td>\n",
              "      <td>0.704782</td>\n",
              "      <td>0.909091</td>\n",
              "      <td>0.333333</td>\n",
              "      <td>1.0</td>\n",
              "      <td>0.0</td>\n",
              "    </tr>\n",
              "    <tr>\n",
              "      <th>2020-04-26 21:20</th>\n",
              "      <td>0.000000</td>\n",
              "      <td>0.000000</td>\n",
              "      <td>0.000000</td>\n",
              "      <td>0.698488</td>\n",
              "      <td>0.717541</td>\n",
              "      <td>0.702217</td>\n",
              "      <td>0.545977</td>\n",
              "      <td>0.202166</td>\n",
              "      <td>0.388889</td>\n",
              "      <td>0.476909</td>\n",
              "      <td>0.979798</td>\n",
              "      <td>0.500000</td>\n",
              "      <td>1.0</td>\n",
              "      <td>0.0</td>\n",
              "    </tr>\n",
              "    <tr>\n",
              "      <th>2020-02-04 05:50</th>\n",
              "      <td>0.176471</td>\n",
              "      <td>0.170455</td>\n",
              "      <td>0.157895</td>\n",
              "      <td>0.703411</td>\n",
              "      <td>0.719268</td>\n",
              "      <td>0.676907</td>\n",
              "      <td>0.626437</td>\n",
              "      <td>0.032491</td>\n",
              "      <td>0.250000</td>\n",
              "      <td>0.538174</td>\n",
              "      <td>0.949495</td>\n",
              "      <td>0.833333</td>\n",
              "      <td>0.0</td>\n",
              "      <td>1.0</td>\n",
              "    </tr>\n",
              "    <tr>\n",
              "      <th>2019-12-15 19:30</th>\n",
              "      <td>0.000000</td>\n",
              "      <td>0.000000</td>\n",
              "      <td>0.000000</td>\n",
              "      <td>0.678446</td>\n",
              "      <td>0.685083</td>\n",
              "      <td>0.649328</td>\n",
              "      <td>0.511494</td>\n",
              "      <td>0.137184</td>\n",
              "      <td>0.944444</td>\n",
              "      <td>0.414825</td>\n",
              "      <td>0.959596</td>\n",
              "      <td>0.500000</td>\n",
              "      <td>1.0</td>\n",
              "      <td>0.0</td>\n",
              "    </tr>\n",
              "    <tr>\n",
              "      <th>2020-03-05 13:45</th>\n",
              "      <td>0.223529</td>\n",
              "      <td>0.215909</td>\n",
              "      <td>0.200000</td>\n",
              "      <td>0.000000</td>\n",
              "      <td>0.000000</td>\n",
              "      <td>0.000000</td>\n",
              "      <td>0.683908</td>\n",
              "      <td>0.202166</td>\n",
              "      <td>0.250000</td>\n",
              "      <td>0.476207</td>\n",
              "      <td>0.898990</td>\n",
              "      <td>0.666667</td>\n",
              "      <td>0.0</td>\n",
              "      <td>0.0</td>\n",
              "    </tr>\n",
              "  </tbody>\n",
              "</table>\n",
              "</div>"
            ],
            "text/plain": [
              "                  Amper_fase_T_A  Amper_fase_S_A  Amper_fase_R_A       Vab  \\\n",
              "2019-12-28 21:15        0.000000        0.000000        0.000000  0.627813   \n",
              "2020-04-26 21:20        0.000000        0.000000        0.000000  0.698488   \n",
              "2020-02-04 05:50        0.176471        0.170455        0.157895  0.703411   \n",
              "2019-12-15 19:30        0.000000        0.000000        0.000000  0.678446   \n",
              "2020-03-05 13:45        0.223529        0.215909        0.200000  0.000000   \n",
              "\n",
              "                       Vca       Vbc  temperature  windspeed  winddirection  \\\n",
              "2019-12-28 21:15  0.636568  0.626986     0.885057   0.000000       0.000000   \n",
              "2020-04-26 21:20  0.717541  0.702217     0.545977   0.202166       0.388889   \n",
              "2020-02-04 05:50  0.719268  0.676907     0.626437   0.032491       0.250000   \n",
              "2019-12-15 19:30  0.685083  0.649328     0.511494   0.137184       0.944444   \n",
              "2020-03-05 13:45  0.000000  0.000000     0.683908   0.202166       0.250000   \n",
              "\n",
              "                  abs_Kwatts  abs_Potencia  DiaSemana_Transform  \\\n",
              "2019-12-28 21:15    0.704782      0.909091             0.333333   \n",
              "2020-04-26 21:20    0.476909      0.979798             0.500000   \n",
              "2020-02-04 05:50    0.538174      0.949495             0.833333   \n",
              "2019-12-15 19:30    0.414825      0.959596             0.500000   \n",
              "2020-03-05 13:45    0.476207      0.898990             0.666667   \n",
              "\n",
              "                  Es_dia_laboral_Transform  target  \n",
              "2019-12-28 21:15                       1.0     0.0  \n",
              "2020-04-26 21:20                       1.0     0.0  \n",
              "2020-02-04 05:50                       0.0     1.0  \n",
              "2019-12-15 19:30                       1.0     0.0  \n",
              "2020-03-05 13:45                       0.0     0.0  "
            ]
          },
          "metadata": {
            "tags": []
          },
          "execution_count": 24
        }
      ]
    },
    {
      "cell_type": "code",
      "metadata": {
        "id": "q57RytYw5J-3",
        "outputId": "9fbee99c-a3e7-47b1-8673-86cb8f2d64e6",
        "colab": {
          "base_uri": "https://localhost:8080/",
          "height": 265
        }
      },
      "source": [
        "dt_normalizado_alternativa = normalize_alternativa(_ds_energia.drop(columns=['Kwatts_3_fases','Factor_de_Poten_A','outlier_Kwatts','corte_energia','es_dia_laboral','mes_desc','DiaSemana','fecha_dia','hora','Fecha']))\n",
        "dt_normalizado_alternativa.sample(3)"
      ],
      "execution_count": 25,
      "outputs": [
        {
          "output_type": "execute_result",
          "data": {
            "text/html": [
              "<div>\n",
              "<style scoped>\n",
              "    .dataframe tbody tr th:only-of-type {\n",
              "        vertical-align: middle;\n",
              "    }\n",
              "\n",
              "    .dataframe tbody tr th {\n",
              "        vertical-align: top;\n",
              "    }\n",
              "\n",
              "    .dataframe thead th {\n",
              "        text-align: right;\n",
              "    }\n",
              "</style>\n",
              "<table border=\"1\" class=\"dataframe\">\n",
              "  <thead>\n",
              "    <tr style=\"text-align: right;\">\n",
              "      <th></th>\n",
              "      <th>Amper_fase_T_A</th>\n",
              "      <th>Amper_fase_S_A</th>\n",
              "      <th>Amper_fase_R_A</th>\n",
              "      <th>Vab</th>\n",
              "      <th>Vca</th>\n",
              "      <th>Vbc</th>\n",
              "      <th>temperature</th>\n",
              "      <th>windspeed</th>\n",
              "      <th>winddirection</th>\n",
              "      <th>abs_Kwatts</th>\n",
              "      <th>abs_Potencia</th>\n",
              "      <th>DiaSemana_Transform</th>\n",
              "      <th>Es_dia_laboral_Transform</th>\n",
              "      <th>target</th>\n",
              "    </tr>\n",
              "  </thead>\n",
              "  <tbody>\n",
              "    <tr>\n",
              "      <th>2020-05-12 08:55</th>\n",
              "      <td>0.748229</td>\n",
              "      <td>0.830054</td>\n",
              "      <td>0.812678</td>\n",
              "      <td>0.535432</td>\n",
              "      <td>0.592421</td>\n",
              "      <td>0.590561</td>\n",
              "      <td>-0.203580</td>\n",
              "      <td>-0.136534</td>\n",
              "      <td>-0.580778</td>\n",
              "      <td>-0.341660</td>\n",
              "      <td>0.490295</td>\n",
              "      <td>0.998372</td>\n",
              "      <td>-0.631778</td>\n",
              "      <td>1</td>\n",
              "    </tr>\n",
              "    <tr>\n",
              "      <th>2020-05-28 17:05</th>\n",
              "      <td>1.354979</td>\n",
              "      <td>1.302490</td>\n",
              "      <td>1.343396</td>\n",
              "      <td>0.327013</td>\n",
              "      <td>0.382363</td>\n",
              "      <td>0.385062</td>\n",
              "      <td>0.488180</td>\n",
              "      <td>0.572778</td>\n",
              "      <td>-1.015661</td>\n",
              "      <td>-0.350846</td>\n",
              "      <td>-0.127704</td>\n",
              "      <td>0.499266</td>\n",
              "      <td>-0.631778</td>\n",
              "      <td>1</td>\n",
              "    </tr>\n",
              "    <tr>\n",
              "      <th>2020-03-29 21:20</th>\n",
              "      <td>-0.667520</td>\n",
              "      <td>-0.634500</td>\n",
              "      <td>-0.646794</td>\n",
              "      <td>-1.758945</td>\n",
              "      <td>-1.771301</td>\n",
              "      <td>-1.767991</td>\n",
              "      <td>1.047476</td>\n",
              "      <td>-0.136534</td>\n",
              "      <td>0.180268</td>\n",
              "      <td>0.940847</td>\n",
              "      <td>0.381236</td>\n",
              "      <td>0.000160</td>\n",
              "      <td>1.582811</td>\n",
              "      <td>0</td>\n",
              "    </tr>\n",
              "  </tbody>\n",
              "</table>\n",
              "</div>"
            ],
            "text/plain": [
              "                  Amper_fase_T_A  Amper_fase_S_A  Amper_fase_R_A       Vab  \\\n",
              "2020-05-12 08:55        0.748229        0.830054        0.812678  0.535432   \n",
              "2020-05-28 17:05        1.354979        1.302490        1.343396  0.327013   \n",
              "2020-03-29 21:20       -0.667520       -0.634500       -0.646794 -1.758945   \n",
              "\n",
              "                       Vca       Vbc  temperature  windspeed  winddirection  \\\n",
              "2020-05-12 08:55  0.592421  0.590561    -0.203580  -0.136534      -0.580778   \n",
              "2020-05-28 17:05  0.382363  0.385062     0.488180   0.572778      -1.015661   \n",
              "2020-03-29 21:20 -1.771301 -1.767991     1.047476  -0.136534       0.180268   \n",
              "\n",
              "                  abs_Kwatts  abs_Potencia  DiaSemana_Transform  \\\n",
              "2020-05-12 08:55   -0.341660      0.490295             0.998372   \n",
              "2020-05-28 17:05   -0.350846     -0.127704             0.499266   \n",
              "2020-03-29 21:20    0.940847      0.381236             0.000160   \n",
              "\n",
              "                  Es_dia_laboral_Transform  target  \n",
              "2020-05-12 08:55                 -0.631778       1  \n",
              "2020-05-28 17:05                 -0.631778       1  \n",
              "2020-03-29 21:20                  1.582811       0  "
            ]
          },
          "metadata": {
            "tags": []
          },
          "execution_count": 25
        }
      ]
    },
    {
      "cell_type": "markdown",
      "metadata": {
        "id": "zlzyJWWw5WkO"
      },
      "source": [
        "### SEPARACION DE DATOS X, y\n",
        "\n",
        "\n",
        "#### Realizamos una normalizacion con valores entre 0 y 1. En Random Forest, no es necesario normalizar, pero sí en Redes Neuronales y Regresión Lineal.\n",
        "Además, al elegir variables como temperatura (que varia entre 15 y 40) y otras como la potencia (que puede llegar a valores en torno a los 7000) es requerido normalizar la información para que las variables queden en una misma escala."
      ]
    },
    {
      "cell_type": "code",
      "metadata": {
        "id": "dmQbs2DV5Tew"
      },
      "source": [
        "# división entre entrenamiento y evaluación\n",
        "dt_normalizado = dt_normalizado.dropna()\n",
        "\n",
        "X = dt_normalizado.iloc[:, dt_normalizado.columns != 'target']\n",
        "y = dt_normalizado.target\n",
        "\n"
      ],
      "execution_count": 26,
      "outputs": []
    },
    {
      "cell_type": "markdown",
      "metadata": {
        "id": "j54OhW4VAVvN"
      },
      "source": [
        "##### Separamos los datos de Train para entrenar y validar"
      ]
    },
    {
      "cell_type": "code",
      "metadata": {
        "id": "bw_toDHT6y8Q"
      },
      "source": [
        "# división entre entrenamiento y evaluación\n",
        "X_train, X_test, y_train, y_test = train_test_split(X, y, test_size=0.2, random_state=0, shuffle=True)"
      ],
      "execution_count": 90,
      "outputs": []
    },
    {
      "cell_type": "code",
      "metadata": {
        "id": "hCs3ZqkzAaKc",
        "outputId": "b6af9c22-2d8b-4c7b-f7d4-550de069bc95",
        "colab": {
          "base_uri": "https://localhost:8080/"
        }
      },
      "source": [
        "X_train.shape, y_train.shape, X_test.shape, y_test.shape"
      ],
      "execution_count": 91,
      "outputs": [
        {
          "output_type": "execute_result",
          "data": {
            "text/plain": [
              "((52248, 13), (52248,), (13062, 13), (13062,))"
            ]
          },
          "metadata": {
            "tags": []
          },
          "execution_count": 91
        }
      ]
    },
    {
      "cell_type": "markdown",
      "metadata": {
        "id": "zXbmhj58Pcvy"
      },
      "source": [
        "## La proporción cambia al considerar también cortes de energía cuando las tensiones y corrientes están en 0.\n",
        "## Pasamos de tener una proporción de 90/10 a 53/47\n"
      ]
    },
    {
      "cell_type": "code",
      "metadata": {
        "id": "eHf35mvBAg3w",
        "outputId": "05a7eeb4-d935-4852-b08c-11fadcc27361",
        "colab": {
          "base_uri": "https://localhost:8080/"
        }
      },
      "source": [
        "print('Proporción de valor 1 y 0 en el set de training) \\n' + str(y_train.value_counts()/y_train.shape[0]) )\n",
        "print('\\nProporción de valor 1 y 0 en el set de testing) \\n' + str(y_test.value_counts()/y_test.shape[0]) )"
      ],
      "execution_count": 29,
      "outputs": [
        {
          "output_type": "stream",
          "text": [
            "Proporción de valor 1 y 0 en el set de training) \n",
            "1.0    0.532441\n",
            "0.0    0.467559\n",
            "Name: target, dtype: float64\n",
            "\n",
            "Proporción de valor 1 y 0 en el set de testing) \n",
            "1.0    0.532078\n",
            "0.0    0.467922\n",
            "Name: target, dtype: float64\n"
          ],
          "name": "stdout"
        }
      ]
    },
    {
      "cell_type": "markdown",
      "metadata": {
        "id": "V90tPQkwOA2R"
      },
      "source": [
        "#### Matriz de correlación para determinar los atributos a seleccionar para los modelos de clasificaicón\n",
        "\n"
      ]
    },
    {
      "cell_type": "code",
      "metadata": {
        "id": "2tG2oZmcAg0n",
        "outputId": "78f732cc-f0f0-4814-f4b0-17ad197cb82a",
        "colab": {
          "base_uri": "https://localhost:8080/",
          "height": 728
        }
      },
      "source": [
        "#Matriz de correlación para seleccionar las variables a utilizar\n",
        "plt.figure(figsize=(10,10))\n",
        "sns.heatmap(X_train.corr(), annot=True)"
      ],
      "execution_count": 30,
      "outputs": [
        {
          "output_type": "execute_result",
          "data": {
            "text/plain": [
              "<matplotlib.axes._subplots.AxesSubplot at 0x7fd4b10c2cf8>"
            ]
          },
          "metadata": {
            "tags": []
          },
          "execution_count": 30
        },
        {
          "output_type": "display_data",
          "data": {
            "image/png": "[encoded data removed]",
            "text/plain": [
              "<Figure size 720x720 with 2 Axes>"
            ]
          },
          "metadata": {
            "tags": [],
            "needs_background": "light"
          }
        }
      ]
    },
    {
      "cell_type": "markdown",
      "metadata": {
        "id": "_qMftuVmS5dG"
      },
      "source": [
        "Seleccionamos los atributos  abs_Kwatts y temperature"
      ]
    },
    {
      "cell_type": "code",
      "metadata": {
        "id": "K2CqaGF8Agy-"
      },
      "source": [
        "X_train = X_train[['abs_Kwatts',  'temperature']]\n",
        "X_test = X_test[['abs_Kwatts',  'temperature']]"
      ],
      "execution_count": 92,
      "outputs": []
    },
    {
      "cell_type": "markdown",
      "metadata": {
        "id": "crDZfP3DBJcq"
      },
      "source": [
        "### Aplicación de Modelos de Aprendizaje Automático Supervisado\n",
        "\n",
        "Una vez finalizada la etapa de preprocesamiento, se propone implementar diferentes modelos de regresión para el dataset seleccionado\n",
        "\n",
        "\n",
        "1.  Support Vector Machines (SVM), probando distintos kernels para la regresión.\n",
        "2.  Random Forest, utilizando parámetros de normalización cuando lo crean pertinente.\n",
        "3.  Red neuronal.\n"
      ]
    },
    {
      "cell_type": "markdown",
      "metadata": {
        "id": "b0go9MChTBTa"
      },
      "source": [
        "#### Graficamos la distribución de los puntos para las variables seleccionadas"
      ]
    },
    {
      "cell_type": "code",
      "metadata": {
        "id": "kMhILE-5Agvz",
        "outputId": "6212f312-0d8d-4f33-a2d3-2821e9e2ebf3",
        "colab": {
          "base_uri": "https://localhost:8080/",
          "height": 498
        }
      },
      "source": [
        "plt.figure(figsize=(12,8))\n",
        "sns.scatterplot(x=dt_normalizado.abs_Kwatts, \n",
        "                y=dt_normalizado.temperature,\n",
        "                hue=dt_normalizado.target, alpha=.3)\n",
        "sns.despine()\n",
        "plt.show()"
      ],
      "execution_count": 32,
      "outputs": [
        {
          "output_type": "display_data",
          "data": {
            "image/png": "[encoded data removed]",
            "text/plain": [
              "<Figure size 864x576 with 1 Axes>"
            ]
          },
          "metadata": {
            "tags": [],
            "needs_background": "light"
          }
        }
      ]
    },
    {
      "cell_type": "code",
      "metadata": {
        "id": "YKuK2do9i96G"
      },
      "source": [
        "#Para almacenar resultados de Gridsearch\n",
        "results = pd.DataFrame(columns=('clf', 'best_acc'))"
      ],
      "execution_count": 33,
      "outputs": []
    },
    {
      "cell_type": "code",
      "metadata": {
        "id": "aOEqwhLzYiiD"
      },
      "source": [
        ""
      ],
      "execution_count": 33,
      "outputs": []
    },
    {
      "cell_type": "markdown",
      "metadata": {
        "id": "V-UQBomjYjET"
      },
      "source": [
        "#### MODELO LinearSVC\n",
        "\n",
        "\n",
        "\n",
        "\n"
      ]
    },
    {
      "cell_type": "markdown",
      "metadata": {
        "id": "bEuZnXYoYrox"
      },
      "source": [
        "##### Hiperparámetros por defecto"
      ]
    },
    {
      "cell_type": "code",
      "metadata": {
        "id": "z0cp8JBBCxgc",
        "outputId": "bc37fa7f-b38e-4a9c-eb67-53d6a6209a4c",
        "colab": {
          "base_uri": "https://localhost:8080/"
        }
      },
      "source": [
        "# SOPORTE DE VECTORES (svm)\n",
        "svm_lin_reg = svm.LinearSVC()\n",
        "svm_lin_reg.fit(X_train, np.array(y_train))"
      ],
      "execution_count": 34,
      "outputs": [
        {
          "output_type": "execute_result",
          "data": {
            "text/plain": [
              "LinearSVC(C=1.0, class_weight=None, dual=True, fit_intercept=True,\n",
              "          intercept_scaling=1, loss='squared_hinge', max_iter=1000,\n",
              "          multi_class='ovr', penalty='l2', random_state=None, tol=0.0001,\n",
              "          verbose=0)"
            ]
          },
          "metadata": {
            "tags": []
          },
          "execution_count": 34
        }
      ]
    },
    {
      "cell_type": "code",
      "metadata": {
        "id": "BRMecew3GSP8"
      },
      "source": [
        "_pred_train = svm_lin_reg.predict(X_train,)\n",
        "_pred_test = svm_lin_reg.predict(X_test)"
      ],
      "execution_count": 35,
      "outputs": []
    },
    {
      "cell_type": "code",
      "metadata": {
        "id": "jyOA_bd8HnRg",
        "outputId": "6b69f445-c7e8-4e78-f52b-9a88098b13f5",
        "colab": {
          "base_uri": "https://localhost:8080/"
        }
      },
      "source": [
        "accuracy_score( np.array(y_test),_pred_test)"
      ],
      "execution_count": 36,
      "outputs": [
        {
          "output_type": "execute_result",
          "data": {
            "text/plain": [
              "0.6107793599755015"
            ]
          },
          "metadata": {
            "tags": []
          },
          "execution_count": 36
        }
      ]
    },
    {
      "cell_type": "code",
      "metadata": {
        "id": "iGRD9gsTWLYC",
        "outputId": "cef8d07f-630f-438c-e558-096df2e9cd01",
        "colab": {
          "base_uri": "https://localhost:8080/"
        }
      },
      "source": [
        "confusion_matrix(np.array(y_test),_pred_test, )"
      ],
      "execution_count": 37,
      "outputs": [
        {
          "output_type": "execute_result",
          "data": {
            "text/plain": [
              "array([[3114, 2998],\n",
              "       [2086, 4864]])"
            ]
          },
          "metadata": {
            "tags": []
          },
          "execution_count": 37
        }
      ]
    },
    {
      "cell_type": "code",
      "metadata": {
        "id": "oxbxk-vkWLNP",
        "outputId": "6d943c98-223f-4734-ff8f-81949fddb0e8",
        "colab": {
          "base_uri": "https://localhost:8080/"
        }
      },
      "source": [
        "# Reporte de clasificación para set de datos de test\n",
        "print(classification_report(np.array(y_test),_pred_test, ))"
      ],
      "execution_count": 38,
      "outputs": [
        {
          "output_type": "stream",
          "text": [
            "              precision    recall  f1-score   support\n",
            "\n",
            "         0.0       0.60      0.51      0.55      6112\n",
            "         1.0       0.62      0.70      0.66      6950\n",
            "\n",
            "    accuracy                           0.61     13062\n",
            "   macro avg       0.61      0.60      0.60     13062\n",
            "weighted avg       0.61      0.61      0.61     13062\n",
            "\n"
          ],
          "name": "stdout"
        }
      ]
    },
    {
      "cell_type": "markdown",
      "metadata": {
        "id": "NOHdLh4wXr0T"
      },
      "source": [
        "##### Búsqueda exhautiva de hiperparámetros"
      ]
    },
    {
      "cell_type": "code",
      "metadata": {
        "id": "eoLkoeoWyOOA"
      },
      "source": [
        "svm_linc_params = {\n",
        "    'C':[0.5,1.0,2], \n",
        "    'class_weight':[None, 'balanced'], \n",
        "    'dual':[True,False], \n",
        "    'fit_intercept':[True],\n",
        "    'intercept_scaling':[1], \n",
        "    'loss':['hinge','squared_hinge'], \n",
        "    'max_iter':[1000,1500,2000],\n",
        "    'multi_class':['ovr'], \n",
        "    'penalty':['l2','l1'],  \n",
        "    'tol':[0.001,0.0001, 0.00001]\n",
        "}"
      ],
      "execution_count": 39,
      "outputs": []
    },
    {
      "cell_type": "code",
      "metadata": {
        "id": "Qu24fGWmwwvf"
      },
      "source": [
        "svm_lin_c = svm.LinearSVC(random_state=0)\n",
        "\n",
        "#cross validation de 4\n",
        "gs = GridSearchCV(svm_lin_reg, svm_linc_params,scoring='accuracy', cv=4,n_jobs=-1)"
      ],
      "execution_count": 40,
      "outputs": []
    },
    {
      "cell_type": "code",
      "metadata": {
        "id": "q-NrWPtd3Et3",
        "outputId": "bbb31c02-7393-4823-c7ed-f95706320b6a",
        "colab": {
          "base_uri": "https://localhost:8080/"
        }
      },
      "source": [
        "gs.fit(X_train,np.array(y_train))"
      ],
      "execution_count": 41,
      "outputs": [
        {
          "output_type": "stream",
          "text": [
            "/usr/local/lib/python3.6/dist-packages/sklearn/svm/_base.py:947: ConvergenceWarning: Liblinear failed to converge, increase the number of iterations.\n",
            "  \"the number of iterations.\", ConvergenceWarning)\n"
          ],
          "name": "stderr"
        },
        {
          "output_type": "execute_result",
          "data": {
            "text/plain": [
              "GridSearchCV(cv=4, error_score=nan,\n",
              "             estimator=LinearSVC(C=1.0, class_weight=None, dual=True,\n",
              "                                 fit_intercept=True, intercept_scaling=1,\n",
              "                                 loss='squared_hinge', max_iter=1000,\n",
              "                                 multi_class='ovr', penalty='l2',\n",
              "                                 random_state=None, tol=0.0001, verbose=0),\n",
              "             iid='deprecated', n_jobs=-1,\n",
              "             param_grid={'C': [0.5, 1.0, 2], 'class_weight': [None, 'balanced'],\n",
              "                         'dual': [True, False], 'fit_intercept': [True],\n",
              "                         'intercept_scaling': [1],\n",
              "                         'loss': ['hinge', 'squared_hinge'],\n",
              "                         'max_iter': [1000, 1500, 2000], 'multi_class': ['ovr'],\n",
              "                         'penalty': ['l2', 'l1'],\n",
              "                         'tol': [0.001, 0.0001, 1e-05]},\n",
              "             pre_dispatch='2*n_jobs', refit=True, return_train_score=False,\n",
              "             scoring='accuracy', verbose=0)"
            ]
          },
          "metadata": {
            "tags": []
          },
          "execution_count": 41
        }
      ]
    },
    {
      "cell_type": "code",
      "metadata": {
        "id": "85Awespw3QP5",
        "outputId": "9961caf0-f755-48a6-b717-633cd9982114",
        "colab": {
          "base_uri": "https://localhost:8080/"
        }
      },
      "source": [
        "# mejores parametros para el score = accuracy\n",
        "gs.best_params_"
      ],
      "execution_count": 42,
      "outputs": [
        {
          "output_type": "execute_result",
          "data": {
            "text/plain": [
              "{'C': 2,\n",
              " 'class_weight': None,\n",
              " 'dual': True,\n",
              " 'fit_intercept': True,\n",
              " 'intercept_scaling': 1,\n",
              " 'loss': 'hinge',\n",
              " 'max_iter': 1000,\n",
              " 'multi_class': 'ovr',\n",
              " 'penalty': 'l2',\n",
              " 'tol': 0.0001}"
            ]
          },
          "metadata": {
            "tags": []
          },
          "execution_count": 42
        }
      ]
    },
    {
      "cell_type": "code",
      "metadata": {
        "id": "mXAolP1i3SpF"
      },
      "source": [
        "_pred_train = gs.best_estimator_.predict(X_train)\n",
        "_pred_test  = gs.best_estimator_.predict(X_test)"
      ],
      "execution_count": 43,
      "outputs": []
    },
    {
      "cell_type": "code",
      "metadata": {
        "id": "-PF4XHxv3XSQ",
        "outputId": "6026e34e-12ec-4caa-a308-43ab9decb55d",
        "colab": {
          "base_uri": "https://localhost:8080/"
        }
      },
      "source": [
        "accuracy_score(np.array(y_train),_pred_train)"
      ],
      "execution_count": 44,
      "outputs": [
        {
          "output_type": "execute_result",
          "data": {
            "text/plain": [
              "0.6295743377736946"
            ]
          },
          "metadata": {
            "tags": []
          },
          "execution_count": 44
        }
      ]
    },
    {
      "cell_type": "code",
      "metadata": {
        "id": "wCsqh63hchm3",
        "outputId": "4d2d3a05-4e7a-4976-a2fe-2d092482051a",
        "colab": {
          "base_uri": "https://localhost:8080/"
        }
      },
      "source": [
        "accuracy_score(np.array(y_test),_pred_test)"
      ],
      "execution_count": 45,
      "outputs": [
        {
          "output_type": "execute_result",
          "data": {
            "text/plain": [
              "0.6234879804011637"
            ]
          },
          "metadata": {
            "tags": []
          },
          "execution_count": 45
        }
      ]
    },
    {
      "cell_type": "code",
      "metadata": {
        "id": "-5tmyOv4ipZ8",
        "outputId": "61683639-867d-49e7-f363-e85bed5e523c",
        "colab": {
          "base_uri": "https://localhost:8080/"
        }
      },
      "source": [
        "results = results.append({'clf': gs, 'best_acc': gs.best_score_}, ignore_index=True)\n",
        "results['best_acc'][0]\n"
      ],
      "execution_count": 46,
      "outputs": [
        {
          "output_type": "execute_result",
          "data": {
            "text/plain": [
              "0.6296126167508804"
            ]
          },
          "metadata": {
            "tags": []
          },
          "execution_count": 46
        }
      ]
    },
    {
      "cell_type": "markdown",
      "metadata": {
        "id": "kAI43bDodQv3"
      },
      "source": [
        "### MODELO RandomForest"
      ]
    },
    {
      "cell_type": "markdown",
      "metadata": {
        "id": "wjiVidX-dUH9"
      },
      "source": [
        "##### Hiperparámetros por defector"
      ]
    },
    {
      "cell_type": "code",
      "metadata": {
        "id": "PNNJijL23r1t"
      },
      "source": [
        "rf = ensemble.RandomForestClassifier(random_state=0)"
      ],
      "execution_count": 47,
      "outputs": []
    },
    {
      "cell_type": "code",
      "metadata": {
        "id": "f_vVbZmp_H4L",
        "outputId": "88e74bba-6514-4466-ec65-c4b55e389b3a",
        "colab": {
          "base_uri": "https://localhost:8080/"
        }
      },
      "source": [
        "rf.fit(X_train, np.array(y_train))"
      ],
      "execution_count": 48,
      "outputs": [
        {
          "output_type": "execute_result",
          "data": {
            "text/plain": [
              "RandomForestClassifier(bootstrap=True, ccp_alpha=0.0, class_weight=None,\n",
              "                       criterion='gini', max_depth=None, max_features='auto',\n",
              "                       max_leaf_nodes=None, max_samples=None,\n",
              "                       min_impurity_decrease=0.0, min_impurity_split=None,\n",
              "                       min_samples_leaf=1, min_samples_split=2,\n",
              "                       min_weight_fraction_leaf=0.0, n_estimators=100,\n",
              "                       n_jobs=None, oob_score=False, random_state=0, verbose=0,\n",
              "                       warm_start=False)"
            ]
          },
          "metadata": {
            "tags": []
          },
          "execution_count": 48
        }
      ]
    },
    {
      "cell_type": "code",
      "metadata": {
        "id": "q1n7VaUJ_YGS"
      },
      "source": [
        "_pred_train = rf.predict(X_train)\n",
        "_pred_test = rf.predict(X_test)"
      ],
      "execution_count": 49,
      "outputs": []
    },
    {
      "cell_type": "code",
      "metadata": {
        "id": "96s5_7cM_b5T",
        "outputId": "b557dce0-9cd0-4de6-9493-33a5319a770a",
        "colab": {
          "base_uri": "https://localhost:8080/"
        }
      },
      "source": [
        "accuracy_score(np.array(y_train), _pred_train)"
      ],
      "execution_count": 50,
      "outputs": [
        {
          "output_type": "execute_result",
          "data": {
            "text/plain": [
              "0.9831955290154647"
            ]
          },
          "metadata": {
            "tags": []
          },
          "execution_count": 50
        }
      ]
    },
    {
      "cell_type": "code",
      "metadata": {
        "id": "aWa9-dAG_ftw",
        "outputId": "5e6b81e7-13d4-420f-d5a8-194994e12d4d",
        "colab": {
          "base_uri": "https://localhost:8080/"
        }
      },
      "source": [
        "accuracy_score(np.array(y_test), _pred_test)"
      ],
      "execution_count": 51,
      "outputs": [
        {
          "output_type": "execute_result",
          "data": {
            "text/plain": [
              "0.8098300413412953"
            ]
          },
          "metadata": {
            "tags": []
          },
          "execution_count": 51
        }
      ]
    },
    {
      "cell_type": "code",
      "metadata": {
        "id": "BDE2EfMD_nIG",
        "outputId": "9e62c854-68cf-4487-c48f-b690c1701aac",
        "colab": {
          "base_uri": "https://localhost:8080/"
        }
      },
      "source": [
        "confusion_matrix(np.array(y_test),_pred_test, )"
      ],
      "execution_count": 52,
      "outputs": [
        {
          "output_type": "execute_result",
          "data": {
            "text/plain": [
              "array([[4853, 1259],\n",
              "       [1225, 5725]])"
            ]
          },
          "metadata": {
            "tags": []
          },
          "execution_count": 52
        }
      ]
    },
    {
      "cell_type": "code",
      "metadata": {
        "id": "fhje9g8e_vtY",
        "outputId": "20c4a9b9-b0f8-4261-c39d-d27741ff56be",
        "colab": {
          "base_uri": "https://localhost:8080/"
        }
      },
      "source": [
        "print(classification_report(np.array(y_test),_pred_test, ))"
      ],
      "execution_count": 53,
      "outputs": [
        {
          "output_type": "stream",
          "text": [
            "              precision    recall  f1-score   support\n",
            "\n",
            "         0.0       0.80      0.79      0.80      6112\n",
            "         1.0       0.82      0.82      0.82      6950\n",
            "\n",
            "    accuracy                           0.81     13062\n",
            "   macro avg       0.81      0.81      0.81     13062\n",
            "weighted avg       0.81      0.81      0.81     13062\n",
            "\n"
          ],
          "name": "stdout"
        }
      ]
    },
    {
      "cell_type": "markdown",
      "metadata": {
        "id": "ncLH6PzBdl0E"
      },
      "source": [
        "##### Búsqueda exhautiva de hiperparámetros"
      ]
    },
    {
      "cell_type": "markdown",
      "metadata": {
        "id": "NIhfgi7wdyFd"
      },
      "source": [
        ""
      ]
    },
    {
      "cell_type": "code",
      "metadata": {
        "id": "MJ0d3a5CAL5I"
      },
      "source": [
        "from keras.models import Sequential\n",
        "from keras.layers import Dense"
      ],
      "execution_count": 54,
      "outputs": []
    },
    {
      "cell_type": "code",
      "metadata": {
        "id": "zjmS77QyBJ0r"
      },
      "source": [
        "#Keras usa Bias\n",
        "model = Sequential()\n",
        "model.add(Dense(4, input_dim=2, activation='relu'))\n",
        "model.add(Dense(8, activation='relu'))\n",
        "model.add(Dense(8, activation='sigmoid'))\n",
        "model.add(Dense(8, activation='sigmoid'))\n",
        "model.add(Dense(1, activation='sigmoid'))"
      ],
      "execution_count": 55,
      "outputs": []
    },
    {
      "cell_type": "code",
      "metadata": {
        "id": "R_BXaMtABJyX"
      },
      "source": [
        "model.compile(loss='binary_crossentropy', optimizer='adam', metrics=['accuracy'])"
      ],
      "execution_count": 56,
      "outputs": []
    },
    {
      "cell_type": "code",
      "metadata": {
        "id": "c3ZS-2iBBjXZ",
        "outputId": "a500e718-297f-4694-be1a-68ef30bb60d0",
        "colab": {
          "base_uri": "https://localhost:8080/"
        }
      },
      "source": [
        "model.fit(X_train, np.array(y_train),epochs=150,batch_size=25)"
      ],
      "execution_count": 57,
      "outputs": [
        {
          "output_type": "stream",
          "text": [
            "Epoch 1/150\n",
            "2090/2090 [==============================] - 3s 1ms/step - loss: 0.6465 - accuracy: 0.5976\n",
            "Epoch 2/150\n",
            "2090/2090 [==============================] - 3s 1ms/step - loss: 0.6061 - accuracy: 0.6256\n",
            "Epoch 3/150\n",
            "2090/2090 [==============================] - 2s 1ms/step - loss: 0.5938 - accuracy: 0.6222\n",
            "Epoch 4/150\n",
            "2090/2090 [==============================] - 2s 1ms/step - loss: 0.5804 - accuracy: 0.6187\n",
            "Epoch 5/150\n",
            "2090/2090 [==============================] - 3s 1ms/step - loss: 0.5701 - accuracy: 0.6209\n",
            "Epoch 6/150\n",
            "2090/2090 [==============================] - 3s 1ms/step - loss: 0.5643 - accuracy: 0.6228\n",
            "Epoch 7/150\n",
            "2090/2090 [==============================] - 3s 1ms/step - loss: 0.5614 - accuracy: 0.6202\n",
            "Epoch 8/150\n",
            "2090/2090 [==============================] - 3s 1ms/step - loss: 0.5598 - accuracy: 0.6224\n",
            "Epoch 9/150\n",
            "2090/2090 [==============================] - 3s 1ms/step - loss: 0.5589 - accuracy: 0.6238\n",
            "Epoch 10/150\n",
            "2090/2090 [==============================] - 3s 1ms/step - loss: 0.5584 - accuracy: 0.6242\n",
            "Epoch 11/150\n",
            "2090/2090 [==============================] - 3s 1ms/step - loss: 0.5579 - accuracy: 0.6252\n",
            "Epoch 12/150\n",
            "2090/2090 [==============================] - 3s 1ms/step - loss: 0.5576 - accuracy: 0.6233\n",
            "Epoch 13/150\n",
            "2090/2090 [==============================] - 3s 1ms/step - loss: 0.5576 - accuracy: 0.6263\n",
            "Epoch 14/150\n",
            "2090/2090 [==============================] - 3s 1ms/step - loss: 0.5575 - accuracy: 0.6241\n",
            "Epoch 15/150\n",
            "2090/2090 [==============================] - 3s 1ms/step - loss: 0.5575 - accuracy: 0.6247\n",
            "Epoch 16/150\n",
            "2090/2090 [==============================] - 3s 1ms/step - loss: 0.5572 - accuracy: 0.6257\n",
            "Epoch 17/150\n",
            "2090/2090 [==============================] - 3s 1ms/step - loss: 0.5571 - accuracy: 0.6241\n",
            "Epoch 18/150\n",
            "2090/2090 [==============================] - 3s 1ms/step - loss: 0.5574 - accuracy: 0.6258\n",
            "Epoch 19/150\n",
            "2090/2090 [==============================] - 3s 1ms/step - loss: 0.5572 - accuracy: 0.6233\n",
            "Epoch 20/150\n",
            "2090/2090 [==============================] - 3s 1ms/step - loss: 0.5571 - accuracy: 0.6232\n",
            "Epoch 21/150\n",
            "2090/2090 [==============================] - 3s 1ms/step - loss: 0.5572 - accuracy: 0.6256\n",
            "Epoch 22/150\n",
            "2090/2090 [==============================] - 3s 1ms/step - loss: 0.5570 - accuracy: 0.6256\n",
            "Epoch 23/150\n",
            "2090/2090 [==============================] - 3s 1ms/step - loss: 0.5568 - accuracy: 0.6271\n",
            "Epoch 24/150\n",
            "2090/2090 [==============================] - 3s 1ms/step - loss: 0.5571 - accuracy: 0.6247\n",
            "Epoch 25/150\n",
            "2090/2090 [==============================] - 3s 1ms/step - loss: 0.5569 - accuracy: 0.6260\n",
            "Epoch 26/150\n",
            "2090/2090 [==============================] - 3s 1ms/step - loss: 0.5569 - accuracy: 0.6244\n",
            "Epoch 27/150\n",
            "2090/2090 [==============================] - 3s 1ms/step - loss: 0.5570 - accuracy: 0.6245\n",
            "Epoch 28/150\n",
            "2090/2090 [==============================] - 3s 1ms/step - loss: 0.5570 - accuracy: 0.6238\n",
            "Epoch 29/150\n",
            "2090/2090 [==============================] - 3s 1ms/step - loss: 0.5570 - accuracy: 0.6243\n",
            "Epoch 30/150\n",
            "2090/2090 [==============================] - 3s 1ms/step - loss: 0.5567 - accuracy: 0.6251\n",
            "Epoch 31/150\n",
            "2090/2090 [==============================] - 3s 1ms/step - loss: 0.5568 - accuracy: 0.6265\n",
            "Epoch 32/150\n",
            "2090/2090 [==============================] - 3s 1ms/step - loss: 0.5570 - accuracy: 0.6252\n",
            "Epoch 33/150\n",
            "2090/2090 [==============================] - 3s 1ms/step - loss: 0.5567 - accuracy: 0.6276\n",
            "Epoch 34/150\n",
            "2090/2090 [==============================] - 3s 1ms/step - loss: 0.5568 - accuracy: 0.6251\n",
            "Epoch 35/150\n",
            "2090/2090 [==============================] - 3s 1ms/step - loss: 0.5568 - accuracy: 0.6250\n",
            "Epoch 36/150\n",
            "2090/2090 [==============================] - 3s 1ms/step - loss: 0.5567 - accuracy: 0.6260\n",
            "Epoch 37/150\n",
            "2090/2090 [==============================] - 3s 1ms/step - loss: 0.5567 - accuracy: 0.6246\n",
            "Epoch 38/150\n",
            "2090/2090 [==============================] - 3s 1ms/step - loss: 0.5566 - accuracy: 0.6256\n",
            "Epoch 39/150\n",
            "2090/2090 [==============================] - 3s 1ms/step - loss: 0.5568 - accuracy: 0.6257\n",
            "Epoch 40/150\n",
            "2090/2090 [==============================] - 3s 1ms/step - loss: 0.5507 - accuracy: 0.6474\n",
            "Epoch 41/150\n",
            "2090/2090 [==============================] - 3s 1ms/step - loss: 0.5415 - accuracy: 0.6638\n",
            "Epoch 42/150\n",
            "2090/2090 [==============================] - 3s 1ms/step - loss: 0.5391 - accuracy: 0.6660\n",
            "Epoch 43/150\n",
            "2090/2090 [==============================] - 3s 1ms/step - loss: 0.5383 - accuracy: 0.6696\n",
            "Epoch 44/150\n",
            "2090/2090 [==============================] - 3s 1ms/step - loss: 0.5378 - accuracy: 0.6675\n",
            "Epoch 45/150\n",
            "2090/2090 [==============================] - 3s 1ms/step - loss: 0.5375 - accuracy: 0.6689\n",
            "Epoch 46/150\n",
            "2090/2090 [==============================] - 3s 1ms/step - loss: 0.5372 - accuracy: 0.6693\n",
            "Epoch 47/150\n",
            "2090/2090 [==============================] - 3s 1ms/step - loss: 0.5368 - accuracy: 0.6701\n",
            "Epoch 48/150\n",
            "2090/2090 [==============================] - 3s 1ms/step - loss: 0.5367 - accuracy: 0.6699\n",
            "Epoch 49/150\n",
            "2090/2090 [==============================] - 3s 1ms/step - loss: 0.5365 - accuracy: 0.6694\n",
            "Epoch 50/150\n",
            "2090/2090 [==============================] - 3s 1ms/step - loss: 0.5364 - accuracy: 0.6703\n",
            "Epoch 51/150\n",
            "2090/2090 [==============================] - 3s 1ms/step - loss: 0.5359 - accuracy: 0.6705\n",
            "Epoch 52/150\n",
            "2090/2090 [==============================] - 3s 1ms/step - loss: 0.5354 - accuracy: 0.6715\n",
            "Epoch 53/150\n",
            "2090/2090 [==============================] - 3s 1ms/step - loss: 0.5349 - accuracy: 0.6723\n",
            "Epoch 54/150\n",
            "2090/2090 [==============================] - 3s 1ms/step - loss: 0.5348 - accuracy: 0.6719\n",
            "Epoch 55/150\n",
            "2090/2090 [==============================] - 3s 1ms/step - loss: 0.5345 - accuracy: 0.6708\n",
            "Epoch 56/150\n",
            "2090/2090 [==============================] - 3s 1ms/step - loss: 0.5343 - accuracy: 0.6705\n",
            "Epoch 57/150\n",
            "2090/2090 [==============================] - 2s 1ms/step - loss: 0.5339 - accuracy: 0.6711\n",
            "Epoch 58/150\n",
            "2090/2090 [==============================] - 3s 1ms/step - loss: 0.5337 - accuracy: 0.6700\n",
            "Epoch 59/150\n",
            "2090/2090 [==============================] - 3s 1ms/step - loss: 0.5334 - accuracy: 0.6704\n",
            "Epoch 60/150\n",
            "2090/2090 [==============================] - 3s 1ms/step - loss: 0.5331 - accuracy: 0.6699\n",
            "Epoch 61/150\n",
            "2090/2090 [==============================] - 3s 1ms/step - loss: 0.5326 - accuracy: 0.6686\n",
            "Epoch 62/150\n",
            "2090/2090 [==============================] - 3s 1ms/step - loss: 0.5325 - accuracy: 0.6694\n",
            "Epoch 63/150\n",
            "2090/2090 [==============================] - 2s 1ms/step - loss: 0.5323 - accuracy: 0.6688\n",
            "Epoch 64/150\n",
            "2090/2090 [==============================] - 3s 1ms/step - loss: 0.5320 - accuracy: 0.6688\n",
            "Epoch 65/150\n",
            "2090/2090 [==============================] - 3s 1ms/step - loss: 0.5316 - accuracy: 0.6685\n",
            "Epoch 66/150\n",
            "2090/2090 [==============================] - 3s 1ms/step - loss: 0.5313 - accuracy: 0.6670\n",
            "Epoch 67/150\n",
            "2090/2090 [==============================] - 3s 1ms/step - loss: 0.5312 - accuracy: 0.6677\n",
            "Epoch 68/150\n",
            "2090/2090 [==============================] - 3s 1ms/step - loss: 0.5311 - accuracy: 0.6673\n",
            "Epoch 69/150\n",
            "2090/2090 [==============================] - 3s 1ms/step - loss: 0.5307 - accuracy: 0.6676\n",
            "Epoch 70/150\n",
            "2090/2090 [==============================] - 3s 1ms/step - loss: 0.5308 - accuracy: 0.6681\n",
            "Epoch 71/150\n",
            "2090/2090 [==============================] - 3s 1ms/step - loss: 0.5305 - accuracy: 0.6687\n",
            "Epoch 72/150\n",
            "2090/2090 [==============================] - 3s 1ms/step - loss: 0.5306 - accuracy: 0.6675\n",
            "Epoch 73/150\n",
            "2090/2090 [==============================] - 3s 1ms/step - loss: 0.5304 - accuracy: 0.6680\n",
            "Epoch 74/150\n",
            "2090/2090 [==============================] - 3s 1ms/step - loss: 0.5304 - accuracy: 0.6669\n",
            "Epoch 75/150\n",
            "2090/2090 [==============================] - 3s 1ms/step - loss: 0.5301 - accuracy: 0.6669\n",
            "Epoch 76/150\n",
            "2090/2090 [==============================] - 3s 1ms/step - loss: 0.5300 - accuracy: 0.6675\n",
            "Epoch 77/150\n",
            "2090/2090 [==============================] - 3s 1ms/step - loss: 0.5302 - accuracy: 0.6680\n",
            "Epoch 78/150\n",
            "2090/2090 [==============================] - 3s 1ms/step - loss: 0.5300 - accuracy: 0.6673\n",
            "Epoch 79/150\n",
            "2090/2090 [==============================] - 3s 1ms/step - loss: 0.5299 - accuracy: 0.6674\n",
            "Epoch 80/150\n",
            "2090/2090 [==============================] - 3s 1ms/step - loss: 0.5299 - accuracy: 0.6673\n",
            "Epoch 81/150\n",
            "2090/2090 [==============================] - 3s 1ms/step - loss: 0.5301 - accuracy: 0.6676\n",
            "Epoch 82/150\n",
            "2090/2090 [==============================] - 3s 1ms/step - loss: 0.5301 - accuracy: 0.6679\n",
            "Epoch 83/150\n",
            "2090/2090 [==============================] - 3s 1ms/step - loss: 0.5300 - accuracy: 0.6672\n",
            "Epoch 84/150\n",
            "2090/2090 [==============================] - 3s 1ms/step - loss: 0.5298 - accuracy: 0.6682\n",
            "Epoch 85/150\n",
            "2090/2090 [==============================] - 3s 1ms/step - loss: 0.5298 - accuracy: 0.6675\n",
            "Epoch 86/150\n",
            "2090/2090 [==============================] - 3s 1ms/step - loss: 0.5295 - accuracy: 0.6687\n",
            "Epoch 87/150\n",
            "2090/2090 [==============================] - 3s 1ms/step - loss: 0.5294 - accuracy: 0.6672\n",
            "Epoch 88/150\n",
            "2090/2090 [==============================] - 3s 1ms/step - loss: 0.5296 - accuracy: 0.6682\n",
            "Epoch 89/150\n",
            "2090/2090 [==============================] - 2s 1ms/step - loss: 0.5296 - accuracy: 0.6670\n",
            "Epoch 90/150\n",
            "2090/2090 [==============================] - 3s 1ms/step - loss: 0.5295 - accuracy: 0.6695\n",
            "Epoch 91/150\n",
            "2090/2090 [==============================] - 3s 1ms/step - loss: 0.5293 - accuracy: 0.6690\n",
            "Epoch 92/150\n",
            "2090/2090 [==============================] - 3s 2ms/step - loss: 0.5295 - accuracy: 0.6698\n",
            "Epoch 93/150\n",
            "2090/2090 [==============================] - 5s 3ms/step - loss: 0.5294 - accuracy: 0.6695\n",
            "Epoch 94/150\n",
            "2090/2090 [==============================] - 4s 2ms/step - loss: 0.5292 - accuracy: 0.6700\n",
            "Epoch 95/150\n",
            "2090/2090 [==============================] - 3s 1ms/step - loss: 0.5294 - accuracy: 0.6696\n",
            "Epoch 96/150\n",
            "2090/2090 [==============================] - 3s 1ms/step - loss: 0.5292 - accuracy: 0.6698\n",
            "Epoch 97/150\n",
            "2090/2090 [==============================] - 3s 1ms/step - loss: 0.5293 - accuracy: 0.6709\n",
            "Epoch 98/150\n",
            "2090/2090 [==============================] - 3s 1ms/step - loss: 0.5291 - accuracy: 0.6702\n",
            "Epoch 99/150\n",
            "2090/2090 [==============================] - 3s 1ms/step - loss: 0.5291 - accuracy: 0.6702\n",
            "Epoch 100/150\n",
            "2090/2090 [==============================] - 3s 1ms/step - loss: 0.5289 - accuracy: 0.6705\n",
            "Epoch 101/150\n",
            "2090/2090 [==============================] - 3s 1ms/step - loss: 0.5291 - accuracy: 0.6710\n",
            "Epoch 102/150\n",
            "2090/2090 [==============================] - 3s 1ms/step - loss: 0.5291 - accuracy: 0.6694\n",
            "Epoch 103/150\n",
            "2090/2090 [==============================] - 3s 1ms/step - loss: 0.5291 - accuracy: 0.6704\n",
            "Epoch 104/150\n",
            "2090/2090 [==============================] - 3s 1ms/step - loss: 0.5288 - accuracy: 0.6710\n",
            "Epoch 105/150\n",
            "2090/2090 [==============================] - 4s 2ms/step - loss: 0.5288 - accuracy: 0.6710\n",
            "Epoch 106/150\n",
            "2090/2090 [==============================] - 6s 3ms/step - loss: 0.5287 - accuracy: 0.6710\n",
            "Epoch 107/150\n",
            "2090/2090 [==============================] - 3s 1ms/step - loss: 0.5288 - accuracy: 0.6705\n",
            "Epoch 108/150\n",
            "2090/2090 [==============================] - 4s 2ms/step - loss: 0.5288 - accuracy: 0.6713\n",
            "Epoch 109/150\n",
            "2090/2090 [==============================] - 5s 3ms/step - loss: 0.5290 - accuracy: 0.6710\n",
            "Epoch 110/150\n",
            "2090/2090 [==============================] - 4s 2ms/step - loss: 0.5286 - accuracy: 0.6719\n",
            "Epoch 111/150\n",
            "2090/2090 [==============================] - 3s 1ms/step - loss: 0.5284 - accuracy: 0.6700\n",
            "Epoch 112/150\n",
            "2090/2090 [==============================] - 3s 1ms/step - loss: 0.5287 - accuracy: 0.6706\n",
            "Epoch 113/150\n",
            "2090/2090 [==============================] - 3s 1ms/step - loss: 0.5286 - accuracy: 0.6715\n",
            "Epoch 114/150\n",
            "2090/2090 [==============================] - 3s 1ms/step - loss: 0.5284 - accuracy: 0.6729\n",
            "Epoch 115/150\n",
            "2090/2090 [==============================] - 3s 1ms/step - loss: 0.5285 - accuracy: 0.6716\n",
            "Epoch 116/150\n",
            "2090/2090 [==============================] - 3s 1ms/step - loss: 0.5286 - accuracy: 0.6717\n",
            "Epoch 117/150\n",
            "2090/2090 [==============================] - 3s 1ms/step - loss: 0.5285 - accuracy: 0.6709\n",
            "Epoch 118/150\n",
            "2090/2090 [==============================] - 3s 1ms/step - loss: 0.5286 - accuracy: 0.6713\n",
            "Epoch 119/150\n",
            "2090/2090 [==============================] - 3s 1ms/step - loss: 0.5284 - accuracy: 0.6698\n",
            "Epoch 120/150\n",
            "2090/2090 [==============================] - 3s 1ms/step - loss: 0.5283 - accuracy: 0.6727\n",
            "Epoch 121/150\n",
            "2090/2090 [==============================] - 3s 1ms/step - loss: 0.5286 - accuracy: 0.6712\n",
            "Epoch 122/150\n",
            "2090/2090 [==============================] - 3s 1ms/step - loss: 0.5285 - accuracy: 0.6707\n",
            "Epoch 123/150\n",
            "2090/2090 [==============================] - 3s 1ms/step - loss: 0.5283 - accuracy: 0.6726\n",
            "Epoch 124/150\n",
            "2090/2090 [==============================] - 3s 1ms/step - loss: 0.5280 - accuracy: 0.6719\n",
            "Epoch 125/150\n",
            "2090/2090 [==============================] - 3s 1ms/step - loss: 0.5284 - accuracy: 0.6718\n",
            "Epoch 126/150\n",
            "2090/2090 [==============================] - 3s 1ms/step - loss: 0.5283 - accuracy: 0.6717\n",
            "Epoch 127/150\n",
            "2090/2090 [==============================] - 3s 1ms/step - loss: 0.5283 - accuracy: 0.6714\n",
            "Epoch 128/150\n",
            "2090/2090 [==============================] - 3s 1ms/step - loss: 0.5285 - accuracy: 0.6714\n",
            "Epoch 129/150\n",
            "2090/2090 [==============================] - 3s 1ms/step - loss: 0.5283 - accuracy: 0.6730\n",
            "Epoch 130/150\n",
            "2090/2090 [==============================] - 3s 1ms/step - loss: 0.5283 - accuracy: 0.6725\n",
            "Epoch 131/150\n",
            "2090/2090 [==============================] - 3s 1ms/step - loss: 0.5282 - accuracy: 0.6730\n",
            "Epoch 132/150\n",
            "2090/2090 [==============================] - 3s 1ms/step - loss: 0.5282 - accuracy: 0.6741\n",
            "Epoch 133/150\n",
            "2090/2090 [==============================] - 3s 1ms/step - loss: 0.5281 - accuracy: 0.6733\n",
            "Epoch 134/150\n",
            "2090/2090 [==============================] - 3s 1ms/step - loss: 0.5282 - accuracy: 0.6727\n",
            "Epoch 135/150\n",
            "2090/2090 [==============================] - 3s 1ms/step - loss: 0.5283 - accuracy: 0.6722\n",
            "Epoch 136/150\n",
            "2090/2090 [==============================] - 3s 1ms/step - loss: 0.5282 - accuracy: 0.6732\n",
            "Epoch 137/150\n",
            "2090/2090 [==============================] - 5s 2ms/step - loss: 0.5279 - accuracy: 0.6726\n",
            "Epoch 138/150\n",
            "2090/2090 [==============================] - 5s 2ms/step - loss: 0.5280 - accuracy: 0.6730\n",
            "Epoch 139/150\n",
            "2090/2090 [==============================] - 4s 2ms/step - loss: 0.5281 - accuracy: 0.6741\n",
            "Epoch 140/150\n",
            "2090/2090 [==============================] - 3s 1ms/step - loss: 0.5281 - accuracy: 0.6730\n",
            "Epoch 141/150\n",
            "2090/2090 [==============================] - 3s 1ms/step - loss: 0.5281 - accuracy: 0.6723\n",
            "Epoch 142/150\n",
            "2090/2090 [==============================] - 3s 1ms/step - loss: 0.5281 - accuracy: 0.6736\n",
            "Epoch 143/150\n",
            "2090/2090 [==============================] - 3s 1ms/step - loss: 0.5279 - accuracy: 0.6735\n",
            "Epoch 144/150\n",
            "2090/2090 [==============================] - 3s 1ms/step - loss: 0.5280 - accuracy: 0.6722\n",
            "Epoch 145/150\n",
            "2090/2090 [==============================] - 3s 1ms/step - loss: 0.5278 - accuracy: 0.6719\n",
            "Epoch 146/150\n",
            "2090/2090 [==============================] - 3s 1ms/step - loss: 0.5281 - accuracy: 0.6724\n",
            "Epoch 147/150\n",
            "2090/2090 [==============================] - 3s 1ms/step - loss: 0.5279 - accuracy: 0.6727\n",
            "Epoch 148/150\n",
            "2090/2090 [==============================] - 3s 1ms/step - loss: 0.5278 - accuracy: 0.6718\n",
            "Epoch 149/150\n",
            "2090/2090 [==============================] - 3s 1ms/step - loss: 0.5279 - accuracy: 0.6731\n",
            "Epoch 150/150\n",
            "2090/2090 [==============================] - 3s 1ms/step - loss: 0.5279 - accuracy: 0.6729\n"
          ],
          "name": "stdout"
        },
        {
          "output_type": "execute_result",
          "data": {
            "text/plain": [
              "<tensorflow.python.keras.callbacks.History at 0x7fd47535cc18>"
            ]
          },
          "metadata": {
            "tags": []
          },
          "execution_count": 57
        }
      ]
    },
    {
      "cell_type": "code",
      "metadata": {
        "id": "OT_S5LwhBMqB",
        "outputId": "dc7b8e83-88d1-4398-ca0a-eadd6f4693e2",
        "colab": {
          "base_uri": "https://localhost:8080/"
        }
      },
      "source": [
        "_, accuracy = model.evaluate(X_test, np.array(y_test))\n",
        "print('Accuracy: %.2f' % (accuracy*100))"
      ],
      "execution_count": 58,
      "outputs": [
        {
          "output_type": "stream",
          "text": [
            "409/409 [==============================] - 0s 1ms/step - loss: 0.5289 - accuracy: 0.6752\n",
            "Accuracy: 67.52\n"
          ],
          "name": "stdout"
        }
      ]
    },
    {
      "cell_type": "code",
      "metadata": {
        "id": "MOBzyCzLGqRL",
        "outputId": "86dda613-d894-4ca1-87cb-2f8c9dadbec0",
        "colab": {
          "base_uri": "https://localhost:8080/"
        }
      },
      "source": [
        "_, accuracy = model.evaluate(X_train, np.array(y_train))\n",
        "print('Accuracy: %.2f' % (accuracy*100))"
      ],
      "execution_count": 59,
      "outputs": [
        {
          "output_type": "stream",
          "text": [
            "1633/1633 [==============================] - 2s 1ms/step - loss: 0.5268 - accuracy: 0.6749\n",
            "Accuracy: 67.49\n"
          ],
          "name": "stdout"
        }
      ]
    },
    {
      "cell_type": "markdown",
      "metadata": {
        "id": "6-oetB4Jf6MG"
      },
      "source": [
        ""
      ]
    },
    {
      "cell_type": "markdown",
      "metadata": {
        "id": "x13I2B7bf56P"
      },
      "source": [
        ""
      ]
    },
    {
      "cell_type": "code",
      "metadata": {
        "id": "j_s7qLP3ftDx",
        "outputId": "05630dd7-0b8d-4da8-d1e4-1861b775baa7",
        "colab": {
          "base_uri": "https://localhost:8080/"
        }
      },
      "source": [
        "# Clasificacion por voto\n",
        "\n",
        "#definir modelos a usar en la clasificacion\n",
        "\n",
        "rf = ensemble.RandomForestClassifier(random_state=0,)\n",
        "clf = tree.DecisionTreeClassifier(random_state=0,)\n",
        "clf.fit(X_train,y_train)\n",
        "rf.fit(X_train,y_train)"
      ],
      "execution_count": 60,
      "outputs": [
        {
          "output_type": "execute_result",
          "data": {
            "text/plain": [
              "RandomForestClassifier(bootstrap=True, ccp_alpha=0.0, class_weight=None,\n",
              "                       criterion='gini', max_depth=None, max_features='auto',\n",
              "                       max_leaf_nodes=None, max_samples=None,\n",
              "                       min_impurity_decrease=0.0, min_impurity_split=None,\n",
              "                       min_samples_leaf=1, min_samples_split=2,\n",
              "                       min_weight_fraction_leaf=0.0, n_estimators=100,\n",
              "                       n_jobs=None, oob_score=False, random_state=0, verbose=0,\n",
              "                       warm_start=False)"
            ]
          },
          "metadata": {
            "tags": []
          },
          "execution_count": 60
        }
      ]
    },
    {
      "cell_type": "code",
      "metadata": {
        "id": "UH-O80hUftAg"
      },
      "source": [
        "# Creamos la clase de votacion\n",
        "\n",
        "vot= ensemble.VotingClassifier(estimators=[ ('rf', rf), ('dt', clf)], voting='hard')\n",
        "vot = vot.fit(X_train, np.array(y_train))"
      ],
      "execution_count": 61,
      "outputs": []
    },
    {
      "cell_type": "code",
      "metadata": {
        "id": "5O7Kg9UQNVAH"
      },
      "source": [
        "y_pred_train_vot = vot.predict(X_train)\n",
        "y_pred_valid_vot = vot.predict(X_test)"
      ],
      "execution_count": 62,
      "outputs": []
    },
    {
      "cell_type": "code",
      "metadata": {
        "id": "yVX3HSmiNd51",
        "outputId": "6a8fbde8-ff88-4e43-f245-0ea05e489933",
        "colab": {
          "base_uri": "https://localhost:8080/",
          "height": 88
        }
      },
      "source": [
        "display(\"Precisión Train:\",accuracy_score(np.array(y_train),y_pred_train_vot ) )\n",
        "display(\"Precisión Valid:\", accuracy_score(np.array(y_test),y_pred_valid_vot ) )"
      ],
      "execution_count": 63,
      "outputs": [
        {
          "output_type": "display_data",
          "data": {
            "application/vnd.google.colaboratory.intrinsic+json": {
              "type": "string"
            },
            "text/plain": [
              "'Precisión Train:'"
            ]
          },
          "metadata": {
            "tags": []
          }
        },
        {
          "output_type": "display_data",
          "data": {
            "text/plain": [
              "0.9832146685040576"
            ]
          },
          "metadata": {
            "tags": []
          }
        },
        {
          "output_type": "display_data",
          "data": {
            "application/vnd.google.colaboratory.intrinsic+json": {
              "type": "string"
            },
            "text/plain": [
              "'Precisión Valid:'"
            ]
          },
          "metadata": {
            "tags": []
          }
        },
        {
          "output_type": "display_data",
          "data": {
            "text/plain": [
              "0.8042413106721789"
            ]
          },
          "metadata": {
            "tags": []
          }
        }
      ]
    },
    {
      "cell_type": "code",
      "metadata": {
        "id": "Dtyng-2hNl6u",
        "outputId": "c395735c-b569-41f9-8b1a-92a615a59235",
        "colab": {
          "base_uri": "https://localhost:8080/"
        }
      },
      "source": [
        "confusion_matrix(np.array(y_test),y_pred_valid_vot, )"
      ],
      "execution_count": 64,
      "outputs": [
        {
          "output_type": "execute_result",
          "data": {
            "text/plain": [
              "array([[4995, 1117],\n",
              "       [1440, 5510]])"
            ]
          },
          "metadata": {
            "tags": []
          },
          "execution_count": 64
        }
      ]
    },
    {
      "cell_type": "code",
      "metadata": {
        "id": "XjIBWYYIOFP7",
        "outputId": "a6afab12-d3f5-41e3-fffe-55f48fdca25a",
        "colab": {
          "base_uri": "https://localhost:8080/"
        }
      },
      "source": [
        "confusion_matrix(np.array(y_train),y_pred_train_vot, )"
      ],
      "execution_count": 65,
      "outputs": [
        {
          "output_type": "execute_result",
          "data": {
            "text/plain": [
              "array([[24329,   100],\n",
              "       [  777, 27042]])"
            ]
          },
          "metadata": {
            "tags": []
          },
          "execution_count": 65
        }
      ]
    },
    {
      "cell_type": "code",
      "metadata": {
        "id": "qNkgjp4CsnIb"
      },
      "source": [
        "#AdaBoost   "
      ],
      "execution_count": 66,
      "outputs": []
    },
    {
      "cell_type": "code",
      "metadata": {
        "id": "0lPsKrgCsnF8"
      },
      "source": [
        "from sklearn.ensemble import AdaBoostClassifier\n"
      ],
      "execution_count": 67,
      "outputs": []
    },
    {
      "cell_type": "code",
      "metadata": {
        "id": "UAEoL_9OsnB_"
      },
      "source": [
        "ab_params ={ 'n_estimators': [500,800]\n",
        "}"
      ],
      "execution_count": 68,
      "outputs": []
    },
    {
      "cell_type": "code",
      "metadata": {
        "id": "H8UR2TLptHI1"
      },
      "source": [
        "ada = AdaBoostClassifier()"
      ],
      "execution_count": 69,
      "outputs": []
    },
    {
      "cell_type": "code",
      "metadata": {
        "id": "qirfnceptHGF",
        "outputId": "d24abcde-0d5e-432e-f0ff-e1f82dc67c27",
        "colab": {
          "base_uri": "https://localhost:8080/"
        }
      },
      "source": [
        "gs= GridSearchCV(ada, ab_params, cv=4, scoring='accuracy', n_jobs=-1)\n",
        "gs.fit(X_train, y_train) "
      ],
      "execution_count": 70,
      "outputs": [
        {
          "output_type": "execute_result",
          "data": {
            "text/plain": [
              "GridSearchCV(cv=4, error_score=nan,\n",
              "             estimator=AdaBoostClassifier(algorithm='SAMME.R',\n",
              "                                          base_estimator=None,\n",
              "                                          learning_rate=1.0, n_estimators=50,\n",
              "                                          random_state=None),\n",
              "             iid='deprecated', n_jobs=-1,\n",
              "             param_grid={'n_estimators': [500, 800]}, pre_dispatch='2*n_jobs',\n",
              "             refit=True, return_train_score=False, scoring='accuracy',\n",
              "             verbose=0)"
            ]
          },
          "metadata": {
            "tags": []
          },
          "execution_count": 70
        }
      ]
    },
    {
      "cell_type": "code",
      "metadata": {
        "id": "GcfShw3atHDu",
        "outputId": "83a24978-fa89-43ee-8f6c-177e47dfa120",
        "colab": {
          "base_uri": "https://localhost:8080/"
        }
      },
      "source": [
        "gs.best_estimator_"
      ],
      "execution_count": 71,
      "outputs": [
        {
          "output_type": "execute_result",
          "data": {
            "text/plain": [
              "AdaBoostClassifier(algorithm='SAMME.R', base_estimator=None, learning_rate=1.0,\n",
              "                   n_estimators=800, random_state=None)"
            ]
          },
          "metadata": {
            "tags": []
          },
          "execution_count": 71
        }
      ]
    },
    {
      "cell_type": "code",
      "metadata": {
        "id": "A-HVqlWTtP8u",
        "outputId": "f0d3efba-6cb1-4fda-cde4-e8e129c6687d",
        "colab": {
          "base_uri": "https://localhost:8080/"
        }
      },
      "source": [
        "gs.best_params_"
      ],
      "execution_count": 72,
      "outputs": [
        {
          "output_type": "execute_result",
          "data": {
            "text/plain": [
              "{'n_estimators': 800}"
            ]
          },
          "metadata": {
            "tags": []
          },
          "execution_count": 72
        }
      ]
    },
    {
      "cell_type": "code",
      "metadata": {
        "id": "XsORWqQetQum"
      },
      "source": [
        "y_pred_train_ada = gs.best_estimator_.predict(X_train)\n",
        "y_pred_valid_ada = gs.best_estimator_.predict(X_test)"
      ],
      "execution_count": 73,
      "outputs": []
    },
    {
      "cell_type": "code",
      "metadata": {
        "id": "bSEkN932tQsC",
        "outputId": "70564659-9903-402f-eae5-a1e2653ccb7c",
        "colab": {
          "base_uri": "https://localhost:8080/",
          "height": 88
        }
      },
      "source": [
        "display(\"Precisión Train:\",accuracy_score(y_train,y_pred_train_ada ) )\n",
        "display(\"Precisión Valid:\", accuracy_score(y_test,y_pred_valid_ada ) )"
      ],
      "execution_count": 74,
      "outputs": [
        {
          "output_type": "display_data",
          "data": {
            "application/vnd.google.colaboratory.intrinsic+json": {
              "type": "string"
            },
            "text/plain": [
              "'Precisión Train:'"
            ]
          },
          "metadata": {
            "tags": []
          }
        },
        {
          "output_type": "display_data",
          "data": {
            "text/plain": [
              "0.7617707854846119"
            ]
          },
          "metadata": {
            "tags": []
          }
        },
        {
          "output_type": "display_data",
          "data": {
            "application/vnd.google.colaboratory.intrinsic+json": {
              "type": "string"
            },
            "text/plain": [
              "'Precisión Valid:'"
            ]
          },
          "metadata": {
            "tags": []
          }
        },
        {
          "output_type": "display_data",
          "data": {
            "text/plain": [
              "0.7550145460113306"
            ]
          },
          "metadata": {
            "tags": []
          }
        }
      ]
    },
    {
      "cell_type": "code",
      "metadata": {
        "id": "_WpwvuX1tQpS",
        "outputId": "51a8dcef-e527-4324-d813-d897c7497ee8",
        "colab": {
          "base_uri": "https://localhost:8080/",
          "height": 172
        }
      },
      "source": [
        "pd.crosstab(y_test,y_pred_valid_ada , rownames=['True'], colnames=['Predicción'], margins=True)"
      ],
      "execution_count": 75,
      "outputs": [
        {
          "output_type": "execute_result",
          "data": {
            "text/html": [
              "<div>\n",
              "<style scoped>\n",
              "    .dataframe tbody tr th:only-of-type {\n",
              "        vertical-align: middle;\n",
              "    }\n",
              "\n",
              "    .dataframe tbody tr th {\n",
              "        vertical-align: top;\n",
              "    }\n",
              "\n",
              "    .dataframe thead th {\n",
              "        text-align: right;\n",
              "    }\n",
              "</style>\n",
              "<table border=\"1\" class=\"dataframe\">\n",
              "  <thead>\n",
              "    <tr style=\"text-align: right;\">\n",
              "      <th>Predicción</th>\n",
              "      <th>0.0</th>\n",
              "      <th>1.0</th>\n",
              "      <th>All</th>\n",
              "    </tr>\n",
              "    <tr>\n",
              "      <th>True</th>\n",
              "      <th></th>\n",
              "      <th></th>\n",
              "      <th></th>\n",
              "    </tr>\n",
              "  </thead>\n",
              "  <tbody>\n",
              "    <tr>\n",
              "      <th>0.0</th>\n",
              "      <td>4528</td>\n",
              "      <td>1584</td>\n",
              "      <td>6112</td>\n",
              "    </tr>\n",
              "    <tr>\n",
              "      <th>1.0</th>\n",
              "      <td>1616</td>\n",
              "      <td>5334</td>\n",
              "      <td>6950</td>\n",
              "    </tr>\n",
              "    <tr>\n",
              "      <th>All</th>\n",
              "      <td>6144</td>\n",
              "      <td>6918</td>\n",
              "      <td>13062</td>\n",
              "    </tr>\n",
              "  </tbody>\n",
              "</table>\n",
              "</div>"
            ],
            "text/plain": [
              "Predicción   0.0   1.0    All\n",
              "True                         \n",
              "0.0         4528  1584   6112\n",
              "1.0         1616  5334   6950\n",
              "All         6144  6918  13062"
            ]
          },
          "metadata": {
            "tags": []
          },
          "execution_count": 75
        }
      ]
    },
    {
      "cell_type": "markdown",
      "metadata": {
        "id": "OwrrR_Mfsb-O"
      },
      "source": [
        "## Selección del modelo:\n",
        "\n",
        "¿Por qué eligieron el modelo, el regularizador y la función de costo previas?\n",
        "\n",
        "Finalmente, para el modelo selecionado:\n",
        "\n",
        "- Utilizar el método *Grid Search*, o de búsqueda exahustiva, con *cross-validation* para profundizar en la búsqueda y selección de hiperparámetros (fine tuning).\n",
        "- Calcular métricas sobre el conjunto de entrenamiento y de evaluación para los mejores parámetros obtenidos:\n",
        "   + Mean Absolute Error (MAE)\n",
        "   + Mean Squared Error (MSE)\n",
        "   + R2 Score\n",
        "   + Explaned Variance Score"
      ]
    },
    {
      "cell_type": "code",
      "metadata": {
        "id": "cWwoDawRs_xX",
        "outputId": "638997ac-b161-453b-b659-470b0c6b6322",
        "colab": {
          "base_uri": "https://localhost:8080/",
          "height": 498
        }
      },
      "source": [
        "from itertools import product\n",
        "#Plot the decision boundaries of a VotingClassifier\n",
        "# Plotting decision regions\n",
        "x_min, x_max = np.array(X)[:, 0].min() - 1, np.array(X)[:, 0].max() + 1\n",
        "y_min, y_max = np.array(X)[:, 1].min() - 1, np.array(X)[:, 1].max() + 1\n",
        "xx, yy = np.meshgrid(np.arange(x_min, x_max, 0.1),\n",
        "                     np.arange(y_min, y_max, 0.1))\n",
        "\n",
        "f, axarr = plt.subplots(2, 2, sharex='col', sharey='row', figsize=(10, 8))\n",
        "\n",
        "for idx, clf2, tt in zip(product([0, 1], [0, 1]),\n",
        "                        [rf,clf,rf, vot],\n",
        "                        ['Decision Tree', 'RandomForest',\n",
        "                         'RandomForest', 'Hard Voting']):\n",
        "\n",
        "    Z = clf2.predict(np.c_[xx.ravel(), yy.ravel()])\n",
        "    Z = Z.reshape(xx.shape)\n",
        "\n",
        "    axarr[idx[0], idx[1]].contourf(xx, yy, Z, alpha=0.4)\n",
        "    axarr[idx[0], idx[1]].scatter(np.array(X)[:, 0], np.array(X)[:, 1], c=y,\n",
        "                                  s=20, edgecolor='k')\n",
        "    axarr[idx[0], idx[1]].set_title(tt)\n",
        "\n",
        "plt.show()"
      ],
      "execution_count": 76,
      "outputs": [
        {
          "output_type": "display_data",
          "data": {
            "image/png": "[encoded data removed]",
            "text/plain": [
              "<Figure size 720x576 with 4 Axes>"
            ]
          },
          "metadata": {
            "tags": [],
            "needs_background": "light"
          }
        }
      ]
    },
    {
      "cell_type": "markdown",
      "metadata": {
        "id": "Nc9gSa7g9W1O"
      },
      "source": [
        "### El modelo seleccionado que mejor se adapta al problema es **RandomForest**\n",
        "\n",
        "Nuestro problema es determinar si la distribución de energía está cortada o no, por ende, es un problema de caracter Binario.\n",
        "\n",
        "Nuestra hipótesis, es que la variable target va a ser igual a 0 cuando no haya distribución de energía, y 1 cuando no esté cortada la distribución.\n",
        "\n",
        "Debido a la distribución de los puntos como se ven en el scartplot, no hay una función lineal o polinomial que permita seprar las clases facilmente.\n",
        "\n",
        "Esto se debe a que se tomo como clase \"Sin energia\" aquellos registros que tenian no solo un valor de potencia < 100 kw sino tmabién los que presentaban valores incorrectos en tensión o corriendo (ya que son atributos del que depende la potencia). Si no hay tensión o no hay corriente no puede haber potencia, por lo que los valores NAN o negativos en tensión (en sus tres tipos) o corriente \"activa\" se lo considera un \"corte de energía\" \n",
        "\n",
        "Sin esta consideranción, los puntos se distribuían de tal forma que un clasificador lineal permitían separar las clases con un 100% de presición."
      ]
    },
    {
      "cell_type": "code",
      "metadata": {
        "id": "GnlN_uZx5d5C",
        "outputId": "32532565-781e-4ac3-8f50-d9b037f3e5d6",
        "colab": {
          "base_uri": "https://localhost:8080/"
        }
      },
      "source": [
        "# división entre entrenamiento y evaluación con todos los atributos\n",
        "#X_train, X_test, y_train, y_test = train_test_split(X, y, test_size=0.25, random_state=1, shuffle=True)\n",
        "X_train.shape, X_test.shape, y_train.shape, y_test.shape"
      ],
      "execution_count": 93,
      "outputs": [
        {
          "output_type": "execute_result",
          "data": {
            "text/plain": [
              "((52248, 2), (13062, 2), (52248,), (13062,))"
            ]
          },
          "metadata": {
            "tags": []
          },
          "execution_count": 93
        }
      ]
    },
    {
      "cell_type": "markdown",
      "metadata": {
        "id": "z1i2pLw5-m0w"
      },
      "source": [
        "##### Búsqueda de hiperparametros para RandomForest"
      ]
    },
    {
      "cell_type": "code",
      "metadata": {
        "id": "25P_KtsDs143",
        "outputId": "c5948703-b61c-4ee6-8198-af85a593d4dc",
        "colab": {
          "base_uri": "https://localhost:8080/"
        }
      },
      "source": [
        "parameters = {\n",
        "    'n_estimators' : [100,150,200],\n",
        "     'random_state' : [3,4,5],\n",
        "    'max_features' : ['auto'],\n",
        "    'criterion'    : ['gini','entropy']\n",
        "}\n",
        "\n",
        "model=RandomForestClassifier(random_state=0)\n",
        "randomtree_clf = GridSearchCV(model, parameters, scoring='accuracy', cv=5)\n",
        "randomtree_clf.fit(X_train, np.array(y_train))"
      ],
      "execution_count": 106,
      "outputs": [
        {
          "output_type": "execute_result",
          "data": {
            "text/plain": [
              "GridSearchCV(cv=5, error_score=nan,\n",
              "             estimator=RandomForestClassifier(bootstrap=True, ccp_alpha=0.0,\n",
              "                                              class_weight=None,\n",
              "                                              criterion='gini', max_depth=None,\n",
              "                                              max_features='auto',\n",
              "                                              max_leaf_nodes=None,\n",
              "                                              max_samples=None,\n",
              "                                              min_impurity_decrease=0.0,\n",
              "                                              min_impurity_split=None,\n",
              "                                              min_samples_leaf=1,\n",
              "                                              min_samples_split=2,\n",
              "                                              min_weight_fraction_leaf=0.0,\n",
              "                                              n_estimators=100, n_jobs=None,\n",
              "                                              oob_score=False, random_state=0,\n",
              "                                              verbose=0, warm_start=False),\n",
              "             iid='deprecated', n_jobs=None,\n",
              "             param_grid={'criterion': ['gini', 'entropy'],\n",
              "                         'max_features': ['auto'],\n",
              "                         'n_estimators': [100, 150, 200],\n",
              "                         'random_state': [3, 4, 5]},\n",
              "             pre_dispatch='2*n_jobs', refit=True, return_train_score=False,\n",
              "             scoring='accuracy', verbose=0)"
            ]
          },
          "metadata": {
            "tags": []
          },
          "execution_count": 106
        }
      ]
    },
    {
      "cell_type": "code",
      "metadata": {
        "id": "bi28Ypu9mrSe",
        "outputId": "c4cc9fe8-7316-4746-e7cb-8d7e7ce53576",
        "colab": {
          "base_uri": "https://localhost:8080/"
        }
      },
      "source": [
        "print(\"best mean cross-validation score: {:.3f}\".format(randomtree_clf.best_score_))\n",
        "print(\"best parameters:\", randomtree_clf.best_params_)\n",
        "print(\"test-set score: {:.3f}\".format(randomtree_clf.score(X_test, y_test)))\n"
      ],
      "execution_count": 107,
      "outputs": [
        {
          "output_type": "stream",
          "text": [
            "best mean cross-validation score: 0.812\n",
            "best parameters: {'criterion': 'entropy', 'max_features': 'auto', 'n_estimators': 150, 'random_state': 3}\n",
            "test-set score: 0.811\n"
          ],
          "name": "stdout"
        }
      ]
    },
    {
      "cell_type": "code",
      "metadata": {
        "id": "zf7qqPB3szDr",
        "outputId": "9a08bf1d-e76c-4ea7-de37-736615386bdc",
        "colab": {
          "base_uri": "https://localhost:8080/",
          "height": 52
        }
      },
      "source": [
        "y_pred = randomtree_clf.best_estimator_.predict(X_test)\n",
        "\n",
        "display(\"Precisión Valid:\", accuracy_score(y_test,y_pred ))"
      ],
      "execution_count": 115,
      "outputs": [
        {
          "output_type": "display_data",
          "data": {
            "application/vnd.google.colaboratory.intrinsic+json": {
              "type": "string"
            },
            "text/plain": [
              "'Precisión Valid:'"
            ]
          },
          "metadata": {
            "tags": []
          }
        },
        {
          "output_type": "display_data",
          "data": {
            "text/plain": [
              "0.8112080845199816"
            ]
          },
          "metadata": {
            "tags": []
          }
        }
      ]
    },
    {
      "cell_type": "code",
      "metadata": {
        "id": "qlBvPzYOr2Fn",
        "outputId": "a69b0597-c927-464b-f4c8-148a16ee4905",
        "colab": {
          "base_uri": "https://localhost:8080/"
        }
      },
      "source": [
        "scoring = [ 'neg_mean_absolute_error','r2','neg_mean_squared_error','explained_variance']\n",
        "randomtree_clf.best_params_"
      ],
      "execution_count": 121,
      "outputs": [
        {
          "output_type": "execute_result",
          "data": {
            "text/plain": [
              "{'criterion': 'entropy',\n",
              " 'max_features': 'auto',\n",
              " 'n_estimators': 150,\n",
              " 'random_state': 3}"
            ]
          },
          "metadata": {
            "tags": []
          },
          "execution_count": 121
        }
      ]
    },
    {
      "cell_type": "code",
      "metadata": {
        "id": "GuMXuySdiqJX",
        "outputId": "68fa4ac8-b7fb-4da5-9ed8-275528076c3c",
        "colab": {
          "base_uri": "https://localhost:8080/"
        }
      },
      "source": [
        "print(mean_absolute_error(y_test,y_pred))\n",
        "print(mean_squared_error(y_test,y_pred))\n",
        "print(r2_score(y_test,y_pred))\n",
        "print(explained_variance_score(y_test,y_pred))"
      ],
      "execution_count": 129,
      "outputs": [
        {
          "output_type": "stream",
          "text": [
            "0.18879191548001836\n",
            "0.18879191548001836\n",
            "0.24171126972767332\n",
            "0.24173245696636392\n"
          ],
          "name": "stdout"
        }
      ]
    },
    {
      "cell_type": "markdown",
      "metadata": {
        "id": "I4wvzrfh_7tU"
      },
      "source": [
        ""
      ]
    },
    {
      "cell_type": "code",
      "metadata": {
        "id": "sGnQ3lan_8EV"
      },
      "source": [
        ""
      ],
      "execution_count": null,
      "outputs": []
    }
  ]
}