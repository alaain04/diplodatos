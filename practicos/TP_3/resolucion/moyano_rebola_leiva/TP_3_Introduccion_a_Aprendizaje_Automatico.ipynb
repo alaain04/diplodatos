{
  "nbformat": 4,
  "nbformat_minor": 0,
  "metadata": {
    "kernelspec": {
      "display_name": "Python 3",
      "language": "python",
      "name": "python3"
    },
    "language_info": {
      "codemirror_mode": {
        "name": "ipython",
        "version": 3
      },
      "file_extension": ".py",
      "mimetype": "text/x-python",
      "name": "python",
      "nbconvert_exporter": "python",
      "pygments_lexer": "ipython3",
      "version": "3.8.3"
    },
    "colab": {
      "name": "TP_3_Introduccion_a_Aprendizaje_Automatico.ipynb",
      "provenance": [],
      "collapsed_sections": []
    }
  },
  "cells": [
    {
      "cell_type": "markdown",
      "metadata": {
        "id": "QcCkI6pO02VU",
        "colab_type": "text"
      },
      "source": [
        "# Mentoría"
      ]
    },
    {
      "cell_type": "markdown",
      "metadata": {
        "id": "uDjuSEoe02Vb",
        "colab_type": "text"
      },
      "source": [
        "## Introduccion al Aprendizaje Automático"
      ]
    },
    {
      "cell_type": "markdown",
      "metadata": {
        "id": "0jQOnBbN02Vg",
        "colab_type": "text"
      },
      "source": [
        "### Introducción"
      ]
    },
    {
      "cell_type": "markdown",
      "metadata": {
        "id": "YNOZDSqu02Vi",
        "colab_type": "text"
      },
      "source": [
        "En la siguiente notebook se presentará la consigna a seguir para el tercer práctico del proyecto, correspondiente a la materia Introducción al Aprendizaje Automático. El objetivo consiste en explorar la aplicación de diferentes métodos de aprendizaje supervisado aprendidos en el curso, a través de experimentos reproducibles, y evaluando a su vez la conveniencia de uno u otro, así como la selección de diferentes hiperparámetros a partir del cálculo de las métricas pertinentes.\n",
        "\n",
        "En el caso de nuestro proyecto, nos enfrentamos originalmente a un problema de prediccion ----------------. Sin embargo, a los fines de este práctico, lo transformaremos en un problema de clasificación binario, adaptando las el feature objetivo del dataset. Además, será importante evaluar el desbalance de clases y qué decisiones tomaremos al respecto.\n",
        "\n",
        "Para ello, comenzaremos con las importaciones pertinentes.\n"
      ]
    },
    {
      "cell_type": "markdown",
      "metadata": {
        "id": "JN2pqD8X02Vm",
        "colab_type": "text"
      },
      "source": [
        "### Importaciones"
      ]
    },
    {
      "cell_type": "code",
      "metadata": {
        "id": "vJCP_2GK02Vp",
        "colab_type": "code",
        "colab": {
          "base_uri": "https://localhost:8080/",
          "height": 72
        },
        "outputId": "bcc98509-68a4-4c4b-9aa6-1c79a1680b69"
      },
      "source": [
        "# Importación de las librerías necesarias\n",
        "# pablo\n",
        "import numpy as np\n",
        "import pandas as pd\n",
        "# Puede que nos sirvan también\n",
        "import matplotlib as mpl\n",
        "mpl.get_cachedir()\n",
        "import matplotlib.pyplot as plt\n",
        "%matplotlib inline\n",
        "import seaborn as sns\n",
        "import sklearn as skl\n",
        "\n",
        "from sklearn import preprocessing\n",
        "from sklearn.utils import shuffle\n",
        "from sklearn.linear_model import LogisticRegression, Perceptron, Ridge\n",
        "from sklearn.metrics import accuracy_score, confusion_matrix, mean_squared_error, classification_report, roc_curve, auc, plot_roc_curve\n",
        "from sklearn.linear_model import SGDClassifier\n",
        "from sklearn.model_selection import train_test_split, GridSearchCV, cross_val_score, KFold, StratifiedKFold, TimeSeriesSplit\n",
        "from sklearn import datasets\n",
        "from sklearn.preprocessing import StandardScaler\n",
        "from sklearn.neighbors import KNeighborsClassifier\n",
        "\n",
        "np.random.seed(0)  # Para mayor determinismo"
      ],
      "execution_count": 2,
      "outputs": [
        {
          "output_type": "stream",
          "text": [
            "/usr/local/lib/python3.6/dist-packages/statsmodels/tools/_testing.py:19: FutureWarning: pandas.util.testing is deprecated. Use the functions in the public API at pandas.testing instead.\n",
            "  import pandas.util.testing as tm\n"
          ],
          "name": "stderr"
        }
      ]
    },
    {
      "cell_type": "code",
      "metadata": {
        "id": "kOy4-sqB02WB",
        "colab_type": "code",
        "colab": {}
      },
      "source": [
        "pd.set_option('display.max_columns', 150)\n",
        "pd.set_option('display.max_rows', 150)\n",
        "pd.set_option('max_colwidth', 151)"
      ],
      "execution_count": 3,
      "outputs": []
    },
    {
      "cell_type": "markdown",
      "metadata": {
        "id": "aVXn0gkd02XD",
        "colab_type": "text"
      },
      "source": [
        "## Consigna para Introducción al Aprendizaje Automático"
      ]
    },
    {
      "cell_type": "markdown",
      "metadata": {
        "id": "Mz1eVBbG02Xk",
        "colab_type": "text"
      },
      "source": [
        "### I. Preprocesamiento"
      ]
    },
    {
      "cell_type": "markdown",
      "metadata": {
        "id": "hYDXEXCr02Xm",
        "colab_type": "text"
      },
      "source": [
        "A los fines de realizar este práctico, se utilizará el dataset original.La división entre train y test será realizada en este mismo práctico. A continuación se detallan los pasos a seguir para el preprocesamiento de los datos."
      ]
    },
    {
      "cell_type": "markdown",
      "metadata": {
        "id": "GTjl20OY02Xp",
        "colab_type": "text"
      },
      "source": [
        "1. Obtención del Dataset\n",
        "\n",
        "Cargar el conjunto de entrenamiento original.\n",
        "\n",
        "2. Aplicar Script de Curación\n",
        "\n",
        "Inicialmente, luego de haber unido ambos datasets, con el objetivo de preparar los datos que alimentarán los modelos de aprendizaje automático (ML) propuestos, deberán aplicar el script de curación obtenido en el práctico anterior. En esta etapa, pueden adicionar los atributos que crean pertinentes a priori o que hayan encontrado interesantes por tener mayor correlación con la variable Target.\n",
        "\n",
        "3. Dataset para Problema de Clasificación Binario\n",
        "\n",
        "Si bien nuestro problema original implica predecir una variable Real, es decir una regresión, comenzaremos por tratarlo como un problema de clasificación binario, en donde nuestro objetivo será:\n",
        "\n",
        "- 1 = Hay distribución de energía (Kw 3 fases > 100)\n",
        "- 0 = No hay distribución de energía  (Kw 3 fases <= 100)\n",
        "\n",
        "Es decir, queremos diferenciar los momentos en que hay cortes en la distribucion de energia de los que no hay. En base a esta definición, deben transformar el dataset para adaptarlo a un problema de clasifiación binario.\n",
        "¿Cómo luce ahora el balance de clases? ¿Tomarán alguna decisión al respecto?\n",
        "\n",
        "4. Normalización de Atributos\n",
        "\n",
        "Es posible que sea necesario normalizar las features de nuestro dataset, dado que muchos de los algoritmos de clasificación supervisada lo requieren. ¿En qué casos tendrá que implementarse normalización?\n",
        "\n",
        "Aplicar a los datasets la normalización de atributos que consideren adecuada.\n",
        "\n",
        "5. Mezcla Aleatória y División en Train/Test\n",
        "\n",
        "Finalmente, están en condiciones de dividir el dataset en Train y Test, utilizando para este último conjunto un 20% de los datos disponibles. Previo a esta división, es recomendable que mezclen los datos aleatoriamente. De este modo, deberán obtener cuatro conjuntos de datos, para cada uno de los datasets: X_train, X_test, y_train y y_test.\n",
        "\n",
        "\n",
        "6. Division en Train/Test (opcional)\n",
        "\n",
        "En muchos de los problemas de series temporales la variable objetivo está muy ligada al momento en la cual se la mide. Es por esto que se suele adoptar diferentes estrategias para la división de los dataset de de entrenamiento y test. \n",
        "\n",
        "La opción más frecuente es dividirlos en subconjuntos ordenados por el tiempo, de manera que el dataset de entrenamiento sea anterior al de test.\n",
        "\n",
        "Prueben realizar esta división y ejecutar los mismos modelos para poder comparar resultados sobre las métricas obtenidas.\n",
        "\n",
        "https://machinelearningmastery.com/backtest-machine-learning-models-time-series-forecasting/\n",
        "\n",
        "\n",
        "A modo de ayuda, en esta notebook encontrarán una especie de template que sigue los pasos propuestos y que deberán ir completando.\n",
        "\n",
        "Recuerden que la ciencia de datos es un proceso circular, continuo y no lineal. Es decir, si los datos requieren de mayor procesamiento para satisfacer las necesidades de algoritmos de ML (cualesquiera de ellos), vamos a volver a la etapa inicial para, por ejemplo, crear nuevas features, tomar decisiones diferentes sobre valores faltantes o valores atípicos (outliers), descartar features, entre otras."
      ]
    },
    {
      "cell_type": "markdown",
      "metadata": {
        "id": "5_0mosYY02X8",
        "colab_type": "text"
      },
      "source": [
        "### II. Aplicación de Modelos de Clasificación"
      ]
    },
    {
      "cell_type": "markdown",
      "metadata": {
        "id": "EaGgQvAG02YH",
        "colab_type": "text"
      },
      "source": [
        "Una vez finalizada la etapa de preprocesamiento, se propone implementar diferentes modelos de clasificación para ambos datasets, utilizando la librería Scikit-Learn:\n",
        "\n",
        "    Perceptron. Utilizar el método Stochastic Gradient Descent (Recuerden mezclar aleatoriamente los datos antes de cada iteración)\n",
        "    K Nearest Neighbors ó K Vecinos Más Cercanos\n",
        "    Regresión Logística. Utilizar el método Stochastic Gradient Descent (Recuerden mezclar aleatoriamente los datos antes de cada iteración)\n",
        "\n",
        "Para cada uno de ellos, se pide responder las siguientes consignas:\n",
        "\n",
        "    Utilizar dos features para graficar las clases y la frontera de decisión, siempre que sea posible.\n",
        "    Agregar vector de Bias, cuando lo crean pertinente. Cuándo hace falta y cuándo no? Por qué?\n",
        "    Obtener accuracy o exactitud.\n",
        "\n",
        "De estos tres tipos de modelos, cuál creen que es el más adecuado para nuestro caso de aplicación?\n",
        "\n",
        "Elegir el modelo que consideren que mejor aplica a nuestro problema. Para ello, recuerden que los pasos a seguir en la selección pueden esquematizarse como sigue:\n",
        "1. Descripción de la Hipótesis\n",
        "\n",
        "¿Cuál es nuestro problema? ¿Cómo se caracteriza? ¿Cuál es la hipótesis?\n",
        "2. Selección de Regularizador\n",
        "\n",
        "¿Utilizarán algún regularizador?¿Cuál?\n",
        "3. Selección de Función de Costo\n",
        "\n",
        "¿Cuál será la función de costo utilizada?\n",
        "4. Justificación de las Selecciones\n",
        "\n",
        "¿Por qué eligieron el modelo, el regularizador y la función de costo previas?\n",
        "\n",
        "Finalmente, para el modelo selecionado:\n",
        "\n",
        "    Utilizar el método Grid Search, o de búsqueda exahustiva, con cross-validation para profundizar en la búsqueda y selección de hiperparámetros.\n",
        "    Calcular métricas sobre el conjunto de entrenamiento y de evaluación para los mejores parámetros obtenidos:\n",
        "        Accuracy o exactitud\n",
        "        Reporte de clasificación\n",
        "        Confusion matrix o matriz de confusión (graficar como heatmap)\n",
        "        Curva ROC y área bajo la curva (AUC)."
      ]
    },
    {
      "cell_type": "markdown",
      "metadata": {
        "id": "bfH43hhZ02YJ",
        "colab_type": "text"
      },
      "source": [
        "## Entregables\n"
      ]
    },
    {
      "cell_type": "markdown",
      "metadata": {
        "id": "aEvlOAh0op5m",
        "colab_type": "text"
      },
      "source": [
        "### I. Preprocesamiento"
      ]
    },
    {
      "cell_type": "markdown",
      "metadata": {
        "id": "dCoIIfZ902YM",
        "colab_type": "text"
      },
      "source": [
        "El entregable de este práctico consiste en esta misma Notebook, pero con el preprocesamiento aplicado y los modelos implementados, agregando las explicaciones que crean pertinentes y las decisiones tomadas, en caso de corresponder.\n"
      ]
    },
    {
      "cell_type": "code",
      "metadata": {
        "id": "Pe4B53jz4Mmr",
        "colab_type": "code",
        "colab": {
          "base_uri": "https://localhost:8080/",
          "height": 208
        },
        "outputId": "28f4768b-708f-4136-a59a-8e17a88fa0c1"
      },
      "source": [
        "# Si estamos en Colab se debe descargar el script porque es borrado cada vez que el entorno se desconecta.\n",
        "import sys\n",
        "in_colab = 'google.colab' in sys.modules\n",
        "\n",
        "if in_colab:\n",
        "  !wget https://raw.githubusercontent.com/leorebola/diplodatos/master/practicos/TP3/curacion_dataset.py"
      ],
      "execution_count": 4,
      "outputs": [
        {
          "output_type": "stream",
          "text": [
            "--2020-08-27 03:11:27--  https://raw.githubusercontent.com/leorebola/diplodatos/master/practicos/TP3/curacion_dataset.py\n",
            "Resolving raw.githubusercontent.com (raw.githubusercontent.com)... 151.101.0.133, 151.101.64.133, 151.101.128.133, ...\n",
            "Connecting to raw.githubusercontent.com (raw.githubusercontent.com)|151.101.0.133|:443... connected.\n",
            "HTTP request sent, awaiting response... 200 OK\n",
            "Length: 16774 (16K) [text/plain]\n",
            "Saving to: ‘curacion_dataset.py’\n",
            "\n",
            "curacion_dataset.py 100%[===================>]  16.38K  --.-KB/s    in 0.006s  \n",
            "\n",
            "2020-08-27 03:11:27 (2.56 MB/s) - ‘curacion_dataset.py’ saved [16774/16774]\n",
            "\n"
          ],
          "name": "stdout"
        }
      ]
    },
    {
      "cell_type": "code",
      "metadata": {
        "id": "g50zQ45m02YO",
        "colab_type": "code",
        "colab": {}
      },
      "source": [
        "# Importamos el script de curación y merge de datasets \n",
        "from curacion_dataset import get_ds\n",
        "\n",
        "ENERGIA_DS_URL = 'https://raw.githubusercontent.com/alaain04/diplodatos/master/data/energia_completo.csv'\n",
        "CLIMA_DS_URL = 'https://raw.githubusercontent.com/alaain04/diplodatos/master/data/clima_posadas_20192020.csv'"
      ],
      "execution_count": 5,
      "outputs": []
    },
    {
      "cell_type": "code",
      "metadata": {
        "id": "l0cUIPTH07Ll",
        "colab_type": "code",
        "colab": {
          "base_uri": "https://localhost:8080/",
          "height": 590
        },
        "outputId": "b407e905-02bf-4679-c8de-4289a8a4ea6c"
      },
      "source": [
        "# Ejecutamos el script\n",
        "ds = get_ds(ENERGIA_DS_URL, CLIMA_DS_URL)\n",
        "ds.columns = ['fecha', 'ta','sa','ra','vab','vca','vbc','kwatts','potencia', 'temperature', 'windspeed']"
      ],
      "execution_count": 6,
      "outputs": [
        {
          "output_type": "stream",
          "text": [
            "2020-08-27 03:11:33 Tipo de dato no esperado para: Amper fase T-A -> int64\n",
            "2020-08-27 03:11:33 Tipo de dato no esperado para: Amper fase S-A -> int64\n",
            "2020-08-27 03:11:33 Tipo de dato no esperado para: Amper fase R-A -> int64\n",
            "2020-08-27 03:11:33 Dataset Clima importado correctamente\n",
            "2020-08-27 03:11:33 Verificacion de Fecha y Hora únicas: OK\n",
            "2020-08-27 03:11:33 Resumen de valores nulos para dataset Clima\n",
            "2020-08-27 03:11:33 Cantidad de valores nulos en la columna: time__________________________ 0_________ 0.0%\n",
            "2020-08-27 03:11:33 Cantidad de valores nulos en la columna: temperature___________________ 0_________ 0.0%\n",
            "2020-08-27 03:11:33 Cantidad de valores nulos en la columna: windspeed_____________________ 1_________ 0.01%\n",
            "\n",
            "2020-08-27 03:11:33 Resumen de valores nulos para dataset Energia\n",
            "2020-08-27 03:11:33 Cantidad de valores nulos en la columna: Amper fase T-A________________ 0_________ 0.0%\n",
            "2020-08-27 03:11:33 Cantidad de valores nulos en la columna: Amper fase S-A________________ 0_________ 0.0%\n",
            "2020-08-27 03:11:33 Cantidad de valores nulos en la columna: Amper fase R-A________________ 0_________ 0.0%\n",
            "2020-08-27 03:11:33 Cantidad de valores nulos en la columna: Vab___________________________ 9030______ 13.79%\n",
            "2020-08-27 03:11:33 Cantidad de valores nulos en la columna: Vca___________________________ 9030______ 13.79%\n",
            "2020-08-27 03:11:33 Cantidad de valores nulos en la columna: Vbc___________________________ 9030______ 13.79%\n",
            "2020-08-27 03:11:33 Cantidad de valores nulos en la columna: Kwatts 3 fases________________ 153_______ 0.23%\n",
            "2020-08-27 03:11:33 Cantidad de valores nulos en la columna: Factor de Poten-A_____________ 152_______ 0.23%\n",
            "2020-08-27 03:11:33 El rango de valores de la potencia es correcto.\n",
            "2020-08-27 03:11:33 Hay valores negativos. Se los tratará posteriormente\n",
            "2020-08-27 03:11:33 Potencia negativa y factor de potencia negativo: 9092\n",
            "2020-08-27 03:11:33 Potencia positiva y factor de potencia negativo: 62\n",
            "2020-08-27 03:11:33 Potencia negativa y factor de potencia positiva: 5706\n",
            "2020-08-27 03:11:33 Se convierten todos los valores en positivos\n",
            "2020-08-27 03:11:33 Se completan datos faltantes en el dataset de energia en caso de tener un valor NaN entre 2 valores numéricos\n",
            "2020-08-27 03:11:33 Se reemplazan outliers en el dataset de Energia:\n",
            "2020-08-27 03:11:33 En caso de ser mayores al valor mediana + 1.5*CI eliminamos el registo\n",
            "2020-08-27 03:11:33 En caso de ser menores al valor mediana - 1.5*CI reemplazamos el valor por 0\n",
            "2020-08-27 03:11:33 Se reemplazan outliers en el dataset de Clima:\n",
            "2020-08-27 03:11:34 Se ordenan por fecha los datasets\n",
            "2020-08-27 03:11:34 Se unen ambos datasets agregando las mediciones del dataset clima al dataset energia\n",
            "2020-08-27 03:11:34 Se completan datos faltantes interpolando las mediciones de temperature y windspeed\n"
          ],
          "name": "stdout"
        }
      ]
    },
    {
      "cell_type": "code",
      "metadata": {
        "id": "UCNGR4Pm1zUj",
        "colab_type": "code",
        "colab": {}
      },
      "source": [
        "ds['suministro'] = ds[ds.kwatts.notnull()].kwatts.apply(lambda x: 1 if x > 100 else 0)"
      ],
      "execution_count": 7,
      "outputs": []
    },
    {
      "cell_type": "code",
      "metadata": {
        "id": "Jw7mnYNZ2btb",
        "colab_type": "code",
        "colab": {
          "base_uri": "https://localhost:8080/",
          "height": 52
        },
        "outputId": "e4a3e8f9-904b-4e83-ed56-c5cd3c314342"
      },
      "source": [
        "print('Suministro cortado: {:0.5f}%'.format(len(ds[ds.suministro == 0]) / len(ds)))\n",
        "print('Suministro normal: {:0.5f}%'.format(len(ds[ds.suministro == 1]) / len(ds)))"
      ],
      "execution_count": 8,
      "outputs": [
        {
          "output_type": "stream",
          "text": [
            "Suministro cortado: 0.00776%\n",
            "Suministro normal: 0.89020%\n"
          ],
          "name": "stdout"
        }
      ]
    },
    {
      "cell_type": "markdown",
      "metadata": {
        "id": "mZTbj9sG424A",
        "colab_type": "text"
      },
      "source": [
        "## II. Aplicación de Modelos de Clasificación"
      ]
    },
    {
      "cell_type": "code",
      "metadata": {
        "id": "lR0iAymm5Em-",
        "colab_type": "code",
        "colab": {}
      },
      "source": [
        "TIMESERIESSPLIT=\"TimeSeries\"\n",
        "STRATIFIEDKFOLD=\"StratifiedKFold\"\n",
        "KFOLD=\"KFold\"\n",
        "\n",
        "estrategia = TIMESERIESSPLIT"
      ],
      "execution_count": 9,
      "outputs": []
    },
    {
      "cell_type": "code",
      "metadata": {
        "id": "A_5CJBBO1G1M",
        "colab_type": "code",
        "colab": {
          "base_uri": "https://localhost:8080/",
          "height": 424
        },
        "outputId": "d6abbb31-5cb5-423f-c23e-be706c0aa9a1"
      },
      "source": [
        "# se eliminan las filas donde hay valores NaN\n",
        "ds_onlynum = ds.dropna()\n",
        "display(ds_onlynum)"
      ],
      "execution_count": 10,
      "outputs": [
        {
          "output_type": "display_data",
          "data": {
            "text/html": [
              "<div>\n",
              "<style scoped>\n",
              "    .dataframe tbody tr th:only-of-type {\n",
              "        vertical-align: middle;\n",
              "    }\n",
              "\n",
              "    .dataframe tbody tr th {\n",
              "        vertical-align: top;\n",
              "    }\n",
              "\n",
              "    .dataframe thead th {\n",
              "        text-align: right;\n",
              "    }\n",
              "</style>\n",
              "<table border=\"1\" class=\"dataframe\">\n",
              "  <thead>\n",
              "    <tr style=\"text-align: right;\">\n",
              "      <th></th>\n",
              "      <th>fecha</th>\n",
              "      <th>ta</th>\n",
              "      <th>sa</th>\n",
              "      <th>ra</th>\n",
              "      <th>vab</th>\n",
              "      <th>vca</th>\n",
              "      <th>vbc</th>\n",
              "      <th>kwatts</th>\n",
              "      <th>potencia</th>\n",
              "      <th>temperature</th>\n",
              "      <th>windspeed</th>\n",
              "      <th>suministro</th>\n",
              "    </tr>\n",
              "  </thead>\n",
              "  <tbody>\n",
              "    <tr>\n",
              "      <th>4</th>\n",
              "      <td>2019-12-03 21:05:00</td>\n",
              "      <td>10.00</td>\n",
              "      <td>10.00</td>\n",
              "      <td>11.00</td>\n",
              "      <td>35.78</td>\n",
              "      <td>36.54</td>\n",
              "      <td>0.00</td>\n",
              "      <td>4342.00</td>\n",
              "      <td>0.00</td>\n",
              "      <td>31.09</td>\n",
              "      <td>12.55</td>\n",
              "      <td>1.00</td>\n",
              "    </tr>\n",
              "    <tr>\n",
              "      <th>5</th>\n",
              "      <td>2019-12-03 21:10:00</td>\n",
              "      <td>11.00</td>\n",
              "      <td>11.00</td>\n",
              "      <td>11.00</td>\n",
              "      <td>0.00</td>\n",
              "      <td>0.00</td>\n",
              "      <td>35.95</td>\n",
              "      <td>0.00</td>\n",
              "      <td>0.93</td>\n",
              "      <td>31.07</td>\n",
              "      <td>12.11</td>\n",
              "      <td>0.00</td>\n",
              "    </tr>\n",
              "    <tr>\n",
              "      <th>6</th>\n",
              "      <td>2019-12-03 21:15:00</td>\n",
              "      <td>11.00</td>\n",
              "      <td>11.00</td>\n",
              "      <td>11.00</td>\n",
              "      <td>0.00</td>\n",
              "      <td>36.63</td>\n",
              "      <td>36.02</td>\n",
              "      <td>0.00</td>\n",
              "      <td>0.00</td>\n",
              "      <td>31.04</td>\n",
              "      <td>11.68</td>\n",
              "      <td>0.00</td>\n",
              "    </tr>\n",
              "    <tr>\n",
              "      <th>7</th>\n",
              "      <td>2019-12-03 21:20:00</td>\n",
              "      <td>11.00</td>\n",
              "      <td>11.00</td>\n",
              "      <td>11.00</td>\n",
              "      <td>0.00</td>\n",
              "      <td>0.00</td>\n",
              "      <td>0.00</td>\n",
              "      <td>4423.00</td>\n",
              "      <td>0.00</td>\n",
              "      <td>31.00</td>\n",
              "      <td>11.27</td>\n",
              "      <td>1.00</td>\n",
              "    </tr>\n",
              "    <tr>\n",
              "      <th>8</th>\n",
              "      <td>2019-12-03 21:25:00</td>\n",
              "      <td>11.00</td>\n",
              "      <td>10.00</td>\n",
              "      <td>11.00</td>\n",
              "      <td>35.83</td>\n",
              "      <td>36.90</td>\n",
              "      <td>36.27</td>\n",
              "      <td>4296.00</td>\n",
              "      <td>0.00</td>\n",
              "      <td>30.95</td>\n",
              "      <td>10.88</td>\n",
              "      <td>1.00</td>\n",
              "    </tr>\n",
              "    <tr>\n",
              "      <th>...</th>\n",
              "      <td>...</td>\n",
              "      <td>...</td>\n",
              "      <td>...</td>\n",
              "      <td>...</td>\n",
              "      <td>...</td>\n",
              "      <td>...</td>\n",
              "      <td>...</td>\n",
              "      <td>...</td>\n",
              "      <td>...</td>\n",
              "      <td>...</td>\n",
              "      <td>...</td>\n",
              "      <td>...</td>\n",
              "    </tr>\n",
              "    <tr>\n",
              "      <th>65496</th>\n",
              "      <td>2020-08-02 20:15:00</td>\n",
              "      <td>52.00</td>\n",
              "      <td>58.00</td>\n",
              "      <td>61.00</td>\n",
              "      <td>36.38</td>\n",
              "      <td>37.26</td>\n",
              "      <td>36.45</td>\n",
              "      <td>3592.00</td>\n",
              "      <td>0.96</td>\n",
              "      <td>28.63</td>\n",
              "      <td>16.47</td>\n",
              "      <td>1.00</td>\n",
              "    </tr>\n",
              "    <tr>\n",
              "      <th>65497</th>\n",
              "      <td>2020-08-02 20:20:00</td>\n",
              "      <td>53.00</td>\n",
              "      <td>58.00</td>\n",
              "      <td>61.00</td>\n",
              "      <td>36.24</td>\n",
              "      <td>37.19</td>\n",
              "      <td>36.39</td>\n",
              "      <td>3524.00</td>\n",
              "      <td>0.96</td>\n",
              "      <td>28.52</td>\n",
              "      <td>16.93</td>\n",
              "      <td>1.00</td>\n",
              "    </tr>\n",
              "    <tr>\n",
              "      <th>65498</th>\n",
              "      <td>2020-08-02 20:25:00</td>\n",
              "      <td>51.00</td>\n",
              "      <td>57.00</td>\n",
              "      <td>60.00</td>\n",
              "      <td>36.27</td>\n",
              "      <td>37.17</td>\n",
              "      <td>36.41</td>\n",
              "      <td>3492.00</td>\n",
              "      <td>0.96</td>\n",
              "      <td>28.41</td>\n",
              "      <td>17.36</td>\n",
              "      <td>1.00</td>\n",
              "    </tr>\n",
              "    <tr>\n",
              "      <th>65499</th>\n",
              "      <td>2020-08-02 20:30:00</td>\n",
              "      <td>52.00</td>\n",
              "      <td>57.00</td>\n",
              "      <td>61.00</td>\n",
              "      <td>36.29</td>\n",
              "      <td>37.20</td>\n",
              "      <td>36.48</td>\n",
              "      <td>3548.00</td>\n",
              "      <td>0.96</td>\n",
              "      <td>28.31</td>\n",
              "      <td>17.75</td>\n",
              "      <td>1.00</td>\n",
              "    </tr>\n",
              "    <tr>\n",
              "      <th>65500</th>\n",
              "      <td>2020-08-02 20:35:00</td>\n",
              "      <td>51.00</td>\n",
              "      <td>57.00</td>\n",
              "      <td>61.00</td>\n",
              "      <td>36.36</td>\n",
              "      <td>37.29</td>\n",
              "      <td>36.51</td>\n",
              "      <td>3454.00</td>\n",
              "      <td>0.96</td>\n",
              "      <td>28.22</td>\n",
              "      <td>18.10</td>\n",
              "      <td>1.00</td>\n",
              "    </tr>\n",
              "  </tbody>\n",
              "</table>\n",
              "<p>43986 rows × 12 columns</p>\n",
              "</div>"
            ],
            "text/plain": [
              "                    fecha    ta    sa    ra   vab   vca   vbc  kwatts  \\\n",
              "4     2019-12-03 21:05:00 10.00 10.00 11.00 35.78 36.54  0.00 4342.00   \n",
              "5     2019-12-03 21:10:00 11.00 11.00 11.00  0.00  0.00 35.95    0.00   \n",
              "6     2019-12-03 21:15:00 11.00 11.00 11.00  0.00 36.63 36.02    0.00   \n",
              "7     2019-12-03 21:20:00 11.00 11.00 11.00  0.00  0.00  0.00 4423.00   \n",
              "8     2019-12-03 21:25:00 11.00 10.00 11.00 35.83 36.90 36.27 4296.00   \n",
              "...                   ...   ...   ...   ...   ...   ...   ...     ...   \n",
              "65496 2020-08-02 20:15:00 52.00 58.00 61.00 36.38 37.26 36.45 3592.00   \n",
              "65497 2020-08-02 20:20:00 53.00 58.00 61.00 36.24 37.19 36.39 3524.00   \n",
              "65498 2020-08-02 20:25:00 51.00 57.00 60.00 36.27 37.17 36.41 3492.00   \n",
              "65499 2020-08-02 20:30:00 52.00 57.00 61.00 36.29 37.20 36.48 3548.00   \n",
              "65500 2020-08-02 20:35:00 51.00 57.00 61.00 36.36 37.29 36.51 3454.00   \n",
              "\n",
              "       potencia  temperature  windspeed  suministro  \n",
              "4          0.00        31.09      12.55        1.00  \n",
              "5          0.93        31.07      12.11        0.00  \n",
              "6          0.00        31.04      11.68        0.00  \n",
              "7          0.00        31.00      11.27        1.00  \n",
              "8          0.00        30.95      10.88        1.00  \n",
              "...         ...          ...        ...         ...  \n",
              "65496      0.96        28.63      16.47        1.00  \n",
              "65497      0.96        28.52      16.93        1.00  \n",
              "65498      0.96        28.41      17.36        1.00  \n",
              "65499      0.96        28.31      17.75        1.00  \n",
              "65500      0.96        28.22      18.10        1.00  \n",
              "\n",
              "[43986 rows x 12 columns]"
            ]
          },
          "metadata": {
            "tags": []
          }
        }
      ]
    },
    {
      "cell_type": "code",
      "metadata": {
        "id": "l_JSf1w_fBrx",
        "colab_type": "code",
        "colab": {
          "base_uri": "https://localhost:8080/",
          "height": 268
        },
        "outputId": "58c89137-788c-4273-a540-30050cb1bb86"
      },
      "source": [
        "# features a elegir\n",
        "feat1 = 'temperature'\n",
        "feat2 = 'vab'\n",
        "target = 'suministro'\n",
        "\n",
        "plt.scatter(ds_onlynum[ds_onlynum[target]==1][feat1],ds_onlynum[ds_onlynum[target]==1][feat2], facecolor=\"dodgerblue\", edgecolor=\"k\", label='suministro = 1')\n",
        "plt.scatter(ds_onlynum[ds_onlynum[target]==0][feat1],ds_onlynum[ds_onlynum[target]==0][feat2], facecolor=\"red\", edgecolor=\"k\", label='suministro = 0')\n",
        "plt.legend()\n",
        "plt.show()"
      ],
      "execution_count": 11,
      "outputs": [
        {
          "output_type": "display_data",
          "data": {
            "image/png": "[encoded data removed]",
            "text/plain": [
              "<Figure size 432x288 with 1 Axes>"
            ]
          },
          "metadata": {
            "tags": [],
            "needs_background": "light"
          }
        }
      ]
    },
    {
      "cell_type": "code",
      "metadata": {
        "id": "ToKahKctfJM-",
        "colab_type": "code",
        "colab": {}
      },
      "source": [
        "# funcion de ploteo de regiones de decision\n",
        "def plot_decision_boundary(model, X, y):\n",
        "    X = X.T\n",
        "    y = y.T\n",
        "\n",
        "    # Set min and max values and give it some padding\n",
        "    x_min, x_max = X[0, :].min() - 1, X[0, :].max() + 1\n",
        "    y_min, y_max = X[1, :].min() - 1, X[1, :].max() + 1\n",
        "    h = 0.01\n",
        "\n",
        "    # Generate a grid of points with distance h between them\n",
        "    xx, yy = np.meshgrid(np.arange(x_min, x_max, h), np.arange(y_min, y_max, h))\n",
        "\n",
        "    # Predict the function value for the whole grid\n",
        "    Z = model(np.c_[xx.ravel(), yy.ravel()])\n",
        "    Z = Z.reshape(xx.shape)\n",
        "\n",
        "    # Plot the contour and training examples\n",
        "    plt.contourf(xx, yy, Z, cmap=plt.cm.ocean)\n",
        "    plt.scatter(X[0, y==1], X[1, y==1], color=\"dodgerblue\", edgecolors='k', label=\"1\")\n",
        "    plt.scatter(X[0, y==0], X[1, y==0], color=\"tomato\", edgecolors='k', label=\"0\")\n",
        "    plt.legend()"
      ],
      "execution_count": 12,
      "outputs": []
    },
    {
      "cell_type": "code",
      "metadata": {
        "id": "WPa8gxuBi0z8",
        "colab_type": "code",
        "colab": {}
      },
      "source": [
        "# Creo los sets de entrenamiento y evaluación\n",
        "X, y = ds_onlynum[[feat1,feat2]], ds_onlynum[target]\n",
        "XX = X.to_numpy()\n",
        "yy = y.to_numpy()\n",
        "\n",
        "train_size = 0.8\n",
        "random_state = 0\n",
        "\n",
        "\n",
        "# Seleccionar el método para separar conjuntos de entrenamiento y evaluación\n",
        "\n",
        "if estrategia == TIMESERIESSPLIT:\n",
        "  # Usando TimeSeriesSplit\n",
        "  train_size = int(len(XX) * train_size)\n",
        "  X_train, X_test, y_train, y_test = XX[0:train_size], X[train_size:len(XX)], y[0:train_size], y[train_size:len(XX)]\n",
        "else:\n",
        "  # Mezcla aleatoria de datos\n",
        "  X_train, X_test, y_train, y_test = train_test_split(XX,yy,train_size=train_size,random_state=random_state,shuffle=True)\n"
      ],
      "execution_count": 14,
      "outputs": []
    },
    {
      "cell_type": "code",
      "metadata": {
        "id": "eUEZpCPajDX0",
        "colab_type": "code",
        "colab": {}
      },
      "source": [
        "# Estandarizamos los datos en función del conjunto de entrenamiento\n",
        "sc = StandardScaler()\n",
        "sc.fit(X_train)\n",
        "\n",
        "X_train_std = sc.transform(X_train)\n",
        "X_test_std = sc.transform(X_test)"
      ],
      "execution_count": 15,
      "outputs": []
    },
    {
      "cell_type": "code",
      "metadata": {
        "id": "x5_wGuROkEoa",
        "colab_type": "code",
        "colab": {
          "base_uri": "https://localhost:8080/",
          "height": 282
        },
        "outputId": "7650a349-c6b9-48af-ffb8-8046861d418b"
      },
      "source": [
        "# Método de perceptron\n",
        "# Podemos utilizar el algoritmo Perceptron() o SGDCLassifier() setenado los parámetros de manera que sean equivalentes\n",
        "\n",
        "sgdc = SGDClassifier(loss=\"perceptron\", eta0=1, learning_rate=\"constant\", penalty=None, random_state = random_state)\n",
        "sgdc.fit(X_train_std,y_train)\n",
        "\n",
        "random_state = 0\n",
        "ppn = Perceptron(random_state=random_state)\n",
        "ppn.fit(X_train_std,y_train)\n",
        "\n",
        "y_pred_ppn = ppn.predict(X_test_std)     \n",
        "# Calculamos accuracy y ploteo de la frontera de desición\n",
        "print('accuracy: {0:.2f}%'.format(accuracy_score(y_test,y_pred_ppn)*100))\n",
        "plot_decision_boundary(lambda x: ppn.predict(x), X_test_std,y_test)"
      ],
      "execution_count": 16,
      "outputs": [
        {
          "output_type": "stream",
          "text": [
            "accuracy: 85.27%\n"
          ],
          "name": "stdout"
        },
        {
          "output_type": "display_data",
          "data": {
            "image/png": "[encoded data removed]",
            "text/plain": [
              "<Figure size 432x288 with 1 Axes>"
            ]
          },
          "metadata": {
            "tags": [],
            "needs_background": "light"
          }
        }
      ]
    },
    {
      "cell_type": "code",
      "metadata": {
        "id": "7rfMxiGAoW5r",
        "colab_type": "code",
        "colab": {
          "base_uri": "https://localhost:8080/",
          "height": 282
        },
        "outputId": "37c65d2d-60d2-4639-f397-59758efb6fdd"
      },
      "source": [
        "# Método de k-nearest neighbors\n",
        "\n",
        "neigh = KNeighborsClassifier(n_neighbors=5)\n",
        "neigh.fit(X_train_std,y_train)\n",
        "\n",
        "y_pred_neigh = neigh.predict(X_test_std)\n",
        "# Calculamos accuracy y ploteo de la frontera de desición\n",
        "print('accuracy: {0:.2f}%'.format(accuracy_score(y_test,y_pred_neigh)*100))\n",
        "plot_decision_boundary(lambda x: neigh.predict(x), X_test_std,y_test)"
      ],
      "execution_count": 17,
      "outputs": [
        {
          "output_type": "stream",
          "text": [
            "accuracy: 99.33%\n"
          ],
          "name": "stdout"
        },
        {
          "output_type": "display_data",
          "data": {
            "image/png": "[encoded data removed]",
            "text/plain": [
              "<Figure size 432x288 with 1 Axes>"
            ]
          },
          "metadata": {
            "tags": [],
            "needs_background": "light"
          }
        }
      ]
    },
    {
      "cell_type": "code",
      "metadata": {
        "id": "_tS7oYhGo0IF",
        "colab_type": "code",
        "colab": {
          "base_uri": "https://localhost:8080/",
          "height": 282
        },
        "outputId": "020bce4b-bf11-44b7-f3e3-85bb8298e43c"
      },
      "source": [
        "# Método de logistic regression\n",
        "# Podemos implementar el algoritmo de LogisticRegression o aplicar la función de costo logística en el algoritmo SGDClassifier()\n",
        "\n",
        "sgdc_log = SGDClassifier(loss='log', random_state = random_state)\n",
        "sgdc_log.fit(X_train_std,y_train)\n",
        "\n",
        "y_pred_sgdclog = sgdc_log.predict(X_test_std)\n",
        "print('accuracy: {0:.2f}%'.format(accuracy_score(y_test,y_pred_sgdclog)*100))\n",
        "plot_decision_boundary(lambda x: sgdc_log.predict(x), X_test_std,y_test)"
      ],
      "execution_count": 19,
      "outputs": [
        {
          "output_type": "stream",
          "text": [
            "accuracy: 99.92%\n"
          ],
          "name": "stdout"
        },
        {
          "output_type": "display_data",
          "data": {
            "image/png": "[encoded data removed]",
            "text/plain": [
              "<Figure size 432x288 with 1 Axes>"
            ]
          },
          "metadata": {
            "tags": [],
            "needs_background": "light"
          }
        }
      ]
    },
    {
      "cell_type": "markdown",
      "metadata": {
        "id": "wX4hTa9uz-ZT",
        "colab_type": "text"
      },
      "source": [
        "Se pide responder las siguientes consignas:\n",
        "\n",
        "    Utilizar dos features para graficar las clases y la frontera de decisión, siempre que sea posible.\n",
        "    Agregar vector de Bias, cuando lo crean pertinente. Cuándo hace falta y cuándo no? Por qué?\n",
        "    Obtener accuracy o exactitud.\n",
        "\n",
        "\n",
        "\n",
        "> Se eligieron como features a analizar la corriente y tensión de una de las fases (asuminos que no es la idea utilizar los datos de la potencia como feature ya que esos son los que usamos para crear la clasificación). Sobre el vector de Bias, en el caso del modelo de perceptron y regresión logística se agrega por default este vector, es necesario en caso de que los datos no estén centrados. Se realizó el cálculo de accuracy para cada uno de los métodos aplicados.\n",
        "\n",
        "\n",
        "    De estos tres tipos de modelos, cuál creen que es el más adecuado para nuestro caso de aplicación?\n",
        "\n",
        "    Elegir el modelo que consideren que mejor aplica a nuestro problema. Para ello, recuerden que\n",
        "    los pasos a seguir en la selección pueden esquematizarse como sigue:\n",
        "    \n",
        "    1. Descripción de la Hipótesis\n",
        "\n",
        "    ¿Cuál es nuestro problema? ¿Cómo se caracteriza? ¿Cuál es la hipótesis?\n",
        "\n",
        "> Queremos clasificar si hay un corte en el suministro de energía en función de 2 features del dataset. Suponemos la hipótesis es que si uno de los valores de las variables se encuentra por muy por debajo de la media representa un corte del suminsitro.\n",
        "\n",
        "    2. Selección de Regularizador\n",
        "    ¿Utilizarán algún regularizador?¿Cuál?\n",
        "\n",
        "> Para los métodos de perceptron y regresión logística se pueden utilizar regularizaciones del tipo l1, l2 o combinación de ambas. Por default el método de perceptron no utiliza ninguna y la reg. log. utiliza l2. \n",
        "\n",
        "    3. Selección de Función de Costo\n",
        "    ¿Cuál será la función de costo utilizada?\n",
        "\n",
        "> Creemos que la función de costo a elegir para nuestro caso sería la regresión logística, implementada con SGD.\n",
        "\n",
        "    4. Justificación de las Selecciones\n",
        "    ¿Por qué eligieron el modelo, el regularizador y la función de costo previas?\n",
        "\n",
        "> Ya que es un problema de clasificación binaria y por los datos que tenemos pensamos que el método de regresión logistica sería el método a elegir. Ya que el método de K-neighbors es lento para muchos datos y más eficiente para problemas multiclases, además por como es nuestro conjunto de datos puede generar fronteras de desición con problemas y el método de perceptron básico sabemos que converge cuando los datos son linealmente separables. Además usamos el algoritmo de SGDClassifier con función de costo logistica en lugar de la implementación LogisticRegression() ya que esta última por defecto usa un algoritmo de Gradient Descent que aunque puede dar mejores resultados en general se vuelve costoso para problemas de gran escala."
      ]
    },
    {
      "cell_type": "code",
      "metadata": {
        "id": "Juu8Dlokz8Bi",
        "colab_type": "code",
        "colab": {}
      },
      "source": [
        "# Definiciones de hiper parametros\n",
        "param_grid = {\n",
        "    'loss': [ # The loss function to be used. Defaults to 'hinge'\n",
        "        'log',          # logistic regression\n",
        "    ],\n",
        "    'penalty': ['l1','l2','None'],\n",
        "    'eta0': [1,1e-1,1e-2,1e-5,1e-9], # The initial learning rate for the ‘constant’, ‘invscaling’ or ‘adaptive’ schedules. The default value is 0.0 as eta0 is not used by the default schedule ‘optimal’\n",
        "    'alpha': [1e-6,1e-5,1e-4,1e-3], # Constant that multiplies the regularization term. Default = 1e-4\n",
        "    'learning_rate': [ # The learning rate schedule. Defaults to 'optimal'\n",
        "        'constant',\n",
        "        'optimal',\n",
        "        'invscaling',\n",
        "        'adaptive'\n",
        "    ]\n",
        "}\n",
        "\n",
        "# Seteamos el numero de subconjuntos del conjunto de entrenamiento y el iterador a usar\n",
        "# https://scikit-learn.org/stable/modules/cross_validation.html#cross-validation-iterators\n",
        "# Estrategias propuestas a usar son K-fold, Stratified k-fold y Time Series Split\n",
        "\n",
        "n_sets = 3\n",
        "# Estrategias para datos mezclados aleatoriamente\n",
        "\n",
        "if estrategia == TIMESERIESSPLIT:\n",
        "  iterator = TimeSeriesSplit(n_splits=n_sets) \n",
        "elif estrategia == STRATIFIEDKFOLD:\n",
        "  iterator = StratifiedKFold(n_splits=n_sets)\n",
        "else:\n",
        "  iterator = KFold(n_splits=n_sets)\n"
      ],
      "execution_count": 22,
      "outputs": []
    },
    {
      "cell_type": "code",
      "metadata": {
        "id": "RfdjOulS6eIb",
        "colab_type": "code",
        "colab": {
          "base_uri": "https://localhost:8080/",
          "height": 1000
        },
        "outputId": "982cbf8f-d326-41b5-c4b5-db745d3847db"
      },
      "source": [
        "# Grid Search para el clasificador SGDC para el análisis de los hiperparámetros\n",
        "model = SGDClassifier(random_state = random_state)\n",
        "cv = GridSearchCV(model, param_grid, scoring='accuracy', cv=iterator)\n",
        "cv.fit(X_train_std, y_train)\n",
        "\n",
        "results = cv.cv_results_    \n",
        "df_result = pd.DataFrame(results)\n",
        "display(df_result)\n",
        "\n",
        "best_model = cv.best_estimator_\n",
        "bestpar = cv.best_params_\n",
        "\n",
        "print('Mejor Modelo\\n', best_model)\n",
        "print('Mejores Parametros\\n', bestpar)\n",
        "\n",
        "y_pred = best_model.predict(X_test_std)\n",
        "print('accuracy: {0:.2f}%'.format(accuracy_score(y_test,y_pred)*100))\n",
        "plot_decision_boundary(lambda x: best_model.predict(x), X_test_std,y_test)"
      ],
      "execution_count": 23,
      "outputs": [
        {
          "output_type": "display_data",
          "data": {
            "text/html": [
              "<div>\n",
              "<style scoped>\n",
              "    .dataframe tbody tr th:only-of-type {\n",
              "        vertical-align: middle;\n",
              "    }\n",
              "\n",
              "    .dataframe tbody tr th {\n",
              "        vertical-align: top;\n",
              "    }\n",
              "\n",
              "    .dataframe thead th {\n",
              "        text-align: right;\n",
              "    }\n",
              "</style>\n",
              "<table border=\"1\" class=\"dataframe\">\n",
              "  <thead>\n",
              "    <tr style=\"text-align: right;\">\n",
              "      <th></th>\n",
              "      <th>mean_fit_time</th>\n",
              "      <th>std_fit_time</th>\n",
              "      <th>mean_score_time</th>\n",
              "      <th>std_score_time</th>\n",
              "      <th>param_alpha</th>\n",
              "      <th>param_eta0</th>\n",
              "      <th>param_learning_rate</th>\n",
              "      <th>param_loss</th>\n",
              "      <th>param_penalty</th>\n",
              "      <th>params</th>\n",
              "      <th>split0_test_score</th>\n",
              "      <th>split1_test_score</th>\n",
              "      <th>split2_test_score</th>\n",
              "      <th>mean_test_score</th>\n",
              "      <th>std_test_score</th>\n",
              "      <th>rank_test_score</th>\n",
              "    </tr>\n",
              "  </thead>\n",
              "  <tbody>\n",
              "    <tr>\n",
              "      <th>0</th>\n",
              "      <td>0.04</td>\n",
              "      <td>0.02</td>\n",
              "      <td>0.00</td>\n",
              "      <td>0.00</td>\n",
              "      <td>0.00</td>\n",
              "      <td>1</td>\n",
              "      <td>constant</td>\n",
              "      <td>log</td>\n",
              "      <td>l1</td>\n",
              "      <td>{'alpha': 1e-06, 'eta0': 1, 'learning_rate': 'constant', 'loss': 'log', 'penalty': 'l1'}</td>\n",
              "      <td>1.00</td>\n",
              "      <td>1.00</td>\n",
              "      <td>0.99</td>\n",
              "      <td>1.00</td>\n",
              "      <td>0.00</td>\n",
              "      <td>2</td>\n",
              "    </tr>\n",
              "    <tr>\n",
              "      <th>1</th>\n",
              "      <td>0.03</td>\n",
              "      <td>0.02</td>\n",
              "      <td>0.00</td>\n",
              "      <td>0.00</td>\n",
              "      <td>0.00</td>\n",
              "      <td>1</td>\n",
              "      <td>constant</td>\n",
              "      <td>log</td>\n",
              "      <td>l2</td>\n",
              "      <td>{'alpha': 1e-06, 'eta0': 1, 'learning_rate': 'constant', 'loss': 'log', 'penalty': 'l2'}</td>\n",
              "      <td>1.00</td>\n",
              "      <td>1.00</td>\n",
              "      <td>0.99</td>\n",
              "      <td>1.00</td>\n",
              "      <td>0.00</td>\n",
              "      <td>2</td>\n",
              "    </tr>\n",
              "    <tr>\n",
              "      <th>2</th>\n",
              "      <td>0.03</td>\n",
              "      <td>0.02</td>\n",
              "      <td>0.00</td>\n",
              "      <td>0.00</td>\n",
              "      <td>0.00</td>\n",
              "      <td>1</td>\n",
              "      <td>constant</td>\n",
              "      <td>log</td>\n",
              "      <td>None</td>\n",
              "      <td>{'alpha': 1e-06, 'eta0': 1, 'learning_rate': 'constant', 'loss': 'log', 'penalty': 'None'}</td>\n",
              "      <td>1.00</td>\n",
              "      <td>1.00</td>\n",
              "      <td>0.99</td>\n",
              "      <td>1.00</td>\n",
              "      <td>0.00</td>\n",
              "      <td>2</td>\n",
              "    </tr>\n",
              "    <tr>\n",
              "      <th>3</th>\n",
              "      <td>0.14</td>\n",
              "      <td>0.06</td>\n",
              "      <td>0.00</td>\n",
              "      <td>0.00</td>\n",
              "      <td>0.00</td>\n",
              "      <td>1</td>\n",
              "      <td>optimal</td>\n",
              "      <td>log</td>\n",
              "      <td>l1</td>\n",
              "      <td>{'alpha': 1e-06, 'eta0': 1, 'learning_rate': 'optimal', 'loss': 'log', 'penalty': 'l1'}</td>\n",
              "      <td>1.00</td>\n",
              "      <td>1.00</td>\n",
              "      <td>0.99</td>\n",
              "      <td>1.00</td>\n",
              "      <td>0.00</td>\n",
              "      <td>2</td>\n",
              "    </tr>\n",
              "    <tr>\n",
              "      <th>4</th>\n",
              "      <td>0.10</td>\n",
              "      <td>0.04</td>\n",
              "      <td>0.00</td>\n",
              "      <td>0.00</td>\n",
              "      <td>0.00</td>\n",
              "      <td>1</td>\n",
              "      <td>optimal</td>\n",
              "      <td>log</td>\n",
              "      <td>l2</td>\n",
              "      <td>{'alpha': 1e-06, 'eta0': 1, 'learning_rate': 'optimal', 'loss': 'log', 'penalty': 'l2'}</td>\n",
              "      <td>1.00</td>\n",
              "      <td>1.00</td>\n",
              "      <td>0.99</td>\n",
              "      <td>1.00</td>\n",
              "      <td>0.00</td>\n",
              "      <td>2</td>\n",
              "    </tr>\n",
              "    <tr>\n",
              "      <th>...</th>\n",
              "      <td>...</td>\n",
              "      <td>...</td>\n",
              "      <td>...</td>\n",
              "      <td>...</td>\n",
              "      <td>...</td>\n",
              "      <td>...</td>\n",
              "      <td>...</td>\n",
              "      <td>...</td>\n",
              "      <td>...</td>\n",
              "      <td>...</td>\n",
              "      <td>...</td>\n",
              "      <td>...</td>\n",
              "      <td>...</td>\n",
              "      <td>...</td>\n",
              "      <td>...</td>\n",
              "      <td>...</td>\n",
              "    </tr>\n",
              "    <tr>\n",
              "      <th>235</th>\n",
              "      <td>0.04</td>\n",
              "      <td>0.02</td>\n",
              "      <td>0.00</td>\n",
              "      <td>0.00</td>\n",
              "      <td>0.00</td>\n",
              "      <td>0.00</td>\n",
              "      <td>invscaling</td>\n",
              "      <td>log</td>\n",
              "      <td>l2</td>\n",
              "      <td>{'alpha': 0.001, 'eta0': 1e-09, 'learning_rate': 'invscaling', 'loss': 'log', 'penalty': 'l2'}</td>\n",
              "      <td>1.00</td>\n",
              "      <td>0.97</td>\n",
              "      <td>0.99</td>\n",
              "      <td>0.99</td>\n",
              "      <td>0.01</td>\n",
              "      <td>231</td>\n",
              "    </tr>\n",
              "    <tr>\n",
              "      <th>236</th>\n",
              "      <td>0.04</td>\n",
              "      <td>0.01</td>\n",
              "      <td>0.00</td>\n",
              "      <td>0.00</td>\n",
              "      <td>0.00</td>\n",
              "      <td>0.00</td>\n",
              "      <td>invscaling</td>\n",
              "      <td>log</td>\n",
              "      <td>None</td>\n",
              "      <td>{'alpha': 0.001, 'eta0': 1e-09, 'learning_rate': 'invscaling', 'loss': 'log', 'penalty': 'None'}</td>\n",
              "      <td>1.00</td>\n",
              "      <td>0.97</td>\n",
              "      <td>0.99</td>\n",
              "      <td>0.99</td>\n",
              "      <td>0.01</td>\n",
              "      <td>231</td>\n",
              "    </tr>\n",
              "    <tr>\n",
              "      <th>237</th>\n",
              "      <td>0.03</td>\n",
              "      <td>0.01</td>\n",
              "      <td>0.00</td>\n",
              "      <td>0.00</td>\n",
              "      <td>0.00</td>\n",
              "      <td>0.00</td>\n",
              "      <td>adaptive</td>\n",
              "      <td>log</td>\n",
              "      <td>l1</td>\n",
              "      <td>{'alpha': 0.001, 'eta0': 1e-09, 'learning_rate': 'adaptive', 'loss': 'log', 'penalty': 'l1'}</td>\n",
              "      <td>1.00</td>\n",
              "      <td>0.97</td>\n",
              "      <td>0.99</td>\n",
              "      <td>0.99</td>\n",
              "      <td>0.01</td>\n",
              "      <td>193</td>\n",
              "    </tr>\n",
              "    <tr>\n",
              "      <th>238</th>\n",
              "      <td>0.03</td>\n",
              "      <td>0.01</td>\n",
              "      <td>0.00</td>\n",
              "      <td>0.00</td>\n",
              "      <td>0.00</td>\n",
              "      <td>0.00</td>\n",
              "      <td>adaptive</td>\n",
              "      <td>log</td>\n",
              "      <td>l2</td>\n",
              "      <td>{'alpha': 0.001, 'eta0': 1e-09, 'learning_rate': 'adaptive', 'loss': 'log', 'penalty': 'l2'}</td>\n",
              "      <td>1.00</td>\n",
              "      <td>0.97</td>\n",
              "      <td>0.99</td>\n",
              "      <td>0.99</td>\n",
              "      <td>0.01</td>\n",
              "      <td>197</td>\n",
              "    </tr>\n",
              "    <tr>\n",
              "      <th>239</th>\n",
              "      <td>0.03</td>\n",
              "      <td>0.01</td>\n",
              "      <td>0.00</td>\n",
              "      <td>0.00</td>\n",
              "      <td>0.00</td>\n",
              "      <td>0.00</td>\n",
              "      <td>adaptive</td>\n",
              "      <td>log</td>\n",
              "      <td>None</td>\n",
              "      <td>{'alpha': 0.001, 'eta0': 1e-09, 'learning_rate': 'adaptive', 'loss': 'log', 'penalty': 'None'}</td>\n",
              "      <td>1.00</td>\n",
              "      <td>0.97</td>\n",
              "      <td>0.99</td>\n",
              "      <td>0.99</td>\n",
              "      <td>0.01</td>\n",
              "      <td>197</td>\n",
              "    </tr>\n",
              "  </tbody>\n",
              "</table>\n",
              "<p>240 rows × 16 columns</p>\n",
              "</div>"
            ],
            "text/plain": [
              "     mean_fit_time  std_fit_time  mean_score_time  std_score_time param_alpha  \\\n",
              "0             0.04          0.02             0.00            0.00        0.00   \n",
              "1             0.03          0.02             0.00            0.00        0.00   \n",
              "2             0.03          0.02             0.00            0.00        0.00   \n",
              "3             0.14          0.06             0.00            0.00        0.00   \n",
              "4             0.10          0.04             0.00            0.00        0.00   \n",
              "..             ...           ...              ...             ...         ...   \n",
              "235           0.04          0.02             0.00            0.00        0.00   \n",
              "236           0.04          0.01             0.00            0.00        0.00   \n",
              "237           0.03          0.01             0.00            0.00        0.00   \n",
              "238           0.03          0.01             0.00            0.00        0.00   \n",
              "239           0.03          0.01             0.00            0.00        0.00   \n",
              "\n",
              "    param_eta0 param_learning_rate param_loss param_penalty  \\\n",
              "0            1            constant        log            l1   \n",
              "1            1            constant        log            l2   \n",
              "2            1            constant        log          None   \n",
              "3            1             optimal        log            l1   \n",
              "4            1             optimal        log            l2   \n",
              "..         ...                 ...        ...           ...   \n",
              "235       0.00          invscaling        log            l2   \n",
              "236       0.00          invscaling        log          None   \n",
              "237       0.00            adaptive        log            l1   \n",
              "238       0.00            adaptive        log            l2   \n",
              "239       0.00            adaptive        log          None   \n",
              "\n",
              "                                                                                               params  \\\n",
              "0            {'alpha': 1e-06, 'eta0': 1, 'learning_rate': 'constant', 'loss': 'log', 'penalty': 'l1'}   \n",
              "1            {'alpha': 1e-06, 'eta0': 1, 'learning_rate': 'constant', 'loss': 'log', 'penalty': 'l2'}   \n",
              "2          {'alpha': 1e-06, 'eta0': 1, 'learning_rate': 'constant', 'loss': 'log', 'penalty': 'None'}   \n",
              "3             {'alpha': 1e-06, 'eta0': 1, 'learning_rate': 'optimal', 'loss': 'log', 'penalty': 'l1'}   \n",
              "4             {'alpha': 1e-06, 'eta0': 1, 'learning_rate': 'optimal', 'loss': 'log', 'penalty': 'l2'}   \n",
              "..                                                                                                ...   \n",
              "235    {'alpha': 0.001, 'eta0': 1e-09, 'learning_rate': 'invscaling', 'loss': 'log', 'penalty': 'l2'}   \n",
              "236  {'alpha': 0.001, 'eta0': 1e-09, 'learning_rate': 'invscaling', 'loss': 'log', 'penalty': 'None'}   \n",
              "237      {'alpha': 0.001, 'eta0': 1e-09, 'learning_rate': 'adaptive', 'loss': 'log', 'penalty': 'l1'}   \n",
              "238      {'alpha': 0.001, 'eta0': 1e-09, 'learning_rate': 'adaptive', 'loss': 'log', 'penalty': 'l2'}   \n",
              "239    {'alpha': 0.001, 'eta0': 1e-09, 'learning_rate': 'adaptive', 'loss': 'log', 'penalty': 'None'}   \n",
              "\n",
              "     split0_test_score  split1_test_score  split2_test_score  mean_test_score  \\\n",
              "0                 1.00               1.00               0.99             1.00   \n",
              "1                 1.00               1.00               0.99             1.00   \n",
              "2                 1.00               1.00               0.99             1.00   \n",
              "3                 1.00               1.00               0.99             1.00   \n",
              "4                 1.00               1.00               0.99             1.00   \n",
              "..                 ...                ...                ...              ...   \n",
              "235               1.00               0.97               0.99             0.99   \n",
              "236               1.00               0.97               0.99             0.99   \n",
              "237               1.00               0.97               0.99             0.99   \n",
              "238               1.00               0.97               0.99             0.99   \n",
              "239               1.00               0.97               0.99             0.99   \n",
              "\n",
              "     std_test_score  rank_test_score  \n",
              "0              0.00                2  \n",
              "1              0.00                2  \n",
              "2              0.00                2  \n",
              "3              0.00                2  \n",
              "4              0.00                2  \n",
              "..              ...              ...  \n",
              "235            0.01              231  \n",
              "236            0.01              231  \n",
              "237            0.01              193  \n",
              "238            0.01              197  \n",
              "239            0.01              197  \n",
              "\n",
              "[240 rows x 16 columns]"
            ]
          },
          "metadata": {
            "tags": []
          }
        },
        {
          "output_type": "stream",
          "text": [
            "Mejor Modelo\n",
            " SGDClassifier(alpha=0.001, average=False, class_weight=None,\n",
            "              early_stopping=False, epsilon=0.1, eta0=1, fit_intercept=True,\n",
            "              l1_ratio=0.15, learning_rate='constant', loss='log',\n",
            "              max_iter=1000, n_iter_no_change=5, n_jobs=None, penalty='l2',\n",
            "              power_t=0.5, random_state=0, shuffle=True, tol=0.001,\n",
            "              validation_fraction=0.1, verbose=0, warm_start=False)\n",
            "Mejores Parametros\n",
            " {'alpha': 0.001, 'eta0': 1, 'learning_rate': 'constant', 'loss': 'log', 'penalty': 'l2'}\n",
            "accuracy: 95.35%\n"
          ],
          "name": "stdout"
        },
        {
          "output_type": "display_data",
          "data": {
            "image/png": "[encoded data removed]",
            "text/plain": [
              "<Figure size 432x288 with 1 Axes>"
            ]
          },
          "metadata": {
            "tags": [],
            "needs_background": "light"
          }
        }
      ]
    },
    {
      "cell_type": "code",
      "metadata": {
        "id": "XhfW8H3m6k9l",
        "colab_type": "code",
        "colab": {
          "base_uri": "https://localhost:8080/",
          "height": 121
        },
        "outputId": "3aae03ba-505e-4491-baa4-0404b7f1e965"
      },
      "source": [
        "# Calculamos la métricas del modelo obtenido mediante el método de GridSearch con CV midiendo accuracy para el conjunto de test\n",
        "print('Estrategia para CV usada: \\n', iterator)\n",
        "print('Valores de \"accuracy\" mediante Cross Validation:')\n",
        "CVscoring = cross_val_score(best_model, X_test_std, y_test, scoring='accuracy', cv=iterator)\n",
        "print(CVscoring)\n",
        "\n",
        "print('Valor medio de \"accuracy\":')\n",
        "print(CVscoring.mean())"
      ],
      "execution_count": 24,
      "outputs": [
        {
          "output_type": "stream",
          "text": [
            "Estrategia para CV usada: \n",
            " TimeSeriesSplit(max_train_size=None, n_splits=3)\n",
            "Valores de \"accuracy\" mediante Cross Validation:\n",
            "[1.         1.         0.99954525]\n",
            "Valor medio de \"accuracy\":\n",
            "0.9998484159466424\n"
          ],
          "name": "stdout"
        }
      ]
    },
    {
      "cell_type": "code",
      "metadata": {
        "id": "3_-LPXrw0yQD",
        "colab_type": "code",
        "colab": {
          "base_uri": "https://localhost:8080/",
          "height": 173
        },
        "outputId": "6bf977d1-362a-4569-c916-35c1fa7b47f8"
      },
      "source": [
        "#  Classification report para el conjunto de test\n",
        "target_names = ['suministro = 0', 'suministro = 1']\n",
        "print(classification_report(y_test, y_pred, target_names=target_names))"
      ],
      "execution_count": 25,
      "outputs": [
        {
          "output_type": "stream",
          "text": [
            "                precision    recall  f1-score   support\n",
            "\n",
            "suministro = 0       0.07      0.81      0.12        36\n",
            "suministro = 1       1.00      0.95      0.98      8762\n",
            "\n",
            "      accuracy                           0.95      8798\n",
            "     macro avg       0.53      0.88      0.55      8798\n",
            "  weighted avg       1.00      0.95      0.97      8798\n",
            "\n"
          ],
          "name": "stdout"
        }
      ]
    },
    {
      "cell_type": "code",
      "metadata": {
        "id": "x2HVoP7l2HF8",
        "colab_type": "code",
        "colab": {
          "base_uri": "https://localhost:8080/",
          "height": 341
        },
        "outputId": "4421661f-31f2-42f9-b0e7-9489fcbf016d"
      },
      "source": [
        "# Cálculo de la matriz de confusión y \n",
        "\n",
        "labels = ['Sin suministro', 'Con suministro']\n",
        "cm = confusion_matrix(y_test, y_pred)\n",
        "\n",
        "print('Matriz de confusión:')\n",
        "print(cm)\n",
        "fig = plt.figure()\n",
        "ax = fig.add_subplot(111)\n",
        "cax = ax.matshow(cm)\n",
        "plt.title('Matriz de confusión')\n",
        "fig.colorbar(cax)\n",
        "ax.set_xticklabels([''] + labels)\n",
        "ax.set_yticklabels([''] + labels)\n",
        "plt.xlabel('Predicho')\n",
        "plt.ylabel('Verdaderos')\n",
        "plt.show()"
      ],
      "execution_count": 26,
      "outputs": [
        {
          "output_type": "stream",
          "text": [
            "Matriz de confusión:\n",
            "[[  29    7]\n",
            " [ 402 8360]]\n"
          ],
          "name": "stdout"
        },
        {
          "output_type": "display_data",
          "data": {
            "image/png": "[encoded data removed]",
            "text/plain": [
              "<Figure size 432x288 with 2 Axes>"
            ]
          },
          "metadata": {
            "tags": [],
            "needs_background": "light"
          }
        }
      ]
    },
    {
      "cell_type": "code",
      "metadata": {
        "id": "MMQMqGos2tP_",
        "colab_type": "code",
        "colab": {
          "base_uri": "https://localhost:8080/",
          "height": 295
        },
        "outputId": "14265f25-dceb-4d9e-cf5d-784779df47bc"
      },
      "source": [
        "# Ploteo de la curva ROC y cálculo del valor AUC\n",
        "#  Analizamos el modelo obtenido mediante GridSearchCV y aplicamos Stratified K-Folds cross-validator \n",
        "#  para obtener 5 curvas ROC para estos nuevos conjuntos generados y calcular su media\n",
        "\n",
        "X, y = ds_onlynum[[feat1,feat2]], ds_onlynum[target]\n",
        "\n",
        "X = X.to_numpy()\n",
        "y = y.to_numpy()\n",
        "\n",
        "sc = StandardScaler()\n",
        "sc.fit(X_train)\n",
        "X = sc.transform(X)\n",
        "\n",
        "classifier = cv.best_estimator_\n",
        "\n",
        "tprs = []\n",
        "aucs = []\n",
        "mean_fpr = np.linspace(0, 1, 100)\n",
        "\n",
        "fig, ax = plt.subplots()\n",
        "for i, (train, test) in enumerate(iterator.split(X, y)):\n",
        "    classifier.fit(X[train], y[train])\n",
        "    viz = plot_roc_curve(classifier, X[test], y[test],\n",
        "                         name='ROC fold {}'.format(i+1),\n",
        "                         alpha=0.3, lw=1, ax=ax)\n",
        "    interp_tpr = np.interp(mean_fpr, viz.fpr, viz.tpr)\n",
        "    interp_tpr[0] = 0.0\n",
        "    tprs.append(interp_tpr)\n",
        "    aucs.append(viz.roc_auc)\n",
        "\n",
        "\n",
        "ax.plot([0, 1], [0, 1], linestyle='--', lw=2, color='r',\n",
        "        label='Chance', alpha=.8)\n",
        "\n",
        "mean_tpr = np.mean(tprs, axis=0)\n",
        "mean_tpr[-1] = 1.0\n",
        "mean_auc = auc(mean_fpr, mean_tpr)\n",
        "std_auc = np.std(aucs)\n",
        "ax.plot(mean_fpr, mean_tpr, color='b',\n",
        "        label=r'Mean ROC (AUC = %0.2f $\\pm$ %0.2f)' % (mean_auc, std_auc),\n",
        "        lw=2, alpha=.8)\n",
        "\n",
        "std_tpr = np.std(tprs, axis=0)\n",
        "tprs_upper = np.minimum(mean_tpr + std_tpr, 1)\n",
        "tprs_lower = np.maximum(mean_tpr - std_tpr, 0)\n",
        "ax.fill_between(mean_fpr, tprs_lower, tprs_upper, color='grey', alpha=.2,\n",
        "                label=r'$\\pm$ 1 std. dev.')\n",
        "\n",
        "ax.set(xlim=[-0.05, 1.05], ylim=[-0.05, 1.05],\n",
        "       title=\"Curvas ROC con CV\")\n",
        "ax.legend(loc=\"lower right\")\n",
        "plt.show()\n"
      ],
      "execution_count": 27,
      "outputs": [
        {
          "output_type": "display_data",
          "data": {
            "image/png": "[encoded data removed]",
            "text/plain": [
              "<Figure size 432x288 with 1 Axes>"
            ]
          },
          "metadata": {
            "tags": [],
            "needs_background": "light"
          }
        }
      ]
    },
    {
      "cell_type": "code",
      "metadata": {
        "id": "p5VvqNw020L9",
        "colab_type": "code",
        "colab": {}
      },
      "source": [
        ""
      ],
      "execution_count": null,
      "outputs": []
    }
  ]
}