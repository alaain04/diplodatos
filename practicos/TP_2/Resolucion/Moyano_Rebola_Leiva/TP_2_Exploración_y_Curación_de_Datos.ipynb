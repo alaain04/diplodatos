{
  "nbformat": 4,
  "nbformat_minor": 0,
  "metadata": {
    "colab": {
      "name": "TP 2 - Exploración y Curación de Datos.ipynb",
      "provenance": [],
      "collapsed_sections": [],
      "toc_visible": true
    },
    "kernelspec": {
      "name": "python3",
      "display_name": "Python 3"
    }
  },
  "cells": [
    {
      "cell_type": "markdown",
      "metadata": {
        "id": "my4cfXmQxPgD",
        "colab_type": "text"
      },
      "source": [
        "# **Mentoría**\n",
        "## **Análisis y predicción de distribución troncal de energía**\n",
        "\n",
        "\n",
        "- Gabriel Moyano\n",
        "- Leonardo Rebola\n",
        "- Pablo Leiva\n"
      ]
    },
    {
      "cell_type": "markdown",
      "metadata": {
        "id": "-BfUSjeJasF5",
        "colab_type": "text"
      },
      "source": [
        "### **Introducción**\n",
        "\n",
        "En la siguiente notebook, se presentará la consigna a seguir para el segundo práctico de la materia Exploración y Curación de datos. El objetivo consiste en identificar e implementar los pasos necesarios para la limpieza y unificación de los datasets de Energía y Clima, así como también analizar cruces de datos con mayor profundidad y validando el sentido lógico. Para ello, comenzaremos con las importaciones pertinentes.\n"
      ]
    },
    {
      "cell_type": "markdown",
      "metadata": {
        "id": "hmetljyza4ZI",
        "colab_type": "text"
      },
      "source": [
        "\n",
        "## Consigna para Curación y Exploración del Dataset\n",
        "### I. Rutina de Curación\n",
        "\n",
        "Inicialmente, con el objetivo de preparar los datos que alimentarán futuros modelos de aprendizaje automático (ML), se propone seguir la siguiente [checklist](https://dimewiki.worldbank.org/wiki/Checklist:_Data_Cleaning) para la limpieza de los datos de nuestro proyecto. Esta checklist es la misma que utilizaron en el primer práctico de la materia y nos será de utilidad como guía para curar el dataset. A modo de ayuda, en esta notebook encontrarán una especie de template que sigue la checklist y que deberán ir completando.\n",
        "\n",
        "Cada decisión tomada deberá quedar registrada de manera explícita y clara. Luego de pasar por todos los puntos de la checklist propuesta, deberán almacenar en un nuevo archivo los datos resultantes. \n",
        "\n",
        "A los fines de realizar este práctico, se utilizarán los dataset original, pero descartando todas aquellas columnas que se hayan calculado en base a features preexistentes, ya que éstas están relacionadas a decisiones que adoptaremos más adelante, como por ejemplo, sobre si es necesario crear nuevas features y si incluirlas o no. Recuerden que la ciencia de datos es un proceso circular, continuo y no lineal. Es decir, si los datos requieren de mayor procesamiento para satisfacer las necesidades de algoritmos de ML (cualesquiera de ellos), vamos a volver a la etapa inicial para, por ejemplo, crear nuevas features, tomar decisiones diferentes sobre valores faltantes o valores atípicos (outliers), descartar features, entre otras.\n",
        "\n",
        "### II. Análisis en Profundidad del Contenido\n",
        "\n",
        "Una vez aplicada la Checklist, lo que vamos a hacer es profundizar aún más el análisis y tomar decisiones que se consideren pertinentes, si es que no lo han hecho aún en el desarrollo del primer apartado. Por supuesto, se deberán registrar todas las decisiones que tomen al respecto.\n",
        "\n",
        "Al finalizar con el práctico, las preguntas listadas a continuación deberán quedar respondidas, mientras que si ya lo hicieron durante el desarrollo de la ´checklist´, el objetivo es que se replanteen las decisiones tomadas al respecto:\n",
        "\n",
        "1. La potencia total de las 3 fases esta dada por una fórmula en la que participan la tensión y corriente media de las fases. \n",
        "\n",
        "  1.a. Comparar los campos de tensiones. ¿Poseen la misma información? ¿Qué deberíamos hacer al respecto? \n",
        "\n",
        "  1.b. Comparar los campos de corrientes. ¿Poseen la misma información? ¿Qué deberíamos hacer al respecto? \n",
        "  \n",
        "2.   Si la medición de potencia está invertida(negativa) el factor de potencia debería serlo también. Validar que esto ocurra en todos los casos. ¿Qué hacer en los que no?\n",
        "\n",
        "3.   ¿Existe algun feture que pueda ser negativo? Reemplazar los negativos por su valor absoluto.\n",
        "\n",
        "4.   ¿Existen valores faltantes? Definir e implementar estrategia para completarlos o descartarlos.\n",
        "\n",
        "5.   Los datasets poseen diferentes frecuencia de medición. Definir una misma frecuencia y generar un único set de datos.\n",
        "\n",
        "\n",
        "Esta lista es extensa e intenta abarcar todas las posibles irregularidades en los datos, pero puede no ser exhaustiva. Cualquier análisis adicional de consistencia que deseen agregar porque lo consideran pertinente, será bienvenido y valorado.\n"
      ]
    },
    {
      "cell_type": "markdown",
      "metadata": {
        "id": "AmMltLhGgrKy",
        "colab_type": "text"
      },
      "source": [
        "### Entregables\n",
        "\n",
        "El entregable de este práctico consiste en esta misma Notebook, pero con la checklist realizada y el análisis de contenido completo, explicando las decisiones tomadas en cada etapa. Además, deberán generar un script (.py) que contenga una función para curar nuevos datos con la misma estructura. Finalmente, deberán actualizar la metadata.\n"
      ]
    },
    {
      "cell_type": "markdown",
      "metadata": {
        "id": "CeDJq-b6iDyz",
        "colab_type": "text"
      },
      "source": [
        "# Resolución\n",
        "## I. Rutina de Curación\n",
        "### 1. Importación de Datos\n",
        "\n",
        "**1.1. Verificación de inexistencia en problemas en la importación de los datasets**\n",
        "\n",
        "**1.2. Asegurar la existencia de IDs o claves únicas**\n",
        "\n",
        "El siguiente paso implica chequear que no existen datos duplicados y que las claves, si existen, son únicas.\n",
        "\n",
        "**1.3. Despersonalizar datos y guardarlos en un nuevo archivo**\n",
        "\n",
        "Aplica?\n",
        "\n",
        "**1.4. Nunca modificar los dDatos crudos u originales**\n",
        "\n",
        "Al finalizar la limpieza, deberán guardar el dataset resultante, para asegurarse de no modificar los datos originales.\n",
        "\n",
        "\n",
        "### 2. Pasos de Limpieza Necesarios\n",
        "**2.1. Etiquetas de variables y problemas de codificación/encoding**\n",
        "\n",
        "Verificar que las etiquetas y valores de features no posean problemas de codificación. \n",
        "\n",
        "**2.2. Tratamiento de valores faltantes**\n",
        "\n",
        "Para analizar los valores faltantes, primero deberán saber cuántos existen por campo y cuánto representan del total. \n",
        "\n",
        "Detallar estrategias para completar los features faltantes o eliminar el registro completo.\n",
        "\n",
        "**2.3. Codificación de variables categóricas**\n",
        "\n",
        "Aplica?\n",
        "\n",
        "**2.4. No cambiar los nombres de las variables de la fuente de origen**\n",
        "\n",
        "\n",
        "**2.5. Verificación de consistencia de datos**\n",
        "\n",
        "Este es el paso más analítico, en donde se deben aplicar reglas de integridad.\n",
        "\n",
        "\n",
        "**2.6. Identificar y documentar valores atípicos/outliers**\n",
        "\n",
        "Calcular estadísticos. \n",
        "\n",
        "Detallar estrategias para completar los features con outliers o eliminar el registro completo.\n",
        "\n",
        "\n",
        "**2.7. Evaluar cómo comprimir los datos para su almacenamiento más eficiente**\n",
        "\n",
        "**2.8. Guardar el set de datos con un nombre informativo**\n",
        "\n",
        "\n",
        "### 3. Pasos de Limpieza Deseables\n",
        "**3.1. Ordenar variables/columnas**\n",
        "\n",
        "\n",
        "**3.2. Quitar variables/columnas irrelevantes**\n",
        "\n",
        "Existen features irrelevantes, que no aportan información?\n",
        "\n",
        "**3.3. Agregar metadata a los datos**\n",
        "\n",
        "Cuando y como fueron obtenidos, limpieza realizada, decisiones implementadas, asunciones, etc.\n",
        "\n"
      ]
    },
    {
      "cell_type": "markdown",
      "metadata": {
        "id": "WMxI9mTvhM26",
        "colab_type": "text"
      },
      "source": [
        "---\n",
        "\n",
        "# Resolución\n",
        "## I. Rutina de Curación\n",
        "### 1. Importación de Datos\n",
        "**1.1. Verificación de Inexistencia de Problemas en la Importación**\n",
        "\n",
        "Para comenzar, importamos los datos que vamos a procesar:\n"
      ]
    },
    {
      "cell_type": "code",
      "metadata": {
        "id": "jvoEMroCakp6",
        "colab_type": "code",
        "colab": {
          "base_uri": "https://localhost:8080/",
          "height": 72
        },
        "outputId": "971138b1-6547-488c-f2d4-e979eae9261a"
      },
      "source": [
        "# Importación de las librerías necesarias\n",
        "import numpy as np\n",
        "import pandas as pd\n",
        "# Puede que nos sirvan también\n",
        "import matplotlib as mpl\n",
        "mpl.get_cachedir()\n",
        "import matplotlib.pyplot as plt\n",
        "%matplotlib inline\n",
        "import seaborn as sns\n",
        "import datetime as dt\n",
        "from datetime import datetime\n",
        "import os\n",
        "import warnings\n",
        "from zipfile import ZipFile"
      ],
      "execution_count": 1,
      "outputs": [
        {
          "output_type": "stream",
          "text": [
            "/usr/local/lib/python3.6/dist-packages/statsmodels/tools/_testing.py:19: FutureWarning: pandas.util.testing is deprecated. Use the functions in the public API at pandas.testing instead.\n",
            "  import pandas.util.testing as tm\n"
          ],
          "name": "stderr"
        }
      ]
    },
    {
      "cell_type": "code",
      "metadata": {
        "id": "WZHaBnlJa6i0",
        "colab_type": "code",
        "colab": {}
      },
      "source": [
        "pd.set_option('display.max_columns', 150)\n",
        "pd.set_option('display.max_rows', 150)\n",
        "pd.set_option('max_colwidth', 151)"
      ],
      "execution_count": 2,
      "outputs": []
    },
    {
      "cell_type": "code",
      "metadata": {
        "id": "c8J7Ystqhd8S",
        "colab_type": "code",
        "colab": {}
      },
      "source": [
        "#Parsing auxiliar\n",
        "dateparse = lambda x: dt.datetime.strptime(x, '%Y-%m-%d %H:%M:%S')\n",
        "\n",
        "# para que los numeros flotantes me los muestre solo con dos decimales\n",
        "pd.options.display.float_format = '{:.2f}'.format"
      ],
      "execution_count": 3,
      "outputs": []
    },
    {
      "cell_type": "code",
      "metadata": {
        "id": "j2Tcb-UPRrzb",
        "colab_type": "code",
        "colab": {}
      },
      "source": [
        "df_logs = pd.DataFrame(columns=['datetime', 'message'])\n",
        "\n",
        "def log(message):\n",
        "    global df_logs\n",
        "    log_time = datetime.today().strftime('%Y-%m-%d %H:%M:%S')\n",
        "    print('{} {}'.format(log_time, message))\n",
        "    df_logs = df_logs.append({'datetime':log_time, 'message':message}, ignore_index=True)"
      ],
      "execution_count": 4,
      "outputs": []
    },
    {
      "cell_type": "code",
      "metadata": {
        "id": "MeqV2AaArAaF",
        "colab_type": "code",
        "colab": {}
      },
      "source": [
        "# Información del ultimo dataset.\n",
        "# Esta información es utilizada para saber que no se esta importando un dataset con menor cantidad de registros.\n",
        "\n",
        "ENERGIA_FILAS=44363\n",
        "ENERGIA_COLUMNAS=9\n",
        "ENERGIA_DIAS=154\n",
        "\n",
        "CLIMA_FILAS=3001\n",
        "CLIMA_COLUMNAS=3\n",
        "CLIMA_DIAS=194"
      ],
      "execution_count": 5,
      "outputs": []
    },
    {
      "cell_type": "code",
      "metadata": {
        "id": "_BkLmzWThfnJ",
        "colab_type": "code",
        "colab": {}
      },
      "source": [
        "# _ds_energía\n",
        "_ds_energia = pd.read_csv('https://raw.githubusercontent.com/alaain04/diplodatos/master/data/distribucion.csv',\n",
        "                          dtype={'Amper fase T-A': float},\n",
        "                          parse_dates=['Fecha'],\n",
        "                          date_parser=dateparse,\n",
        "                          float_precision='round_trip')\n",
        "\n",
        "# nombres de columnas originales\n",
        "energia_origin_col_names = ['Fecha', 'Amper fase T-A', 'Amper fase S-A', 'Amper fase R-A', 'Vab', 'Vca', 'Vbc', 'Kwatts 3 fases', 'Factor de Poten-A']\n",
        "# nombre de columnas para trabajar el dataset de forma mas simple\n",
        "energia_work_col_names = ['fecha','ta','sa','ra','vab','vca','vbc','kwatts','potencia']\n",
        "# mapeo de nombre de columnas de trabajo y las originales. Pandas no tiene un \"alias\" para las variables.\n",
        "energia_origin_col_names_dic = {'fecha':'Fecha', 'ta':'Amper fase T-A', 'sa':'Amper fase S-A', 'ra':'Amper fase R-A', 'vab':'Vab', 'vca':'Vca', 'vbc':'Vbc', 'kwatts':'Kwatts 3 fases', 'potencia':'Factor de Poten-A'}\n",
        "# columnas de interes\n",
        "interesting_col = ['ta','sa','ra','vab','vca','vbc','kwatts','potencia']\n",
        "# asignacion de nombres para trabajar\n",
        "_ds_energia.columns = energia_work_col_names"
      ],
      "execution_count": 6,
      "outputs": []
    },
    {
      "cell_type": "code",
      "metadata": {
        "id": "F97HipWYjgdV",
        "colab_type": "code",
        "colab": {}
      },
      "source": [
        "# cargo el ds del clima y me quedo con las columnas de fechas, temperatura y velocidad de viento\n",
        "_ds_clima = pd.read_csv('https://github.com/alaain04/diplodatos/raw/master/data/clima.csv',parse_dates=['time'],date_parser=dateparse)\n",
        "\n",
        "_ds_clima = _ds_clima.sort_values(by='time').reset_index()\n",
        "_ds_clima = _ds_clima[['time','temperature','windspeed']]\n",
        "_ds_clima.columns =['fecha','temperature','windspeed']\n",
        "\n",
        "clima_origin_col_names_dic = {'fecha':'time', 'temperature':'temperature','windspeed':'windspeed'}"
      ],
      "execution_count": 7,
      "outputs": []
    },
    {
      "cell_type": "markdown",
      "metadata": {
        "id": "-xDxDtJImGgH",
        "colab_type": "text"
      },
      "source": [
        "# Resolución"
      ]
    },
    {
      "cell_type": "markdown",
      "metadata": {
        "id": "RHNW5zFRm6wD",
        "colab_type": "text"
      },
      "source": [
        "## 1. Importación de Datos\n",
        "### 1.1. Verificación de inexistencia en problemas en la importación de los datasets"
      ]
    },
    {
      "cell_type": "code",
      "metadata": {
        "id": "9XxrOS2Vx7d6",
        "colab_type": "code",
        "colab": {
          "base_uri": "https://localhost:8080/",
          "height": 34
        },
        "outputId": "eb8e1fb1-e442-4b14-d637-1e2df3d8a55c"
      },
      "source": [
        "def energia_check_date_and_rows():\n",
        "    is_valid = True\n",
        "    \n",
        "    # el dataset inicial tiene 155 días de registros. Por lo cual se verifica que no se reduzca esa cantidad\n",
        "    if (_ds_energia.fecha.max() - _ds_energia.fecha.min()).days < ENERGIA_DIAS:\n",
        "        is_valid = False\n",
        "        log('Error: Hay menos días ({}) que lo esperado ({})'.format((_ds_energia.fecha.max() - _ds_energia.fecha.min()).days), ENERGIA_DIAS)\n",
        "    \n",
        "    # el dataset inicial tiene 44363 filas. Por lo cual se verifica que no se reduzca esa cantidad\n",
        "    if _ds_energia.shape[0] < ENERGIA_FILAS:\n",
        "        is_valid = False\n",
        "        log('Error: Hay menos filas ({}) de las esperadas ({})'.format(_ds_energia.shape[0]), ENERGIA_FILAS)\n",
        "    \n",
        "    return is_valid\n",
        "        \n",
        "def energia_is_num_cols_rows_valid():\n",
        "    if len(_ds_energia.columns) < ENERGIA_COLUMNAS:\n",
        "        log('Error: Faltan columnas')\n",
        "        return False\n",
        "    elif len(_ds_energia.columns) > ENERGIA_COLUMNAS:\n",
        "        log('Error: Hay mas cantidad de columnas')\n",
        "        return False\n",
        "    \n",
        "    if _ds_energia.shape[0] < 1:\n",
        "        log('Error: No hay filas')\n",
        "        return False\n",
        "    \n",
        "    return True\n",
        "    \n",
        "\n",
        "def energia_is_valid_types():\n",
        "    is_valid_types = True\n",
        "\n",
        "    if _ds_energia.dtypes.fecha != np.dtype('datetime64[ns]'):\n",
        "        is_valid_types = False\n",
        "        log('Tipo de dato no esperado para: Fecha -> {}'.format(_ds_energia.fecha.dtype))\n",
        "\n",
        "\n",
        "    if _ds_energia.dtypes.ta != np.float64:\n",
        "        is_valid_types = False\n",
        "        log('Tipo de dato no esperado para: Amper fase T-A -> {}'.format(_ds_energia.dtypes.ta))\n",
        "\n",
        "    if _ds_energia.dtypes.sa != np.float64:\n",
        "        is_valid_types = False\n",
        "        log('Tipo de dato no esperado para: Amper fase S-A -> {}'.format(_ds_energia.dtypes.sa))\n",
        "\n",
        "    if _ds_energia.dtypes.ra != np.float64:\n",
        "        is_valid_types = False\n",
        "        log('Tipo de dato no esperado para: Amper fase R-A -> {}'.format(_ds_energia.dtypes.ra))\n",
        "\n",
        "\n",
        "    if _ds_energia.dtypes.vab != np.float64:\n",
        "        is_valid_types = False\n",
        "        log('Tipo de dato no esperado para: Vab -> {}'.format(_ds_energia.dtypes.vab))\n",
        "    if _ds_energia.dtypes.vca != np.float64:\n",
        "        is_valid_types = False\n",
        "        log('Tipo de dato no esperado para: Vca -> {}'.format(_ds_energia.dtypes.vca))\n",
        "    if _ds_energia.dtypes.vbc != np.float64:\n",
        "        is_valid_types = False\n",
        "        log('Tipo de dato no esperado para: Vbc -> {}'.format(_ds_energia.dtypes.vbc))\n",
        "\n",
        "\n",
        "    if _ds_energia.dtypes.kwatts != np.float64:\n",
        "        is_valid_types = False\n",
        "        log('Tipo de dato no esperado para: Kwatts 3 fases -> {}'.format(_ds_energia.dtypes.kwatts))\n",
        "\n",
        "    if _ds_energia.dtypes.potencia != np.float64:\n",
        "        is_valid_types = False\n",
        "        log('Tipo de dato no esperado para: Factor de Poten-A -> {}'.format(_ds_energia.dtypes.potencia))\n",
        "        \n",
        "    return is_valid_types\n",
        "\n",
        "\n",
        "if energia_is_num_cols_rows_valid() & energia_is_valid_types() & energia_check_date_and_rows():\n",
        "    log('Dataset Energía importado correctamente')"
      ],
      "execution_count": 8,
      "outputs": [
        {
          "output_type": "stream",
          "text": [
            "2020-07-29 03:17:45 Dataset Energía importado correctamente\n"
          ],
          "name": "stdout"
        }
      ]
    },
    {
      "cell_type": "code",
      "metadata": {
        "id": "RNhe2KAfp4c-",
        "colab_type": "code",
        "colab": {
          "base_uri": "https://localhost:8080/",
          "height": 34
        },
        "outputId": "65c236f0-d9ee-4733-f46c-25ed0116f284"
      },
      "source": [
        "def clima_check_date_and_rows():\n",
        "    is_valid = True\n",
        "    \n",
        "    # el dataset inicial tiene 155 días de registros. Por lo cual se verifica que no se reduzca esa cantidad\n",
        "    if (_ds_clima.fecha.max() - _ds_clima.fecha.min()).days < CLIMA_DIAS:\n",
        "        is_valid = False\n",
        "        log('Error: Hay menos días ({}) que lo esperado ({})'.format((_ds_clima.fecha.max() - _ds_energia.fecha.min()).days), CLIMA_DIAS)\n",
        "    \n",
        "    # el dataset inicial tiene 3001 filas. Por lo cual se verifica que no se reduzca esa cantidad\n",
        "    if _ds_clima.shape[0] < CLIMA_FILAS:\n",
        "        is_valid = False\n",
        "        log('Error: Hay menos filas ({}) de las esperadas ({})'.format(_ds_clima.shape[0]), CLIMA_FILAS)\n",
        "    \n",
        "    return is_valid\n",
        "\n",
        "def clima_is_num_cols_rows_valid():\n",
        "    if len(_ds_clima.columns) < CLIMA_COLUMNAS:\n",
        "        log('Error: Faltan columnas')\n",
        "        return False\n",
        "    elif len(_ds_clima.columns) > CLIMA_COLUMNAS:\n",
        "        log('Error: Hay mas cantidad de columnas')\n",
        "        return False\n",
        "    \n",
        "    if _ds_clima.shape[0] < 1:\n",
        "        log('Error: No hay filas')\n",
        "        return False\n",
        "    \n",
        "    return True\n",
        "\n",
        "def clima_is_valid_types():\n",
        "    is_valid_types = True\n",
        "\n",
        "    if _ds_clima.dtypes.fecha != np.dtype('datetime64[ns]'):\n",
        "        is_valid_types = False\n",
        "        log('Tipo de dato no esperado para: Fecha -> {}'.format(_ds_clima.fecha.dtype))\n",
        "\n",
        "    if _ds_clima.dtypes.temperature != np.float64:\n",
        "        is_valid_types = False\n",
        "        log('Tipo de dato no esperado para: Temperature -> {}'.format(_ds_clima.dtypes.temperature))\n",
        "\n",
        "    if _ds_clima.dtypes.windspeed != np.float64:\n",
        "        is_valid_types = False\n",
        "        log('Tipo de dato no esperado para: Windspeed -> {}'.format(_ds_clima.dtypes.windspeed))\n",
        "    \n",
        "    return is_valid_types\n",
        "\n",
        "if clima_is_valid_types() & clima_is_num_cols_rows_valid() & clima_check_date_and_rows():\n",
        "    log('Dataset Clima importado correctamente')"
      ],
      "execution_count": 9,
      "outputs": [
        {
          "output_type": "stream",
          "text": [
            "2020-07-29 03:17:46 Dataset Clima importado correctamente\n"
          ],
          "name": "stdout"
        }
      ]
    },
    {
      "cell_type": "markdown",
      "metadata": {
        "id": "0_EH3rSLnCzA",
        "colab_type": "text"
      },
      "source": [
        "## 1.2. Asegurar la existencia de IDs o claves únicas\n",
        "### El siguiente paso implica chequear que no existen datos duplicados y que las claves, si existen, son únicas."
      ]
    },
    {
      "cell_type": "code",
      "metadata": {
        "id": "hraI8CodIRHo",
        "colab_type": "code",
        "colab": {
          "base_uri": "https://localhost:8080/",
          "height": 34
        },
        "outputId": "127c68ac-4eb8-45aa-8dbc-0f0c9cb27ba0"
      },
      "source": [
        "def exist_datetimes_duplicates(ds):\n",
        "    if len(ds[ds.fecha.duplicated()]) == 0:\n",
        "        return False\n",
        "    else:\n",
        "        return True\n",
        "\n",
        "if exist_datetimes_duplicates(_ds_energia) & exist_datetimes_duplicates(_ds_clima):\n",
        "    log('Verificacion de Fecha y Hora únicas: Hay duplicados.')\n",
        "else:\n",
        "    log('Verificacion de Fecha y Hora únicas: OK')"
      ],
      "execution_count": 10,
      "outputs": [
        {
          "output_type": "stream",
          "text": [
            "2020-07-29 03:17:50 Verificacion de Fecha y Hora únicas: OK\n"
          ],
          "name": "stdout"
        }
      ]
    },
    {
      "cell_type": "markdown",
      "metadata": {
        "id": "rwnLxF_0nHYb",
        "colab_type": "text"
      },
      "source": [
        "## 1.3. Despersonalizar datos y guardarlos en un nuevo archivo\n",
        "\n",
        "Para este dataset no aplica porque no hay datos que identifiquen una persona fisica o juridica."
      ]
    },
    {
      "cell_type": "markdown",
      "metadata": {
        "id": "D4DxS4PLniHr",
        "colab_type": "text"
      },
      "source": [
        "## 1.4. Nunca modificar los dDatos crudos u originales\n",
        "### Al finalizar la limpieza, deberán guardar el dataset resultante, para asegurarse de no modificar los datos originales.\n",
        "\n",
        "El nuevo dataset se guardará en otro archivo csv con fecha y hora de la generación."
      ]
    },
    {
      "cell_type": "markdown",
      "metadata": {
        "id": "rBppr_Phnkgv",
        "colab_type": "text"
      },
      "source": [
        "#2. Pasos de Limpieza Necesarios"
      ]
    },
    {
      "cell_type": "markdown",
      "metadata": {
        "id": "MRdfh-Fjno6Q",
        "colab_type": "text"
      },
      "source": [
        "## 2.1. Etiquetas de variables y problemas de codificación/encoding\n",
        "### Verificar que las etiquetas y valores de features no posean problemas de codificación.\n",
        "\n",
        "En este dataset solo tenemos valores númericos que no deberian tener problemas de encoding. Pero si eso ocurré, la importación del archivo fallaria dando un mensaje de error al usuario."
      ]
    },
    {
      "cell_type": "markdown",
      "metadata": {
        "id": "oN6T6cZ5ntGj",
        "colab_type": "text"
      },
      "source": [
        "## 2.2. Tratamiento de valores faltantes\n",
        "### Para analizar los valores faltantes, primero deberán saber cuántos existen por campo y cuánto representan del total. \n",
        "### Detallar estrategias para completar los features faltantes o eliminar el registro completo.\n",
        "\n",
        "Aqui solo mostramos un resumen del estado de NaN en el dataset. Posteriormente se tratarán los valores faltantes en los features realizando una interpolación de los mismos."
      ]
    },
    {
      "cell_type": "code",
      "metadata": {
        "id": "rNUD1BGASfX3",
        "colab_type": "code",
        "colab": {
          "base_uri": "https://localhost:8080/",
          "height": 260
        },
        "outputId": "d56250a1-5f3f-4a49-e9b4-a23f91db219c"
      },
      "source": [
        "def summary_na_values_pct(ds, interesting_col):\n",
        "    count_total_rows = ds.shape[0]\n",
        "    count_total_cols = ds.shape[1]\n",
        "    count_total_na = ds.isna().sum()\n",
        "    \n",
        "    for col in interesting_col:\n",
        "        if count_total_cols > 3:\n",
        "            real_col_name = energia_origin_col_names_dic[col]\n",
        "        else:\n",
        "            real_col_name = clima_origin_col_names_dic[col]\n",
        "            \n",
        "        log('Cantidad de valores nulos en la columna: {:_<30} {:_<10} {}%'\n",
        "            .format(real_col_name, ds[col].isnull().sum(), round(((100 * ds[col].isnull().sum()) / count_total_rows), 2)))\n",
        "\n",
        "    \n",
        "log('Resumen de valores nulos para dataset Clima')\n",
        "summary_na_values_pct(_ds_clima, ['fecha','temperature','windspeed'])\n",
        "print('')\n",
        "log('Resumen de valores nulos para dataset Energia')\n",
        "summary_na_values_pct(_ds_energia, interesting_col)"
      ],
      "execution_count": 11,
      "outputs": [
        {
          "output_type": "stream",
          "text": [
            "2020-07-29 03:17:54 Resumen de valores nulos para dataset Clima\n",
            "2020-07-29 03:17:54 Cantidad de valores nulos en la columna: time__________________________ 0_________ 0.0%\n",
            "2020-07-29 03:17:54 Cantidad de valores nulos en la columna: temperature___________________ 0_________ 0.0%\n",
            "2020-07-29 03:17:54 Cantidad de valores nulos en la columna: windspeed_____________________ 2_________ 0.07%\n",
            "\n",
            "2020-07-29 03:17:54 Resumen de valores nulos para dataset Energia\n",
            "2020-07-29 03:17:54 Cantidad de valores nulos en la columna: Amper fase T-A________________ 0_________ 0.0%\n",
            "2020-07-29 03:17:54 Cantidad de valores nulos en la columna: Amper fase S-A________________ 1_________ 0.0%\n",
            "2020-07-29 03:17:54 Cantidad de valores nulos en la columna: Amper fase R-A________________ 18________ 0.04%\n",
            "2020-07-29 03:17:54 Cantidad de valores nulos en la columna: Vab___________________________ 9032______ 20.36%\n",
            "2020-07-29 03:17:54 Cantidad de valores nulos en la columna: Vca___________________________ 9032______ 20.36%\n",
            "2020-07-29 03:17:54 Cantidad de valores nulos en la columna: Vbc___________________________ 9032______ 20.36%\n",
            "2020-07-29 03:17:54 Cantidad de valores nulos en la columna: Kwatts 3 fases________________ 901_______ 2.03%\n",
            "2020-07-29 03:17:54 Cantidad de valores nulos en la columna: Factor de Poten-A_____________ 154_______ 0.35%\n"
          ],
          "name": "stdout"
        }
      ]
    },
    {
      "cell_type": "markdown",
      "metadata": {
        "id": "_Iinej1gn4Xl",
        "colab_type": "text"
      },
      "source": [
        "## 2.3. Codificación de variables categóricas\n",
        "No tenemos variables categóricas"
      ]
    },
    {
      "cell_type": "markdown",
      "metadata": {
        "id": "5rb0RETTn9A-",
        "colab_type": "text"
      },
      "source": [
        "## 2.4. No cambiar los nombres de las variables de la fuente de origen\n",
        "\n",
        "El resultado del script se escribirá en un archivo nuevo sin alterar el archivo input original y se escribiran las columnas con el nombre original de las variables."
      ]
    },
    {
      "cell_type": "markdown",
      "metadata": {
        "id": "jp4EdKZIoYcJ",
        "colab_type": "text"
      },
      "source": [
        "## 2.5 Verificación de consistencia de datos\n",
        "### Este es el paso más analítico, en donde se deben aplicar reglas de integridad."
      ]
    },
    {
      "cell_type": "code",
      "metadata": {
        "id": "DJsMuIf8P0Kk",
        "colab_type": "code",
        "colab": {
          "base_uri": "https://localhost:8080/",
          "height": 104
        },
        "outputId": "b04dd71c-14f4-402e-c69b-f5eb55654933"
      },
      "source": [
        "def validar_potencia(ds):\n",
        "    \n",
        "    validate = False\n",
        "    \n",
        "    if ds[(ds['potencia'].abs() > 1) | (ds['potencia'].abs() < 0)].shape[0] > 0:\n",
        "        log('Error: La potencia es un valor entre 0 y 1.')\n",
        "    else:\n",
        "        validate = True\n",
        "    \n",
        "    return validate\n",
        "\n",
        "if validar_potencia(_ds_energia):\n",
        "    log('El rango de valores de la potencia es correcto.')\n",
        "    \n",
        "def validar_negativos(ds):\n",
        "    \n",
        "    ambos_negativos = len(ds[((ds.kwatts < 0) & (ds.potencia < 0)) == True])\n",
        "    kwatts_pos_potencia_neg = len(ds[((ds.kwatts >= 0) & (ds.potencia < 0)) == True])\n",
        "    kwatts_neg_potencia_pos = len(ds[((ds.kwatts < 0) & (ds.potencia >= 0)) == True])\n",
        "\n",
        "    if (ambos_negativos > 0) | (kwatts_pos_potencia_neg > 0) | (kwatts_neg_potencia_pos > 0):\n",
        "        log('Hay valores negativos. Se los tratará posteriormente')\n",
        "\n",
        "    log('Potencia negativa y factor de potencia negativo: {}'.format(ambos_negativos))\n",
        "    log('Potencia positiva y factor de potencia negativo: {}'.format(kwatts_pos_potencia_neg))\n",
        "    log('Potencia negativa y factor de potencia positiva: {}'.format(kwatts_neg_potencia_pos))\n",
        "    \n",
        "validar_negativos(_ds_energia)"
      ],
      "execution_count": 12,
      "outputs": [
        {
          "output_type": "stream",
          "text": [
            "2020-07-29 03:17:58 El rango de valores de la potencia es correcto.\n",
            "2020-07-29 03:17:58 Hay valores negativos. Se los tratará posteriormente\n",
            "2020-07-29 03:17:58 Potencia negativa y factor de potencia negativo: 8739\n",
            "2020-07-29 03:17:58 Potencia positiva y factor de potencia negativo: 62\n",
            "2020-07-29 03:17:58 Potencia negativa y factor de potencia positiva: 5705\n"
          ],
          "name": "stdout"
        }
      ]
    },
    {
      "cell_type": "markdown",
      "metadata": {
        "id": "4h2LzJqOokdv",
        "colab_type": "text"
      },
      "source": [
        "## 2.6. Identificar y documentar valores atípicos/outliers\n",
        "### Calcular estadísticos.\n",
        "### Detallar estrategias para completar los features con outliers o eliminar el registro completo.\n",
        "\n",
        "\n",
        "Pimero consideramos los valores positivos de los datos, suponiendo que todas estas variables son siempre positivas y si se encuentran valores negativos es devido a un error de medición.\n",
        "\n",
        "Luego buscamos outliers en la variable de la potencia calculando los que se encuentran a unas distancia mayor a 1.5*CI de la mediana donde CI es el intervalo entre el primer y el tercer cuartiles.\n",
        "\n",
        "- En caso de ser mayores al valor mediana + 1.5*CI eliminamos el registo\n",
        "- En caso de ser menores al valor mediana - 1.5*CI reemplazamos el valor por 0\n",
        "\n"
      ]
    },
    {
      "cell_type": "code",
      "metadata": {
        "id": "rvQsnAR3LqyF",
        "colab_type": "code",
        "colab": {
          "base_uri": "https://localhost:8080/",
          "height": 193
        },
        "outputId": "96b0f5ff-e01d-4dea-b91c-5e245c1d4976"
      },
      "source": [
        "### Cargar el dataset _ds_energia\n",
        "### Renombrar las columnas como energia_work_col_names y definir las columnas intersting_col\n",
        "\n",
        "### energia_work_col_names = ['fecha','ta','sa','ra','vab','vca','vbc','kwatts','potencia']\n",
        "### interesting_col = ['ta','sa','ra','vab','vca','vbc','kwatts','potencia']\n",
        "\n",
        "### Cargar el dataset _ds_clima\n",
        "### Seleccionar las columnas ['time','temperature','windspeed']\n",
        "### Renombrar las columnas como ['fecha','temperature','windspeed']\n",
        "\n",
        "\n",
        "### Se genera el dataset _ds_total, limpiando outliers de ambos ds y agregando \n",
        "### las columnas del ds clima al ds energía además de completar datos de estas\n",
        "### columnas \n",
        "\n",
        "_ds_energia_tomerge = _ds_energia\n",
        "\n",
        "log('Se convierten todos los valores en positivos')\n",
        "### limpieza de los valores del ds de energía\n",
        "_ds_energia_tomerge[interesting_col] = np.abs(_ds_energia[interesting_col])\n",
        "\n",
        "log('Se completan datos faltantes en el dataset de energia en caso de tener un valor NaN entre 2 valores numéricos')\n",
        "# completo datos faltantes en el dataset de energia en caso de tener un valor NaN entre 2 valores numéricos\n",
        "for col in interesting_col:\n",
        "  _ds_energia_tomerge[col].interpolate(method='linear',inplace=True,limit=1,limit_area='inside')\n",
        "\n",
        "\n",
        "log('Se reemplazan outliers en el dataset de Energia:')\n",
        "log('En caso de ser mayores al valor mediana + 1.5*CI eliminamos el registo')\n",
        "log('En caso de ser menores al valor mediana - 1.5*CI reemplazamos el valor por 0')\n",
        "# reemplazo outliers\n",
        "for col in interesting_col:\n",
        "  CI =  (_ds_energia_tomerge[col].quantile(0.75)-_ds_energia_tomerge[col].quantile(0.25))\n",
        "  _ds_energia_tomerge[col] = _ds_energia_tomerge[col].mask((_ds_energia_tomerge[col] - _ds_energia_tomerge[col].median()) > 1.5*CI , np.nan)\n",
        "  _ds_energia_tomerge[col] = _ds_energia_tomerge[col].mask((_ds_energia_tomerge[col].median() - _ds_energia_tomerge[col]) > 1.5*CI , 0)\n",
        "\n",
        "#### limpieza de los valores del ds de clima\n",
        "\n",
        "log('Se reemplazan outliers en el dataset de Clima:')\n",
        "# reemplazo outliers\n",
        "_ds_clima_tomerge = _ds_clima\n",
        "CI =  (_ds_clima_tomerge['temperature'].quantile(0.75)-_ds_clima_tomerge['temperature'].quantile(0.25))\n",
        "_ds_clima_tomerge['temperature'] = _ds_clima_tomerge['temperature'].mask(abs((_ds_clima_tomerge['temperature'] - _ds_clima_tomerge['temperature'].median())) > 2*CI , np.nan)\n",
        "CI =  (_ds_clima['windspeed'].quantile(0.75)-_ds_clima['windspeed'].quantile(0.25))\n",
        "_ds_clima_tomerge['windspeed'] = _ds_clima_tomerge['windspeed'].mask(abs((_ds_clima_tomerge['windspeed'] - _ds_clima_tomerge['windspeed'].median())) > 2*CI , np.nan)\n",
        "\n",
        "log('Se ordenan por fecha los datasets')\n",
        "# ordeno por fecha los ds\n",
        "_ds_energia_tomerge = _ds_energia_tomerge.sort_values(by='fecha').reset_index()\n",
        "_ds_clima_tomerge = _ds_clima_tomerge.sort_values(by='fecha').reset_index()\n",
        "_ds_energia_tomerge.drop(columns=['index'], inplace=True)\n",
        "_ds_clima_tomerge.drop(columns=['index'], inplace=True)\n",
        "\n",
        "log('Se unen ambos datasets agregando las mediciones del dataset clima al dataset energia')\n",
        "# uno los 2 ds, agregando las mediciones del dataset clima al dataset energia\n",
        "_ds_total = pd.merge(_ds_energia_tomerge,_ds_clima_tomerge,on='fecha',how='left')\n",
        "\n",
        "log('Se completan datos faltantes interpolando las mediciones de temperature y windspeed')\n",
        "# completo datos faltantes interpolando las mediciones de temperature y windspeed\n",
        "_ds_total['temperature'].interpolate(method='pchip',inplace=True,limit_direction='forward')\n",
        "_ds_total['windspeed'].interpolate(method='pchip',inplace=True,limit_direction='forward')\n",
        "\n",
        "_ds_total = _ds_total.rename(columns=energia_origin_col_names_dic)"
      ],
      "execution_count": 13,
      "outputs": [
        {
          "output_type": "stream",
          "text": [
            "2020-07-29 03:18:03 Se convierten todos los valores en positivos\n",
            "2020-07-29 03:18:03 Se completan datos faltantes en el dataset de energia en caso de tener un valor NaN entre 2 valores numéricos\n",
            "2020-07-29 03:18:04 Se reemplazan outliers en el dataset de Energia:\n",
            "2020-07-29 03:18:04 En caso de ser mayores al valor mediana + 1.5*CI eliminamos el registo\n",
            "2020-07-29 03:18:04 En caso de ser menores al valor mediana - 1.5*CI reemplazamos el valor por 0\n",
            "2020-07-29 03:18:04 Se reemplazan outliers en el dataset de Clima:\n",
            "2020-07-29 03:18:04 Se ordenan por fecha los datasets\n",
            "2020-07-29 03:18:04 Se unen ambos datasets agregando las mediciones del dataset clima al dataset energia\n",
            "2020-07-29 03:18:04 Se completan datos faltantes interpolando las mediciones de temperature y windspeed\n"
          ],
          "name": "stdout"
        }
      ]
    },
    {
      "cell_type": "markdown",
      "metadata": {
        "id": "VR-SSGnlCAWV",
        "colab_type": "text"
      },
      "source": [
        "**2.7. Evaluar cómo comprimir los datos para su almacenamiento más eficiente**\n",
        "- A continuacióón se comprime en .zip ya que es mas estandar para los sistemas operativos"
      ]
    },
    {
      "cell_type": "markdown",
      "metadata": {
        "id": "gToKj_L2CP1m",
        "colab_type": "text"
      },
      "source": [
        "**2.8. Guardar el set de datos con un nombre informativo**\n"
      ]
    },
    {
      "cell_type": "code",
      "metadata": {
        "id": "aVwkRYOVYY1u",
        "colab_type": "code",
        "colab": {
          "base_uri": "https://localhost:8080/",
          "height": 34
        },
        "outputId": "95069aaa-bf79-4e2e-e6cf-d0c0c8968ab0"
      },
      "source": [
        "def create_dir(directory):\n",
        "    if not os.path.exists(directory):\n",
        "        os.makedirs(directory)\n",
        "\n",
        "def create_zip(zip_filepath, ds_filepath, logs_filepath):\n",
        "    \n",
        "    # create a ZipFile object\n",
        "    zipObj = ZipFile(zip_filepath, 'w')\n",
        "    \n",
        "    # Add multiple files to the zip\n",
        "    zipObj.write(ds_filepath, os.path.basename(ds_filepath))\n",
        "    zipObj.write(logs_filepath, os.path.basename(logs_filepath))\n",
        "    \n",
        "    # close the Zip File\n",
        "    zipObj.close()\n",
        "\n",
        "\n",
        "def guardar_dataset(ds, prefix):\n",
        "    \n",
        "    date = datetime.today().strftime('%Y%m%d')\n",
        "    time = datetime.today().strftime('%H%M%S')\n",
        "\n",
        "    dir = os.path.join('generated_out', date)\n",
        "    create_dir(dir)\n",
        "    \n",
        "    filename = prefix + date + '_' + time\n",
        "    ds_filepath = os.path.join(dir, filename + '.csv')\n",
        "    logs_filepath = os.path.join(dir, filename + '.log')\n",
        "    zip_filepath = os.path.join(dir, filename + '.zip')\n",
        "    \n",
        "    ds.to_csv(ds_filepath, index = False, header=True, encoding='utf-8', float_format='%.2f')\n",
        "    df_logs.to_csv(logs_filepath, index = False, header=False, encoding='utf-8')\n",
        "\n",
        "    create_zip(zip_filepath, ds_filepath, logs_filepath)\n",
        "\n",
        "    os.remove(ds_filepath)\n",
        "    os.remove(logs_filepath)\n",
        "    \n",
        "    print('Dataset y registro de cambios guardado en: {}'.format(zip_filepath))\n",
        "\n",
        "guardar_dataset(_ds_total, 'ds_energia_clima_')\n"
      ],
      "execution_count": 14,
      "outputs": [
        {
          "output_type": "stream",
          "text": [
            "Dataset y registro de cambios guardado en: generated_out/20200729/ds_energia_clima_20200729_031809.zip\n"
          ],
          "name": "stdout"
        }
      ]
    },
    {
      "cell_type": "markdown",
      "metadata": {
        "id": "NuDzG4PJCSu3",
        "colab_type": "text"
      },
      "source": [
        "### 3. Pasos de Limpieza Deseables\n",
        "\n",
        "**3.1. Ordenar variables/columnas**\n",
        "\n",
        "- Lo hemos realizado en el ítem 2.6\n",
        "\n",
        "**3.2. Quitar variables/columnas irrelevantes**\n",
        "\n",
        "Existen features irrelevantes, que no aportan información?\n",
        "\n",
        "- En esta etapa hemos decidido quitar las tensiones y amperajes dejando la potencia y el factor de potencia como features de interés.\n",
        "\n",
        "**3.3. Agregar metadata a los datos**\n",
        "\n",
        "Cuando y como fueron obtenidos, limpieza realizada, decisiones implementadas, asunciones, etc.\n",
        "\n",
        "- Dejaremos registros de estas acciones en el archivo de log que se crea junto al archivo csv que contiene el nuevo dataset."
      ]
    },
    {
      "cell_type": "markdown",
      "metadata": {
        "id": "RKVtEcsMycT8",
        "colab_type": "text"
      },
      "source": [
        "### II. Análisis en Profundidad del Contenido"
      ]
    },
    {
      "cell_type": "markdown",
      "metadata": {
        "id": "BMU6lpmsv80f",
        "colab_type": "text"
      },
      "source": [
        "**1. La potencia total de las 3 fases esta dada por una fórmula en la que participan la tensión y corriente media de las fases.**\n",
        "\n",
        "  1.a. Comparar los campos de tensiones. ¿Poseen la misma información? ¿Qué deberíamos hacer al respecto? \n",
        "\n",
        "  1.b. Comparar los campos de corrientes. ¿Poseen la misma información? ¿Qué deberíamos hacer al respecto? "
      ]
    },
    {
      "cell_type": "markdown",
      "metadata": {
        "id": "wp1IhQdtHyOn",
        "colab_type": "text"
      },
      "source": [
        "- Todos los campos de las variables son numéricos. En el caso de las variables de corrientes no hay datos en todas las mediciones, aunque los valores son coherentes. En el caso de las variables de tensiones, hay el mismo número de datos en las tres variables pero son menores al número de mediciones. Además se observan algunos valores de magnitud muy alejados de la mediana.\n",
        "- Las mediciones en las corrientes y tensiones representan valores de cada fase por lo cual no es la misma información."
      ]
    },
    {
      "cell_type": "code",
      "metadata": {
        "id": "mZqNGHzgF8pL",
        "colab_type": "code",
        "colab": {
          "base_uri": "https://localhost:8080/",
          "height": 757
        },
        "outputId": "11bb9836-b306-424a-aeed-963c4c443dd6"
      },
      "source": [
        "print('Tipos de variables:')\n",
        "display(_ds_energia[['vab','vca','vbc','ta','ra','sa']].dtypes)\n",
        "\n",
        "print('Estadísticos de las variables de tensiones:')\n",
        "display(_ds_energia[['vab','vca','vbc']].describe())\n",
        "\n",
        "print('Estadísticos de las variables de corrientes:')\n",
        "display(_ds_energia[['ta','ra','sa']].describe())"
      ],
      "execution_count": null,
      "outputs": [
        {
          "output_type": "stream",
          "text": [
            "Tipos de variables:\n"
          ],
          "name": "stdout"
        },
        {
          "output_type": "display_data",
          "data": {
            "text/plain": [
              "vab    float64\n",
              "vca    float64\n",
              "vbc    float64\n",
              "ta     float64\n",
              "ra     float64\n",
              "sa     float64\n",
              "dtype: object"
            ]
          },
          "metadata": {
            "tags": []
          }
        },
        {
          "output_type": "stream",
          "text": [
            "Estadísticos de las variables de tensiones:\n"
          ],
          "name": "stdout"
        },
        {
          "output_type": "display_data",
          "data": {
            "text/html": [
              "<div>\n",
              "<style scoped>\n",
              "    .dataframe tbody tr th:only-of-type {\n",
              "        vertical-align: middle;\n",
              "    }\n",
              "\n",
              "    .dataframe tbody tr th {\n",
              "        vertical-align: top;\n",
              "    }\n",
              "\n",
              "    .dataframe thead th {\n",
              "        text-align: right;\n",
              "    }\n",
              "</style>\n",
              "<table border=\"1\" class=\"dataframe\">\n",
              "  <thead>\n",
              "    <tr style=\"text-align: right;\">\n",
              "      <th></th>\n",
              "      <th>vab</th>\n",
              "      <th>vca</th>\n",
              "      <th>vbc</th>\n",
              "    </tr>\n",
              "  </thead>\n",
              "  <tbody>\n",
              "    <tr>\n",
              "      <th>count</th>\n",
              "      <td>28192.00</td>\n",
              "      <td>28464.00</td>\n",
              "      <td>28114.00</td>\n",
              "    </tr>\n",
              "    <tr>\n",
              "      <th>mean</th>\n",
              "      <td>37.17</td>\n",
              "      <td>39.10</td>\n",
              "      <td>37.62</td>\n",
              "    </tr>\n",
              "    <tr>\n",
              "      <th>std</th>\n",
              "      <td>4.86</td>\n",
              "      <td>4.99</td>\n",
              "      <td>4.49</td>\n",
              "    </tr>\n",
              "    <tr>\n",
              "      <th>min</th>\n",
              "      <td>0.00</td>\n",
              "      <td>0.00</td>\n",
              "      <td>0.00</td>\n",
              "    </tr>\n",
              "    <tr>\n",
              "      <th>25%</th>\n",
              "      <td>35.28</td>\n",
              "      <td>37.14</td>\n",
              "      <td>36.08</td>\n",
              "    </tr>\n",
              "    <tr>\n",
              "      <th>50%</th>\n",
              "      <td>35.88</td>\n",
              "      <td>38.00</td>\n",
              "      <td>36.79</td>\n",
              "    </tr>\n",
              "    <tr>\n",
              "      <th>75%</th>\n",
              "      <td>38.50</td>\n",
              "      <td>40.65</td>\n",
              "      <td>38.65</td>\n",
              "    </tr>\n",
              "    <tr>\n",
              "      <th>max</th>\n",
              "      <td>50.86</td>\n",
              "      <td>52.29</td>\n",
              "      <td>49.65</td>\n",
              "    </tr>\n",
              "  </tbody>\n",
              "</table>\n",
              "</div>"
            ],
            "text/plain": [
              "           vab      vca      vbc\n",
              "count 28192.00 28464.00 28114.00\n",
              "mean     37.17    39.10    37.62\n",
              "std       4.86     4.99     4.49\n",
              "min       0.00     0.00     0.00\n",
              "25%      35.28    37.14    36.08\n",
              "50%      35.88    38.00    36.79\n",
              "75%      38.50    40.65    38.65\n",
              "max      50.86    52.29    49.65"
            ]
          },
          "metadata": {
            "tags": []
          }
        },
        {
          "output_type": "stream",
          "text": [
            "Estadísticos de las variables de corrientes:\n"
          ],
          "name": "stdout"
        },
        {
          "output_type": "display_data",
          "data": {
            "text/html": [
              "<div>\n",
              "<style scoped>\n",
              "    .dataframe tbody tr th:only-of-type {\n",
              "        vertical-align: middle;\n",
              "    }\n",
              "\n",
              "    .dataframe tbody tr th {\n",
              "        vertical-align: top;\n",
              "    }\n",
              "\n",
              "    .dataframe thead th {\n",
              "        text-align: right;\n",
              "    }\n",
              "</style>\n",
              "<table border=\"1\" class=\"dataframe\">\n",
              "  <thead>\n",
              "    <tr style=\"text-align: right;\">\n",
              "      <th></th>\n",
              "      <th>ta</th>\n",
              "      <th>ra</th>\n",
              "      <th>sa</th>\n",
              "    </tr>\n",
              "  </thead>\n",
              "  <tbody>\n",
              "    <tr>\n",
              "      <th>count</th>\n",
              "      <td>43260.00</td>\n",
              "      <td>43394.00</td>\n",
              "      <td>43203.00</td>\n",
              "    </tr>\n",
              "    <tr>\n",
              "      <th>mean</th>\n",
              "      <td>8.05</td>\n",
              "      <td>8.40</td>\n",
              "      <td>8.09</td>\n",
              "    </tr>\n",
              "    <tr>\n",
              "      <th>std</th>\n",
              "      <td>9.27</td>\n",
              "      <td>9.59</td>\n",
              "      <td>9.32</td>\n",
              "    </tr>\n",
              "    <tr>\n",
              "      <th>min</th>\n",
              "      <td>0.00</td>\n",
              "      <td>0.00</td>\n",
              "      <td>0.00</td>\n",
              "    </tr>\n",
              "    <tr>\n",
              "      <th>25%</th>\n",
              "      <td>0.00</td>\n",
              "      <td>0.00</td>\n",
              "      <td>0.00</td>\n",
              "    </tr>\n",
              "    <tr>\n",
              "      <th>50%</th>\n",
              "      <td>0.00</td>\n",
              "      <td>0.00</td>\n",
              "      <td>0.00</td>\n",
              "    </tr>\n",
              "    <tr>\n",
              "      <th>75%</th>\n",
              "      <td>16.00</td>\n",
              "      <td>17.00</td>\n",
              "      <td>16.00</td>\n",
              "    </tr>\n",
              "    <tr>\n",
              "      <th>max</th>\n",
              "      <td>28.00</td>\n",
              "      <td>29.00</td>\n",
              "      <td>28.00</td>\n",
              "    </tr>\n",
              "  </tbody>\n",
              "</table>\n",
              "</div>"
            ],
            "text/plain": [
              "            ta       ra       sa\n",
              "count 43260.00 43394.00 43203.00\n",
              "mean      8.05     8.40     8.09\n",
              "std       9.27     9.59     9.32\n",
              "min       0.00     0.00     0.00\n",
              "25%       0.00     0.00     0.00\n",
              "50%       0.00     0.00     0.00\n",
              "75%      16.00    17.00    16.00\n",
              "max      28.00    29.00    28.00"
            ]
          },
          "metadata": {
            "tags": []
          }
        }
      ]
    },
    {
      "cell_type": "markdown",
      "metadata": {
        "id": "tRnkyzNVvHvG",
        "colab_type": "text"
      },
      "source": [
        "**2.   Si la medición de potencia está invertida(negativa) el factor de potencia debería serlo también. Validar que esto ocurra en todos los casos. ¿Qué hacer en los que no?**"
      ]
    },
    {
      "cell_type": "markdown",
      "metadata": {
        "id": "KMhyLnXHJ2x1",
        "colab_type": "text"
      },
      "source": [
        "- Se observa que hay casos donde ambas mediciones son negativas y otros donde alguna de las 2 es negativa. En las mediciones con factor de potencia negativo y potencia no negativa (que son los que menos suceden) el valor de la potencia es 0 muy bajo. En los casos de mediciones de factor de potencia no negativo y potencia negativa hay valores de la potencia con valor absoluto muy grande. Debería observarse este conjunto de valores una vez realizada la limpieza de outliers."
      ]
    },
    {
      "cell_type": "code",
      "metadata": {
        "id": "8vlPQYo0GLOu",
        "colab_type": "code",
        "colab": {
          "base_uri": "https://localhost:8080/",
          "height": 757
        },
        "outputId": "3cc78ad0-622a-44ed-8f11-625ebc166af6"
      },
      "source": [
        "\n",
        "print('Cantidad de mediciones donde la potencia negativa y el factor de potencia negativo:')\n",
        "print(len(_ds_energia[((_ds_energia.kwatts < 0) & (_ds_energia.potencia < 0)) == True]))\n",
        "print('Cantidad de mediciones donde la potencia es no negativa y el factor de potencia negativo:')\n",
        "print(len(_ds_energia[((_ds_energia.kwatts >= 0) & (_ds_energia.potencia < 0)) == True]))\n",
        "print('Cantidad de mediciones donde la potencia es negativa y el factor de potencia no negativo:')\n",
        "print(len(_ds_energia[((_ds_energia.kwatts < 0) & (_ds_energia.potencia >= 0)) == True]))\n",
        "\n",
        "print('')\n",
        "print('Estadísticos donde la potencia es no negativa y el factor de potencia negativo:')\n",
        "display(_ds_energia[((_ds_energia.kwatts >= 0) & (_ds_energia.potencia < 0)) == True].describe())\n",
        "print('')\n",
        "print('Estadísticos donde la potencia es negativa y el factor de potencia no negativo:')\n",
        "display(_ds_energia[((_ds_energia.kwatts < 0) & (_ds_energia.potencia >= 0)) == True].describe())"
      ],
      "execution_count": null,
      "outputs": [
        {
          "output_type": "stream",
          "text": [
            "Cantidad de mediciones donde la potencia negativa y el factor de potencia negativo:\n",
            "0\n",
            "Cantidad de mediciones donde la potencia es no negativa y el factor de potencia negativo:\n",
            "0\n",
            "Cantidad de mediciones donde la potencia es negativa y el factor de potencia no negativo:\n",
            "0\n",
            "\n",
            "Estadísticos donde la potencia es no negativa y el factor de potencia negativo:\n"
          ],
          "name": "stdout"
        },
        {
          "output_type": "display_data",
          "data": {
            "text/html": [
              "<div>\n",
              "<style scoped>\n",
              "    .dataframe tbody tr th:only-of-type {\n",
              "        vertical-align: middle;\n",
              "    }\n",
              "\n",
              "    .dataframe tbody tr th {\n",
              "        vertical-align: top;\n",
              "    }\n",
              "\n",
              "    .dataframe thead th {\n",
              "        text-align: right;\n",
              "    }\n",
              "</style>\n",
              "<table border=\"1\" class=\"dataframe\">\n",
              "  <thead>\n",
              "    <tr style=\"text-align: right;\">\n",
              "      <th></th>\n",
              "      <th>ta</th>\n",
              "      <th>sa</th>\n",
              "      <th>ra</th>\n",
              "      <th>vab</th>\n",
              "      <th>vca</th>\n",
              "      <th>vbc</th>\n",
              "      <th>kwatts</th>\n",
              "      <th>potencia</th>\n",
              "    </tr>\n",
              "  </thead>\n",
              "  <tbody>\n",
              "    <tr>\n",
              "      <th>count</th>\n",
              "      <td>0.00</td>\n",
              "      <td>0.00</td>\n",
              "      <td>0.00</td>\n",
              "      <td>0.00</td>\n",
              "      <td>0.00</td>\n",
              "      <td>0.00</td>\n",
              "      <td>0.00</td>\n",
              "      <td>0.00</td>\n",
              "    </tr>\n",
              "    <tr>\n",
              "      <th>mean</th>\n",
              "      <td>nan</td>\n",
              "      <td>nan</td>\n",
              "      <td>nan</td>\n",
              "      <td>nan</td>\n",
              "      <td>nan</td>\n",
              "      <td>nan</td>\n",
              "      <td>nan</td>\n",
              "      <td>nan</td>\n",
              "    </tr>\n",
              "    <tr>\n",
              "      <th>std</th>\n",
              "      <td>nan</td>\n",
              "      <td>nan</td>\n",
              "      <td>nan</td>\n",
              "      <td>nan</td>\n",
              "      <td>nan</td>\n",
              "      <td>nan</td>\n",
              "      <td>nan</td>\n",
              "      <td>nan</td>\n",
              "    </tr>\n",
              "    <tr>\n",
              "      <th>min</th>\n",
              "      <td>nan</td>\n",
              "      <td>nan</td>\n",
              "      <td>nan</td>\n",
              "      <td>nan</td>\n",
              "      <td>nan</td>\n",
              "      <td>nan</td>\n",
              "      <td>nan</td>\n",
              "      <td>nan</td>\n",
              "    </tr>\n",
              "    <tr>\n",
              "      <th>25%</th>\n",
              "      <td>nan</td>\n",
              "      <td>nan</td>\n",
              "      <td>nan</td>\n",
              "      <td>nan</td>\n",
              "      <td>nan</td>\n",
              "      <td>nan</td>\n",
              "      <td>nan</td>\n",
              "      <td>nan</td>\n",
              "    </tr>\n",
              "    <tr>\n",
              "      <th>50%</th>\n",
              "      <td>nan</td>\n",
              "      <td>nan</td>\n",
              "      <td>nan</td>\n",
              "      <td>nan</td>\n",
              "      <td>nan</td>\n",
              "      <td>nan</td>\n",
              "      <td>nan</td>\n",
              "      <td>nan</td>\n",
              "    </tr>\n",
              "    <tr>\n",
              "      <th>75%</th>\n",
              "      <td>nan</td>\n",
              "      <td>nan</td>\n",
              "      <td>nan</td>\n",
              "      <td>nan</td>\n",
              "      <td>nan</td>\n",
              "      <td>nan</td>\n",
              "      <td>nan</td>\n",
              "      <td>nan</td>\n",
              "    </tr>\n",
              "    <tr>\n",
              "      <th>max</th>\n",
              "      <td>nan</td>\n",
              "      <td>nan</td>\n",
              "      <td>nan</td>\n",
              "      <td>nan</td>\n",
              "      <td>nan</td>\n",
              "      <td>nan</td>\n",
              "      <td>nan</td>\n",
              "      <td>nan</td>\n",
              "    </tr>\n",
              "  </tbody>\n",
              "</table>\n",
              "</div>"
            ],
            "text/plain": [
              "        ta   sa   ra  vab  vca  vbc  kwatts  potencia\n",
              "count 0.00 0.00 0.00 0.00 0.00 0.00    0.00      0.00\n",
              "mean   nan  nan  nan  nan  nan  nan     nan       nan\n",
              "std    nan  nan  nan  nan  nan  nan     nan       nan\n",
              "min    nan  nan  nan  nan  nan  nan     nan       nan\n",
              "25%    nan  nan  nan  nan  nan  nan     nan       nan\n",
              "50%    nan  nan  nan  nan  nan  nan     nan       nan\n",
              "75%    nan  nan  nan  nan  nan  nan     nan       nan\n",
              "max    nan  nan  nan  nan  nan  nan     nan       nan"
            ]
          },
          "metadata": {
            "tags": []
          }
        },
        {
          "output_type": "stream",
          "text": [
            "\n",
            "Estadísticos donde la potencia es negativa y el factor de potencia no negativo:\n"
          ],
          "name": "stdout"
        },
        {
          "output_type": "display_data",
          "data": {
            "text/html": [
              "<div>\n",
              "<style scoped>\n",
              "    .dataframe tbody tr th:only-of-type {\n",
              "        vertical-align: middle;\n",
              "    }\n",
              "\n",
              "    .dataframe tbody tr th {\n",
              "        vertical-align: top;\n",
              "    }\n",
              "\n",
              "    .dataframe thead th {\n",
              "        text-align: right;\n",
              "    }\n",
              "</style>\n",
              "<table border=\"1\" class=\"dataframe\">\n",
              "  <thead>\n",
              "    <tr style=\"text-align: right;\">\n",
              "      <th></th>\n",
              "      <th>ta</th>\n",
              "      <th>sa</th>\n",
              "      <th>ra</th>\n",
              "      <th>vab</th>\n",
              "      <th>vca</th>\n",
              "      <th>vbc</th>\n",
              "      <th>kwatts</th>\n",
              "      <th>potencia</th>\n",
              "    </tr>\n",
              "  </thead>\n",
              "  <tbody>\n",
              "    <tr>\n",
              "      <th>count</th>\n",
              "      <td>0.00</td>\n",
              "      <td>0.00</td>\n",
              "      <td>0.00</td>\n",
              "      <td>0.00</td>\n",
              "      <td>0.00</td>\n",
              "      <td>0.00</td>\n",
              "      <td>0.00</td>\n",
              "      <td>0.00</td>\n",
              "    </tr>\n",
              "    <tr>\n",
              "      <th>mean</th>\n",
              "      <td>nan</td>\n",
              "      <td>nan</td>\n",
              "      <td>nan</td>\n",
              "      <td>nan</td>\n",
              "      <td>nan</td>\n",
              "      <td>nan</td>\n",
              "      <td>nan</td>\n",
              "      <td>nan</td>\n",
              "    </tr>\n",
              "    <tr>\n",
              "      <th>std</th>\n",
              "      <td>nan</td>\n",
              "      <td>nan</td>\n",
              "      <td>nan</td>\n",
              "      <td>nan</td>\n",
              "      <td>nan</td>\n",
              "      <td>nan</td>\n",
              "      <td>nan</td>\n",
              "      <td>nan</td>\n",
              "    </tr>\n",
              "    <tr>\n",
              "      <th>min</th>\n",
              "      <td>nan</td>\n",
              "      <td>nan</td>\n",
              "      <td>nan</td>\n",
              "      <td>nan</td>\n",
              "      <td>nan</td>\n",
              "      <td>nan</td>\n",
              "      <td>nan</td>\n",
              "      <td>nan</td>\n",
              "    </tr>\n",
              "    <tr>\n",
              "      <th>25%</th>\n",
              "      <td>nan</td>\n",
              "      <td>nan</td>\n",
              "      <td>nan</td>\n",
              "      <td>nan</td>\n",
              "      <td>nan</td>\n",
              "      <td>nan</td>\n",
              "      <td>nan</td>\n",
              "      <td>nan</td>\n",
              "    </tr>\n",
              "    <tr>\n",
              "      <th>50%</th>\n",
              "      <td>nan</td>\n",
              "      <td>nan</td>\n",
              "      <td>nan</td>\n",
              "      <td>nan</td>\n",
              "      <td>nan</td>\n",
              "      <td>nan</td>\n",
              "      <td>nan</td>\n",
              "      <td>nan</td>\n",
              "    </tr>\n",
              "    <tr>\n",
              "      <th>75%</th>\n",
              "      <td>nan</td>\n",
              "      <td>nan</td>\n",
              "      <td>nan</td>\n",
              "      <td>nan</td>\n",
              "      <td>nan</td>\n",
              "      <td>nan</td>\n",
              "      <td>nan</td>\n",
              "      <td>nan</td>\n",
              "    </tr>\n",
              "    <tr>\n",
              "      <th>max</th>\n",
              "      <td>nan</td>\n",
              "      <td>nan</td>\n",
              "      <td>nan</td>\n",
              "      <td>nan</td>\n",
              "      <td>nan</td>\n",
              "      <td>nan</td>\n",
              "      <td>nan</td>\n",
              "      <td>nan</td>\n",
              "    </tr>\n",
              "  </tbody>\n",
              "</table>\n",
              "</div>"
            ],
            "text/plain": [
              "        ta   sa   ra  vab  vca  vbc  kwatts  potencia\n",
              "count 0.00 0.00 0.00 0.00 0.00 0.00    0.00      0.00\n",
              "mean   nan  nan  nan  nan  nan  nan     nan       nan\n",
              "std    nan  nan  nan  nan  nan  nan     nan       nan\n",
              "min    nan  nan  nan  nan  nan  nan     nan       nan\n",
              "25%    nan  nan  nan  nan  nan  nan     nan       nan\n",
              "50%    nan  nan  nan  nan  nan  nan     nan       nan\n",
              "75%    nan  nan  nan  nan  nan  nan     nan       nan\n",
              "max    nan  nan  nan  nan  nan  nan     nan       nan"
            ]
          },
          "metadata": {
            "tags": []
          }
        }
      ]
    },
    {
      "cell_type": "markdown",
      "metadata": {
        "id": "BUWN4YoeecRG",
        "colab_type": "text"
      },
      "source": [
        "**3. ¿Existe algun faeture que pueda ser negativo? Reemplazar los negativos por su valor absoluto.**\n",
        "\n",
        "- Por lo que entendemos todos los valores del dataset de energía deberían ser no negativos. Decidimos tomar los valores absolutos en caso de tener valores negativos suponiendo que estos valores corresponden a un error de signo en la medición.\n"
      ]
    },
    {
      "cell_type": "markdown",
      "metadata": {
        "id": "wnDkxB5AfBme",
        "colab_type": "text"
      },
      "source": [
        "**4. ¿Existen valores faltantes? Definir e implementar estrategia para completarlos o descartarlos.**\n",
        "\n",
        "- Encontramos valores faltantes en ambos dataset. \n",
        "\n",
        "- En el dataset de energía decidimos completar valores faltantes aislados entre 2 valores numéricos por medio de una interpolación lineal y en caso de tener una sucesión de valores faltantes dejarlos como NaN. \n",
        "\n",
        "- En el dataset de clima, en relación al próximo item se decidió utilizar la frecuencia del set de datos de energía, por lo cual al momento de unir ambos datasets se competarán valores faltante, que teniendo en cuenta que ambas variables son continuas derivadas de un fenómeno natural, la temperatura y velocidad del viento se interpolarán las mediciones mediante el método de \"pchip\".\n",
        "\n",
        "- En el ítem 2.2 se sumarizan los valores faltantes"
      ]
    },
    {
      "cell_type": "markdown",
      "metadata": {
        "id": "PSCuoqT0hvkw",
        "colab_type": "text"
      },
      "source": [
        "**5.   Los datasets poseen diferentes frecuencia de medición. Definir una misma frecuencia y generar un único set de datos.**\n",
        "\n",
        "- Generamos un nuevo dataset con la frecuencia y fechas del dataset de energía (ítem 2.6)."
      ]
    }
  ]
}