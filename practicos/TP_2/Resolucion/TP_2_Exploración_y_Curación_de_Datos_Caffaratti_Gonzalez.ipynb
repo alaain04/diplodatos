{
  "nbformat": 4,
  "nbformat_minor": 0,
  "metadata": {
    "colab": {
      "name": "TP_2_Exploración_y_Curación_de_Datos.ipynb",
      "provenance": [],
      "collapsed_sections": []
    },
    "kernelspec": {
      "name": "python3",
      "display_name": "Python 3"
    }
  },
  "cells": [
    {
      "cell_type": "markdown",
      "metadata": {
        "id": "my4cfXmQxPgD",
        "colab_type": "text"
      },
      "source": [
        "# **Mentoría**\n",
        "## **Análisis y predicción de distribución troncal de energía**"
      ]
    },
    {
      "cell_type": "markdown",
      "metadata": {
        "id": "-BfUSjeJasF5",
        "colab_type": "text"
      },
      "source": [
        "### **Introducción**\n",
        "\n",
        "En la siguiente notebook, se presentará la consigna a seguir para el segundo práctico de la materia Exploración y Curación de datos. El objetivo consiste en identificar e implementar los pasos necesarios para la limpieza y unificación de los datasets de Energía y Clima, así como también analizar cruces de datos con mayor profundidad y validando el sentido lógico. Para ello, comenzaremos con las importaciones pertinentes.\n"
      ]
    },
    {
      "cell_type": "markdown",
      "metadata": {
        "id": "yg4kXMZGau4Y",
        "colab_type": "text"
      },
      "source": [
        "### Importaciones"
      ]
    },
    {
      "cell_type": "code",
      "metadata": {
        "id": "jvoEMroCakp6",
        "colab_type": "code",
        "colab": {
          "base_uri": "https://localhost:8080/",
          "height": 51
        },
        "outputId": "24ced5a0-157f-4575-cd4b-af50a13912a8"
      },
      "source": [
        "# Importación de las librerías necesarias\n",
        "import numpy as np\n",
        "import pandas as pd\n",
        "# Puede que nos sirvan también\n",
        "import matplotlib as mpl\n",
        "mpl.get_cachedir()\n",
        "import matplotlib.pyplot as plt\n",
        "%matplotlib inline\n",
        "import seaborn as sns\n",
        "import datetime as dt\n",
        "import warnings"
      ],
      "execution_count": 1,
      "outputs": [
        {
          "output_type": "stream",
          "text": [
            "/usr/local/lib/python3.6/dist-packages/statsmodels/tools/_testing.py:19: FutureWarning: pandas.util.testing is deprecated. Use the functions in the public API at pandas.testing instead.\n",
            "  import pandas.util.testing as tm\n"
          ],
          "name": "stderr"
        }
      ]
    },
    {
      "cell_type": "code",
      "metadata": {
        "id": "WZHaBnlJa6i0",
        "colab_type": "code",
        "colab": {}
      },
      "source": [
        "pd.set_option('display.max_columns', 150)\n",
        "pd.set_option('display.max_rows', 150)\n",
        "pd.set_option('max_colwidth', 151)"
      ],
      "execution_count": 2,
      "outputs": []
    },
    {
      "cell_type": "markdown",
      "metadata": {
        "id": "hmetljyza4ZI",
        "colab_type": "text"
      },
      "source": [
        "\n",
        "## Consigna para Curación y Exploración del Dataset\n",
        "### I. Rutina de Curación\n",
        "\n",
        "Inicialmente, con el objetivo de preparar los datos que alimentarán futuros modelos de aprendizaje automático (ML), se propone seguir la siguiente [checklist](https://dimewiki.worldbank.org/wiki/Checklist:_Data_Cleaning) para la limpieza de los datos de nuestro proyecto. Esta checklist es la misma que utilizaron en el primer práctico de la materia y nos será de utilidad como guía para curar el dataset. A modo de ayuda, en esta notebook encontrarán una especie de template que sigue la checklist y que deberán ir completando.\n",
        "\n",
        "Cada decisión tomada deberá quedar registrada de manera explícita y clara. Luego de pasar por todos los puntos de la checklist propuesta, deberán almacenar en un nuevo archivo los datos resultantes. \n",
        "\n",
        "A los fines de realizar este práctico, se utilizarán los dataset original, pero descartando todas aquellas columnas que se hayan calculado en base a features preexistentes, ya que éstas están relacionadas a decisiones que adoptaremos más adelante, como por ejemplo, sobre si es necesario crear nuevas features y si incluirlas o no. Recuerden que la ciencia de datos es un proceso circular, continuo y no lineal. Es decir, si los datos requieren de mayor procesamiento para satisfacer las necesidades de algoritmos de ML (cualesquiera de ellos), vamos a volver a la etapa inicial para, por ejemplo, crear nuevas features, tomar decisiones diferentes sobre valores faltantes o valores atípicos (outliers), descartar features, entre otras.\n",
        "\n",
        "### II. Análisis en Profundidad del Contenido\n",
        "\n",
        "Una vez aplicada la Checklist, lo que vamos a hacer es profundizar aún más el análisis y tomar decisiones que se consideren pertinentes, si es que no lo han hecho aún en el desarrollo del primer apartado. Por supuesto, se deberán registrar todas las decisiones que tomen al respecto.\n",
        "\n",
        "Al finalizar con el práctico, las preguntas listadas a continuación deberán quedar respondidas, mientras que si ya lo hicieron durante el desarrollo de la ´checklist´, el objetivo es que se replanteen las decisiones tomadas al respecto:\n",
        "\n",
        "1. La potencia total de las 3 fases esta dada por una fórmula en la que participan la tensión y corriente media de las fases. \n",
        "\n",
        "  1.a. Comparar los campos de tensiones. ¿Poseen la misma información? ¿Qué deberíamos hacer al respecto? \n",
        "\n",
        "  1.b. Comparar los campos de corrientes. ¿Poseen la misma información? ¿Qué deberíamos hacer al respecto? \n",
        "  \n",
        "2.   Si la medición de potencia está invertida(negativa) el factor de potencia debería serlo también. Validar que esto ocurra en todos los casos. ¿Qué hacer en los que no?\n",
        "\n",
        "3.   ¿Existe algun feture que pueda ser negativo? Reemplazar los negativos por su valor absoluto.\n",
        "\n",
        "4.   ¿Existen valores faltantes? Definir e implementar estrategia para completarlos o descartarlos.\n",
        "\n",
        "5.   Los datasets poseen diferentes frecuencia de medición. Definir una misma frecuencia y generar un único set de datos.\n",
        "\n",
        "\n",
        "Esta lista es extensa e intenta abarcar todas las posibles irregularidades en los datos, pero puede no ser exhaustiva. Cualquier análisis adicional de consistencia que deseen agregar porque lo consideran pertinente, será bienvenido y valorado.\n"
      ]
    },
    {
      "cell_type": "markdown",
      "metadata": {
        "id": "AmMltLhGgrKy",
        "colab_type": "text"
      },
      "source": [
        "\n",
        "### Entregables\n",
        "\n",
        "El entregable de este práctico consiste en esta misma Notebook, pero con la checklist realizada y el análisis de contenido completo, explicando las decisiones tomadas en cada etapa. Además, deberán generar un script (.py) que contenga una función para curar nuevos datos con la misma estructura. Finalmente, deberán actualizar la metadata.\n"
      ]
    },
    {
      "cell_type": "markdown",
      "metadata": {
        "id": "CeDJq-b6iDyz",
        "colab_type": "text"
      },
      "source": [
        "# Resolución\n",
        "## I. Rutina de Curación\n",
        "### 1. Importación de Datos\n",
        "\n",
        "**1.1. Verificación de inexistencia en problemas en la importación de los datasets**\n",
        "\n",
        "**1.2. Asegurar la existencia de IDs o claves únicas**\n",
        "\n",
        "El siguiente paso implica chequear que no existen datos duplicados y que las claves, si existen, son únicas.\n",
        "\n",
        "**1.3. Despersonalizar datos y guardarlos en un nuevo archivo**\n",
        "\n",
        "Aplica?\n",
        "\n",
        "**1.4. Nunca modificar los dDatos crudos u originales**\n",
        "\n",
        "Al finalizar la limpieza, deberán guardar el dataset resultante, para asegurarse de no modificar los datos originales.\n",
        "\n",
        "\n",
        "### 2. Pasos de Limpieza Necesarios\n",
        "**2.1. Etiquetas de variables y problemas de codificación/encoding**\n",
        "\n",
        "Verificar que las etiquetas y valores de features no posean problemas de codificación. \n",
        "\n",
        "**2.2. Tratamiento de valores faltantes**\n",
        "\n",
        "Para analizar los valores faltantes, primero deberán saber cuántos existen por campo y cuánto representan del total. \n",
        "\n",
        "Detallar estrategias para completar los features faltantes o eliminar el registro completo.\n",
        "\n",
        "**2.3. Codificación de variables categóricas**\n",
        "\n",
        "En el caso de crear variables categóricas, como nombre dias, meses, o booleanos de tipo \"si/no\" se deberán codificar en valores numéricos para incluirlos en los datos de entrada de los modelos.\n",
        "\n",
        "**2.4. No cambiar los nombres de las variables de la fuente de origen**\n",
        "\n",
        "\n",
        "**2.5. Verificación de consistencia de datos**\n",
        "\n",
        "Este es el paso más analítico, en donde se deben aplicar reglas de integridad.\n",
        "\n",
        "\n",
        "**2.6. Identificar y documentar valores atípicos/outliers**\n",
        "\n",
        "Calcular estadísticos. \n",
        "\n",
        "Detallar estrategias para completar los features con outliers o eliminar el registro completo.\n",
        "\n",
        "\n",
        "**2.7. Evaluar cómo comprimir los datos para su almacenamiento más eficiente**\n",
        "\n",
        "**2.8. Guardar el set de datos con un nombre informativo**\n",
        "\n",
        "\n",
        "### 3. Pasos de Limpieza Deseables\n",
        "**3.1. Ordenar variables/columnas**\n",
        "\n",
        "\n",
        "**3.2. Quitar variables/columnas irrelevantes**\n",
        "\n",
        "Existen features irrelevantes, que no aportan información?\n",
        "\n",
        "**3.3. Agregar metadata a los datos**\n",
        "\n",
        "Cuando y como fueron obtenidos, limpieza realizada, decisiones implementadas, asunciones, etc.\n",
        "\n"
      ]
    },
    {
      "cell_type": "markdown",
      "metadata": {
        "id": "RKVtEcsMycT8",
        "colab_type": "text"
      },
      "source": [
        "### II. Análisis en Profundidad del Contenido\n",
        "\n",
        "1. La potencia total de las 3 fases esta dada por una fórmula en la que participan la tensión y corriente media de las fases. \n",
        "\n",
        "  1.a. Comparar los campos de tensiones. ¿Poseen la misma información? ¿Qué deberíamos hacer al respecto? \n",
        "\n",
        "  1.b. Comparar los campos de corrientes. ¿Poseen la misma información? ¿Qué deberíamos hacer al respecto? \n",
        "  1.c Valor absoluto de la potencia\n",
        "2.   Si la medición de potencia está invertida(negativa) el factor de potencia debería serlo también. Validar que esto ocurra en todos los casos. ¿Qué hacer en los que no?\n",
        "\n",
        "3.   ¿Existe algun feture que pueda ser negativo? Reemplazar los negativos por su valor absoluto.\n",
        "\n",
        "4.   ¿Existen valores faltantes? Definir e implementar estrategia para completarlos o descartarlos.\n",
        "\n",
        "5.   Los datasets poseen diferentes frecuencia de medición. Definir una misma frecuencia y generar un único set de datos."
      ]
    },
    {
      "cell_type": "code",
      "metadata": {
        "id": "PWVYwArd7cAe",
        "colab_type": "code",
        "colab": {}
      },
      "source": [
        ""
      ],
      "execution_count": 2,
      "outputs": []
    },
    {
      "cell_type": "markdown",
      "metadata": {
        "id": "9LV13yAlrYg3",
        "colab_type": "text"
      },
      "source": [
        "## I. Rutina de Curación\n",
        "### 1. Importación de Datos\n"
      ]
    },
    {
      "cell_type": "markdown",
      "metadata": {
        "id": "p9C6nRJSrjny",
        "colab_type": "text"
      },
      "source": [
        "\n",
        "**1.1. Verificación de inexistencia en problemas en la importación de los datasets**\n",
        "\n",
        "*No se encontraron problemas al abrir archivo .csv desde origen de datos con codificación default 'utf-8'*"
      ]
    },
    {
      "cell_type": "markdown",
      "metadata": {
        "id": "FmZtamb4roFJ",
        "colab_type": "text"
      },
      "source": [
        "**1.2. Asegurar la existencia de IDs o claves únicas**\n",
        "\n",
        "El siguiente paso implica chequear que no existen datos duplicados y que las claves, si existen, son únicas.\n",
        "\n",
        "*No existe un campo ID único y se presentan valores duplicados para el campo de fecha-hora.  Se podría generar algun tipo de campo hash combinando algunos campos*"
      ]
    },
    {
      "cell_type": "markdown",
      "metadata": {
        "id": "G-WBDWNSsFcL",
        "colab_type": "text"
      },
      "source": [
        "**1.3. Despersonalizar datos y guardarlos en un nuevo archivo**\n",
        "\n",
        "Aplica?\n",
        "\n",
        "*No aplicaría la despersonalización o encriptación, ya que no existen datos sensibles de personas o normativas vigentes sobre los datos recoletados de los sensores de la linea eléctrica.*"
      ]
    },
    {
      "cell_type": "markdown",
      "metadata": {
        "id": "TqashNe5sXQT",
        "colab_type": "text"
      },
      "source": [
        "**1.4. Nunca modificar los dDatos crudos u originales**\n",
        "\n",
        "Al finalizar la limpieza, deberán guardar el dataset resultante, para asegurarse de no modificar los datos originales.\n",
        "\n",
        "*Se guardaría el resultado de limpieza utilizando la funcion de pandas \"to_csv\" o si el archivo es muy grande incluir la opcion de compresión.*"
      ]
    },
    {
      "cell_type": "markdown",
      "metadata": {
        "id": "bJHSrccatKrj",
        "colab_type": "text"
      },
      "source": [
        "### 2. Pasos de Limpieza Necesarios\n",
        "**2.1. Etiquetas de variables y problemas de codificación/encoding**\n",
        "\n",
        "Verificar que las etiquetas y valores de features no posean problemas de codificación. \n",
        "\n",
        "*Los nombre de los campos no poseen caracteres extraños. Los datos del dataset son numericos o fechas. Se pueden incluir nuevas columnas calculadas con datos categóricos basados en el tipo de datos FECHA-HORA pero se los puede pre-procesar para convertirlos en valor numérico o binarizarlos*"
      ]
    },
    {
      "cell_type": "markdown",
      "metadata": {
        "id": "O-V6ywt9t4nd",
        "colab_type": "text"
      },
      "source": [
        "**2.2. Tratamiento de valores faltantes**\n",
        "\n",
        "Para analizar los valores faltantes, primero deberán saber cuántos existen por campo y cuánto representan del total. \n",
        "\n",
        "Detallar estrategias para completar los features faltantes o eliminar el registro completo."
      ]
    },
    {
      "cell_type": "code",
      "metadata": {
        "id": "Cn1rfeKSumz7",
        "colab_type": "code",
        "colab": {}
      },
      "source": [
        "#Parsing auxiliar\n",
        "dateparse = lambda x: dt.datetime.strptime(x, '%Y-%m-%d %H:%M:%S')"
      ],
      "execution_count": 3,
      "outputs": []
    },
    {
      "cell_type": "code",
      "metadata": {
        "id": "SJ9DY9Que8jK",
        "colab_type": "code",
        "colab": {}
      },
      "source": [
        "_lista = []\n",
        "def log_metadata(texto):\n",
        "    _lista.append({\n",
        "        'fecha_hora': dt.datetime.now().strftime('%Y%m%d-%H%M%S'),\n",
        "        'texto': texto\n",
        "    })\n"
      ],
      "execution_count": 4,
      "outputs": []
    },
    {
      "cell_type": "code",
      "metadata": {
        "id": "39zAs6CWu86L",
        "colab_type": "code",
        "colab": {}
      },
      "source": [
        "_ds_energia = pd.read_csv('https://raw.githubusercontent.com/alaain04/diplodatos/master/data/energia_completo.csv',sep=';')"
      ],
      "execution_count": 5,
      "outputs": []
    },
    {
      "cell_type": "code",
      "metadata": {
        "id": "Pc1fh-RMe_Sw",
        "colab_type": "code",
        "colab": {}
      },
      "source": [
        "log_metadata('Dataset leído correctamente en utf-8')"
      ],
      "execution_count": 6,
      "outputs": []
    },
    {
      "cell_type": "code",
      "metadata": {
        "id": "OVMvq-4CvABf",
        "colab_type": "code",
        "colab": {
          "base_uri": "https://localhost:8080/",
          "height": 204
        },
        "outputId": "e08227cc-02fc-49e5-b9a5-44a64363be9d"
      },
      "source": [
        "_ds_energia['hora'] = _ds_energia.Fecha.apply(lambda x: x[11:13])\n",
        "_ds_energia['Fecha'] = pd.to_datetime(_ds_energia['Fecha'],format='%Y-%m-%d %H:%M:%S')\n",
        "_ds_energia.head(5)"
      ],
      "execution_count": 7,
      "outputs": [
        {
          "output_type": "execute_result",
          "data": {
            "text/html": [
              "<div>\n",
              "<style scoped>\n",
              "    .dataframe tbody tr th:only-of-type {\n",
              "        vertical-align: middle;\n",
              "    }\n",
              "\n",
              "    .dataframe tbody tr th {\n",
              "        vertical-align: top;\n",
              "    }\n",
              "\n",
              "    .dataframe thead th {\n",
              "        text-align: right;\n",
              "    }\n",
              "</style>\n",
              "<table border=\"1\" class=\"dataframe\">\n",
              "  <thead>\n",
              "    <tr style=\"text-align: right;\">\n",
              "      <th></th>\n",
              "      <th>Fecha</th>\n",
              "      <th>Amper_fase_T_A</th>\n",
              "      <th>Amper_fase_S_A</th>\n",
              "      <th>Amper_fase_R_A</th>\n",
              "      <th>Vab</th>\n",
              "      <th>Vca</th>\n",
              "      <th>Vbc</th>\n",
              "      <th>Kwatts_3_fases</th>\n",
              "      <th>Factor_de_Poten_A</th>\n",
              "      <th>hora</th>\n",
              "    </tr>\n",
              "  </thead>\n",
              "  <tbody>\n",
              "    <tr>\n",
              "      <th>0</th>\n",
              "      <td>2020-03-01 00:00:00</td>\n",
              "      <td>0</td>\n",
              "      <td>0</td>\n",
              "      <td>0</td>\n",
              "      <td>NaN</td>\n",
              "      <td>NaN</td>\n",
              "      <td>NaN</td>\n",
              "      <td>3484.0</td>\n",
              "      <td>0.94</td>\n",
              "      <td>00</td>\n",
              "    </tr>\n",
              "    <tr>\n",
              "      <th>1</th>\n",
              "      <td>2020-03-01 00:05:00</td>\n",
              "      <td>0</td>\n",
              "      <td>0</td>\n",
              "      <td>0</td>\n",
              "      <td>NaN</td>\n",
              "      <td>NaN</td>\n",
              "      <td>NaN</td>\n",
              "      <td>3449.0</td>\n",
              "      <td>0.94</td>\n",
              "      <td>00</td>\n",
              "    </tr>\n",
              "    <tr>\n",
              "      <th>2</th>\n",
              "      <td>2020-03-01 00:10:00</td>\n",
              "      <td>0</td>\n",
              "      <td>0</td>\n",
              "      <td>0</td>\n",
              "      <td>NaN</td>\n",
              "      <td>NaN</td>\n",
              "      <td>NaN</td>\n",
              "      <td>3410.0</td>\n",
              "      <td>0.94</td>\n",
              "      <td>00</td>\n",
              "    </tr>\n",
              "    <tr>\n",
              "      <th>3</th>\n",
              "      <td>2020-03-01 00:15:00</td>\n",
              "      <td>0</td>\n",
              "      <td>0</td>\n",
              "      <td>0</td>\n",
              "      <td>NaN</td>\n",
              "      <td>NaN</td>\n",
              "      <td>NaN</td>\n",
              "      <td>3437.0</td>\n",
              "      <td>0.94</td>\n",
              "      <td>00</td>\n",
              "    </tr>\n",
              "    <tr>\n",
              "      <th>4</th>\n",
              "      <td>2020-03-01 00:20:00</td>\n",
              "      <td>0</td>\n",
              "      <td>0</td>\n",
              "      <td>0</td>\n",
              "      <td>NaN</td>\n",
              "      <td>NaN</td>\n",
              "      <td>NaN</td>\n",
              "      <td>3448.0</td>\n",
              "      <td>0.94</td>\n",
              "      <td>00</td>\n",
              "    </tr>\n",
              "  </tbody>\n",
              "</table>\n",
              "</div>"
            ],
            "text/plain": [
              "                Fecha  Amper_fase_T_A  Amper_fase_S_A  Amper_fase_R_A  Vab  \\\n",
              "0 2020-03-01 00:00:00               0               0               0  NaN   \n",
              "1 2020-03-01 00:05:00               0               0               0  NaN   \n",
              "2 2020-03-01 00:10:00               0               0               0  NaN   \n",
              "3 2020-03-01 00:15:00               0               0               0  NaN   \n",
              "4 2020-03-01 00:20:00               0               0               0  NaN   \n",
              "\n",
              "   Vca  Vbc  Kwatts_3_fases  Factor_de_Poten_A hora  \n",
              "0  NaN  NaN          3484.0               0.94   00  \n",
              "1  NaN  NaN          3449.0               0.94   00  \n",
              "2  NaN  NaN          3410.0               0.94   00  \n",
              "3  NaN  NaN          3437.0               0.94   00  \n",
              "4  NaN  NaN          3448.0               0.94   00  "
            ]
          },
          "metadata": {
            "tags": []
          },
          "execution_count": 7
        }
      ]
    },
    {
      "cell_type": "code",
      "metadata": {
        "id": "c_WTSAzS8aqH",
        "colab_type": "code",
        "colab": {}
      },
      "source": [
        "#Elimino datos del día 3/12/2019 para comenzar un dia completo\n",
        "_ds_energia.drop(_ds_energia[pd.to_datetime(_ds_energia['Fecha'].dt.date)=='2019-12-03'].index,inplace=True)\n"
      ],
      "execution_count": 8,
      "outputs": []
    },
    {
      "cell_type": "code",
      "metadata": {
        "id": "3jAQR4m_dGHU",
        "colab_type": "code",
        "colab": {}
      },
      "source": [
        "#Generamos Period Index y ordenamos el dataset de Energia\n",
        "_ds_energia.index = pd.PeriodIndex(list(_ds_energia['Fecha']), freq='05T')\n",
        "_ds_energia = _ds_energia.sort_index()\n"
      ],
      "execution_count": 9,
      "outputs": []
    },
    {
      "cell_type": "code",
      "metadata": {
        "id": "Qm6n0ev_1bxe",
        "colab_type": "code",
        "colab": {}
      },
      "source": [
        "log_metadata('Generamos Period Index para dataset de Energía y ordenamos.')"
      ],
      "execution_count": 10,
      "outputs": []
    },
    {
      "cell_type": "code",
      "metadata": {
        "id": "exExKwkPvGMX",
        "colab_type": "code",
        "colab": {}
      },
      "source": [
        "# _ds_clima\n",
        "_ds_clima = pd.read_csv('https://raw.githubusercontent.com/alaain04/diplodatos/master/data/clima_posadas_20192020.csv')\n",
        "_ds_clima['time'] = pd.to_datetime(_ds_clima['time'],format='%Y-%m-%d %H:%M:%S')"
      ],
      "execution_count": 11,
      "outputs": []
    },
    {
      "cell_type": "code",
      "metadata": {
        "id": "PHJxpwJubMzW",
        "colab_type": "code",
        "colab": {}
      },
      "source": [
        "#Elegimos features del dataset de Clima y los llevamos cada 5 minutos para poder unirlo con el dataset de energia\n",
        "_ds_clima.index = pd.PeriodIndex(list(_ds_clima['time']), freq='T')\n",
        "_ds_clima = _ds_clima[['temperature','windspeed','winddirection']].resample('05T').fillna(\"backfill\")\n",
        "#Ordenamos valores\n",
        "_ds_clima = _ds_clima.sort_index()\n"
      ],
      "execution_count": 12,
      "outputs": []
    },
    {
      "cell_type": "code",
      "metadata": {
        "id": "l3ixS2mO1kPP",
        "colab_type": "code",
        "colab": {}
      },
      "source": [
        "log_metadata('Generamos Period Index para dataset de Clima y ordenamos valores')"
      ],
      "execution_count": 13,
      "outputs": []
    },
    {
      "cell_type": "markdown",
      "metadata": {
        "id": "0CfEbfOhbOG9",
        "colab_type": "text"
      },
      "source": [
        "#####Unimos ambos datasets"
      ]
    },
    {
      "cell_type": "code",
      "metadata": {
        "id": "2iiBHBFDb8o-",
        "colab_type": "code",
        "colab": {}
      },
      "source": [
        "_ds_energia=_ds_energia.join(_ds_clima,how='left')\n"
      ],
      "execution_count": 14,
      "outputs": []
    },
    {
      "cell_type": "code",
      "metadata": {
        "id": "5DfNTeFP1pLh",
        "colab_type": "code",
        "colab": {}
      },
      "source": [
        "log_metadata('Unimos ambos datasets')"
      ],
      "execution_count": 15,
      "outputs": []
    },
    {
      "cell_type": "markdown",
      "metadata": {
        "id": "xNiRSJ2AwoLi",
        "colab_type": "text"
      },
      "source": [
        "#####Creamos campos para ayudar en los cálculos"
      ]
    },
    {
      "cell_type": "code",
      "metadata": {
        "id": "p8X7RzY6wnWi",
        "colab_type": "code",
        "colab": {}
      },
      "source": [
        "#Calculamos los valores absolutos de la Potencia\n",
        "_ds_energia['abs_Kwatts'] = _ds_energia['Kwatts_3_fases'].abs()\n",
        "\n",
        "#Calculamos los valores absolutos de la Potencia\n",
        "_ds_energia['abs_Potencia'] = _ds_energia['Factor_de_Poten_A'].abs()\n",
        "\n",
        "#Creamos un campo con la fecha del día solamente\n",
        "_ds_energia['fecha_dia'] = pd.to_datetime(_ds_energia['Fecha'].dt.date) "
      ],
      "execution_count": 18,
      "outputs": []
    },
    {
      "cell_type": "markdown",
      "metadata": {
        "id": "y0LCm8jNwsX3",
        "colab_type": "text"
      },
      "source": [
        "#####Calculo de campos NAN en las variables importantes"
      ]
    },
    {
      "cell_type": "code",
      "metadata": {
        "id": "0HLILJctsWZe",
        "colab_type": "code",
        "colab": {
          "base_uri": "https://localhost:8080/",
          "height": 153
        },
        "outputId": "75194bd0-b668-472c-ae66-d517967e7b46"
      },
      "source": [
        "\n",
        "#print('La Cantidad de outliers en Potencia es: '+str(len(_ds_energia[_ds_energia.outlier_Kwatts].abs_Kwatts)) + \", con un impacto de un \" + str(len(_ds_energia[_ds_energia.outlier_Kwatts].abs_Kwatts)/len(_ds_energia.abs_Kwatts)*100) +\"%.\")\n",
        "print('La Cantidad de Nan en Potencia es: '+str(len(_ds_energia[_ds_energia.abs_Kwatts.isna()].abs_Kwatts)) + \", con un impacto de un \" + str(len(_ds_energia[_ds_energia.abs_Kwatts.isna()].abs_Kwatts)/len(_ds_energia.abs_Kwatts)*100) +\"%.\")\n",
        "print('La Cantidad de Nan en las tensiones Vab es: '+str(len(_ds_energia[_ds_energia.Vab.isna()].Vab)) + \", con un impacto de un \" + str(len(_ds_energia[_ds_energia.Vab.isna()].Vab)/len(_ds_energia.abs_Kwatts)*100) +\"%.\")\n",
        "print('La Cantidad de Nan en las tensiones Vbc es: '+str(len(_ds_energia[_ds_energia.Vbc.isna()].Vbc)) + \", con un impacto de un \" + str(len(_ds_energia[_ds_energia.Vab.isna()].Vbc)/len(_ds_energia.abs_Kwatts)*100) +\"%.\")\n",
        "print('La Cantidad de Nan en las tensiones Vca es: '+str(len(_ds_energia[_ds_energia.Vca.isna()].Vca)) + \", con un impacto de un \" + str(len(_ds_energia[_ds_energia.Vca.isna()].Vca)/len(_ds_energia.abs_Kwatts)*100) +\"%.\")\n",
        "print()\n",
        "print('La Cantidad de Nan en Ds_Clima.temperature es: '+str(_ds_energia.fecha_dia.count() - _ds_energia.temperature.count()))\n",
        "print('La Cantidad de Nan en Ds_Clima.windspeed es: '+str(_ds_energia.fecha_dia.count() - _ds_energia.windspeed.count()))\n",
        "print('La Cantidad de Nan en Ds_Clima.winddirection es: '+str(_ds_energia.fecha_dia.count() - _ds_energia.winddirection.count()))"
      ],
      "execution_count": 19,
      "outputs": [
        {
          "output_type": "stream",
          "text": [
            "La Cantidad de Nan en Potencia es: 153, con un impacto de un 0.2337233815037732%.\n",
            "La Cantidad de Nan en las tensiones Vab es: 9030, con un impacto de un 13.794262320124654%.\n",
            "La Cantidad de Nan en las tensiones Vbc es: 9030, con un impacto de un 13.794262320124654%.\n",
            "La Cantidad de Nan en las tensiones Vca es: 9030, con un impacto de un 13.794262320124654%.\n",
            "\n",
            "La Cantidad de Nan en Ds_Clima.temperature es: 0\n",
            "La Cantidad de Nan en Ds_Clima.windspeed es: 12\n",
            "La Cantidad de Nan en Ds_Clima.winddirection es: 1476\n"
          ],
          "name": "stdout"
        }
      ]
    },
    {
      "cell_type": "code",
      "metadata": {
        "id": "t7q1FmE82YRr",
        "colab_type": "code",
        "colab": {}
      },
      "source": [
        "log_metadata('Calculamos Nan')\n",
        "log_metadata('La Cantidad de Nan en Potencia es: '+str(len(_ds_energia[_ds_energia.abs_Kwatts.isna()].abs_Kwatts)) + \", con un impacto de un \" + str(len(_ds_energia[_ds_energia.abs_Kwatts.isna()].abs_Kwatts)/len(_ds_energia.abs_Kwatts)*100) +\"%.\")\n",
        "log_metadata('La Cantidad de Nan en las tensiones Vab es: '+str(len(_ds_energia[_ds_energia.Vab.isna()].Vab)) + \", con un impacto de un \" + str(len(_ds_energia[_ds_energia.Vab.isna()].Vab)/len(_ds_energia.abs_Kwatts)*100) +\"%.\")\n",
        "log_metadata('La Cantidad de Nan en las tensiones Vbc es: '+str(len(_ds_energia[_ds_energia.Vbc.isna()].Vbc)) + \", con un impacto de un \" + str(len(_ds_energia[_ds_energia.Vab.isna()].Vbc)/len(_ds_energia.abs_Kwatts)*100) +\"%.\")\n",
        "log_metadata('La Cantidad de Nan en las tensiones Vca es: '+str(len(_ds_energia[_ds_energia.Vca.isna()].Vca)) + \", con un impacto de un \" + str(len(_ds_energia[_ds_energia.Vca.isna()].Vca)/len(_ds_energia.abs_Kwatts)*100) +\"%.\")\n",
        "\n",
        "log_metadata('La Cantidad de Nan en Ds_Clima.temperature es: '+str(_ds_energia.fecha_dia.count() - _ds_energia.temperature.count()))\n",
        "log_metadata('La Cantidad de Nan en Ds_Clima.windspeed es: '+str(_ds_energia.fecha_dia.count() - _ds_energia.windspeed.count()))\n",
        "log_metadata('La Cantidad de Nan en Ds_Clima.winddirection es: '+str(_ds_energia.fecha_dia.count() - _ds_energia.winddirection.count()))"
      ],
      "execution_count": 20,
      "outputs": []
    },
    {
      "cell_type": "code",
      "metadata": {
        "id": "Cjyg1udX2pIz",
        "colab_type": "code",
        "colab": {}
      },
      "source": [
        ""
      ],
      "execution_count": null,
      "outputs": []
    },
    {
      "cell_type": "markdown",
      "metadata": {
        "id": "b1ruM1gvwxgs",
        "colab_type": "text"
      },
      "source": [
        "**2.3. Codificación de variables categóricas**\n",
        "\n",
        "Aplica?\n",
        "\n",
        "*En el caso de crear variables categóricas, como nombre días, meses, o booleanos de tipo \"si/no\" se deberán codificar en valores numéricos para incluirlos en los datos de entrada de los modelos*"
      ]
    },
    {
      "cell_type": "markdown",
      "metadata": {
        "id": "m5IOZLhtw0Zb",
        "colab_type": "text"
      },
      "source": [
        "######Se crea variable de nombre de dia y mes según fecha"
      ]
    },
    {
      "cell_type": "code",
      "metadata": {
        "id": "EtDkqV7Eri7P",
        "colab_type": "code",
        "colab": {}
      },
      "source": [
        "_ds_energia['DiaSemana'] = pd.to_datetime(_ds_energia.fecha_dia.dt.date).dt.day_name()\n",
        "_ds_energia['mes_desc'] = pd.to_datetime(_ds_energia.fecha_dia.dt.date).dt.month_name()"
      ],
      "execution_count": 21,
      "outputs": []
    },
    {
      "cell_type": "markdown",
      "metadata": {
        "id": "eXfiUIWAw4hm",
        "colab_type": "text"
      },
      "source": [
        "#####Funcion para definir si es dia laboral o no"
      ]
    },
    {
      "cell_type": "code",
      "metadata": {
        "id": "RxGMZ9w-w6xR",
        "colab_type": "code",
        "colab": {}
      },
      "source": [
        "def get_dia_laboral(nombre_dia):\n",
        "    if nombre_dia in ['Wednesday', 'Thursday', 'Friday', 'Monday','Tuesday']:\n",
        "        return 'Dia laboral'\n",
        "    else:\n",
        "        return 'Fin de semana'"
      ],
      "execution_count": 22,
      "outputs": []
    },
    {
      "cell_type": "code",
      "metadata": {
        "id": "5Z7S3LZpw7X0",
        "colab_type": "code",
        "colab": {}
      },
      "source": [
        "_ds_energia['es_dia_laboral'] = _ds_energia['DiaSemana'].apply(lambda x:get_dia_laboral(x))"
      ],
      "execution_count": 23,
      "outputs": []
    },
    {
      "cell_type": "markdown",
      "metadata": {
        "id": "qTzcbk9Zw8r1",
        "colab_type": "text"
      },
      "source": [
        "####Codificación de variables"
      ]
    },
    {
      "cell_type": "markdown",
      "metadata": {
        "id": "Vu1Fiyyow_2f",
        "colab_type": "text"
      },
      "source": [
        "Se utilizará la clase labelEncoder para no generar columnas adicionales al set de datos."
      ]
    },
    {
      "cell_type": "code",
      "metadata": {
        "id": "ZF-q6WcoxAbH",
        "colab_type": "code",
        "colab": {}
      },
      "source": [
        "# importamos clase de preprocessing de la librería sklearn\n",
        "from sklearn import preprocessing\n"
      ],
      "execution_count": 24,
      "outputs": []
    },
    {
      "cell_type": "code",
      "metadata": {
        "id": "ABkn9ge6xCLe",
        "colab_type": "code",
        "colab": {}
      },
      "source": [
        "# instanciamos clases\n",
        "le_dia_semana = preprocessing.LabelEncoder()\n",
        "le_dia_laboral = preprocessing.LabelEncoder()"
      ],
      "execution_count": 25,
      "outputs": []
    },
    {
      "cell_type": "code",
      "metadata": {
        "id": "98_E5udaxDsV",
        "colab_type": "code",
        "colab": {
          "base_uri": "https://localhost:8080/",
          "height": 34
        },
        "outputId": "10917ef0-0625-436d-eae7-04e7609285e9"
      },
      "source": [
        "# Ejecutamos la funcion entrena el modelo de codificación\n",
        "le_dia_semana.fit(_ds_energia['DiaSemana'])\n",
        "le_dia_laboral.fit(_ds_energia['es_dia_laboral'])"
      ],
      "execution_count": 26,
      "outputs": [
        {
          "output_type": "execute_result",
          "data": {
            "text/plain": [
              "LabelEncoder()"
            ]
          },
          "metadata": {
            "tags": []
          },
          "execution_count": 26
        }
      ]
    },
    {
      "cell_type": "markdown",
      "metadata": {
        "id": "I6kUH6wFxGmy",
        "colab_type": "text"
      },
      "source": [
        "Visualizamos la transformacion de los datos"
      ]
    },
    {
      "cell_type": "code",
      "metadata": {
        "id": "_zTKLo_kxFF2",
        "colab_type": "code",
        "colab": {}
      },
      "source": [
        "# View encoder mapping\n",
        "dict(zip(le_dia_semana.classes_,le_dia_semana.transform(le_dia_semana.classes_)))"
      ],
      "execution_count": null,
      "outputs": []
    },
    {
      "cell_type": "code",
      "metadata": {
        "id": "D7TUDtj7xK2J",
        "colab_type": "code",
        "colab": {
          "base_uri": "https://localhost:8080/",
          "height": 34
        },
        "outputId": "54dbcb8e-3914-4a04-81a0-84e462667a80"
      },
      "source": [
        "# View encoder mapping\n",
        "dict(zip(le_dia_laboral.classes_,le_dia_laboral.transform(le_dia_laboral.classes_)))"
      ],
      "execution_count": 28,
      "outputs": [
        {
          "output_type": "execute_result",
          "data": {
            "text/plain": [
              "{'Dia laboral': 0, 'Fin de semana': 1}"
            ]
          },
          "metadata": {
            "tags": []
          },
          "execution_count": 28
        }
      ]
    },
    {
      "cell_type": "markdown",
      "metadata": {
        "id": "UcFL1oBCxNNZ",
        "colab_type": "text"
      },
      "source": [
        "Incorporamos las variables codificadas a números en el set de datos"
      ]
    },
    {
      "cell_type": "code",
      "metadata": {
        "id": "Kd65N4dPxNwf",
        "colab_type": "code",
        "colab": {
          "base_uri": "https://localhost:8080/",
          "height": 264
        },
        "outputId": "9ec944e7-332c-4a07-b4b9-5d452108d9f7"
      },
      "source": [
        "# transfomr -> ejecuta el modelo y retorna el array con los datos transformados\n",
        "\n",
        "_ds_energia['DiaSemana_Transform'] = le_dia_semana.transform(_ds_energia['DiaSemana']) \n",
        "_ds_energia['Es_dia_laboral_Transform'] = le_dia_laboral.transform(_ds_energia['es_dia_laboral']) \n",
        "_ds_energia.sample(3)"
      ],
      "execution_count": 29,
      "outputs": [
        {
          "output_type": "execute_result",
          "data": {
            "text/html": [
              "<div>\n",
              "<style scoped>\n",
              "    .dataframe tbody tr th:only-of-type {\n",
              "        vertical-align: middle;\n",
              "    }\n",
              "\n",
              "    .dataframe tbody tr th {\n",
              "        vertical-align: top;\n",
              "    }\n",
              "\n",
              "    .dataframe thead th {\n",
              "        text-align: right;\n",
              "    }\n",
              "</style>\n",
              "<table border=\"1\" class=\"dataframe\">\n",
              "  <thead>\n",
              "    <tr style=\"text-align: right;\">\n",
              "      <th></th>\n",
              "      <th>Fecha</th>\n",
              "      <th>Amper_fase_T_A</th>\n",
              "      <th>Amper_fase_S_A</th>\n",
              "      <th>Amper_fase_R_A</th>\n",
              "      <th>Vab</th>\n",
              "      <th>Vca</th>\n",
              "      <th>Vbc</th>\n",
              "      <th>Kwatts_3_fases</th>\n",
              "      <th>Factor_de_Poten_A</th>\n",
              "      <th>hora</th>\n",
              "      <th>temperature</th>\n",
              "      <th>windspeed</th>\n",
              "      <th>winddirection</th>\n",
              "      <th>abs_Kwatts</th>\n",
              "      <th>abs_Potencia</th>\n",
              "      <th>fecha_dia</th>\n",
              "      <th>DiaSemana</th>\n",
              "      <th>mes_desc</th>\n",
              "      <th>es_dia_laboral</th>\n",
              "      <th>DiaSemana_Transform</th>\n",
              "      <th>Es_dia_laboral_Transform</th>\n",
              "    </tr>\n",
              "  </thead>\n",
              "  <tbody>\n",
              "    <tr>\n",
              "      <th>2020-02-05 01:25</th>\n",
              "      <td>2020-02-05 01:25:00</td>\n",
              "      <td>15</td>\n",
              "      <td>15</td>\n",
              "      <td>16</td>\n",
              "      <td>36.75</td>\n",
              "      <td>38.86</td>\n",
              "      <td>36.76</td>\n",
              "      <td>5.429000e+03</td>\n",
              "      <td>0.93</td>\n",
              "      <td>01</td>\n",
              "      <td>28.3</td>\n",
              "      <td>5.4</td>\n",
              "      <td>90.0</td>\n",
              "      <td>5.429000e+03</td>\n",
              "      <td>0.93</td>\n",
              "      <td>2020-02-05</td>\n",
              "      <td>Wednesday</td>\n",
              "      <td>February</td>\n",
              "      <td>Dia laboral</td>\n",
              "      <td>6</td>\n",
              "      <td>0</td>\n",
              "    </tr>\n",
              "    <tr>\n",
              "      <th>2019-12-07 12:15</th>\n",
              "      <td>2019-12-07 12:15:00</td>\n",
              "      <td>8</td>\n",
              "      <td>8</td>\n",
              "      <td>8</td>\n",
              "      <td>2147483.65</td>\n",
              "      <td>2147483.65</td>\n",
              "      <td>2147483.65</td>\n",
              "      <td>-2.147484e+09</td>\n",
              "      <td>0.00</td>\n",
              "      <td>12</td>\n",
              "      <td>27.4</td>\n",
              "      <td>9.4</td>\n",
              "      <td>90.0</td>\n",
              "      <td>2.147484e+09</td>\n",
              "      <td>0.00</td>\n",
              "      <td>2019-12-07</td>\n",
              "      <td>Saturday</td>\n",
              "      <td>December</td>\n",
              "      <td>Fin de semana</td>\n",
              "      <td>2</td>\n",
              "      <td>1</td>\n",
              "    </tr>\n",
              "    <tr>\n",
              "      <th>2020-05-03 14:10</th>\n",
              "      <td>2020-05-03 14:10:00</td>\n",
              "      <td>33</td>\n",
              "      <td>38</td>\n",
              "      <td>40</td>\n",
              "      <td>35.42</td>\n",
              "      <td>37.64</td>\n",
              "      <td>36.57</td>\n",
              "      <td>2.286000e+03</td>\n",
              "      <td>0.96</td>\n",
              "      <td>14</td>\n",
              "      <td>23.3</td>\n",
              "      <td>11.2</td>\n",
              "      <td>50.0</td>\n",
              "      <td>2.286000e+03</td>\n",
              "      <td>0.96</td>\n",
              "      <td>2020-05-03</td>\n",
              "      <td>Sunday</td>\n",
              "      <td>May</td>\n",
              "      <td>Fin de semana</td>\n",
              "      <td>3</td>\n",
              "      <td>1</td>\n",
              "    </tr>\n",
              "  </tbody>\n",
              "</table>\n",
              "</div>"
            ],
            "text/plain": [
              "                               Fecha  Amper_fase_T_A  Amper_fase_S_A  \\\n",
              "2020-02-05 01:25 2020-02-05 01:25:00              15              15   \n",
              "2019-12-07 12:15 2019-12-07 12:15:00               8               8   \n",
              "2020-05-03 14:10 2020-05-03 14:10:00              33              38   \n",
              "\n",
              "                  Amper_fase_R_A         Vab         Vca         Vbc  \\\n",
              "2020-02-05 01:25              16       36.75       38.86       36.76   \n",
              "2019-12-07 12:15               8  2147483.65  2147483.65  2147483.65   \n",
              "2020-05-03 14:10              40       35.42       37.64       36.57   \n",
              "\n",
              "                  Kwatts_3_fases  Factor_de_Poten_A hora  temperature  \\\n",
              "2020-02-05 01:25    5.429000e+03               0.93   01         28.3   \n",
              "2019-12-07 12:15   -2.147484e+09               0.00   12         27.4   \n",
              "2020-05-03 14:10    2.286000e+03               0.96   14         23.3   \n",
              "\n",
              "                  windspeed  winddirection    abs_Kwatts  abs_Potencia  \\\n",
              "2020-02-05 01:25        5.4           90.0  5.429000e+03          0.93   \n",
              "2019-12-07 12:15        9.4           90.0  2.147484e+09          0.00   \n",
              "2020-05-03 14:10       11.2           50.0  2.286000e+03          0.96   \n",
              "\n",
              "                  fecha_dia  DiaSemana  mes_desc es_dia_laboral  \\\n",
              "2020-02-05 01:25 2020-02-05  Wednesday  February    Dia laboral   \n",
              "2019-12-07 12:15 2019-12-07   Saturday  December  Fin de semana   \n",
              "2020-05-03 14:10 2020-05-03     Sunday       May  Fin de semana   \n",
              "\n",
              "                  DiaSemana_Transform  Es_dia_laboral_Transform  \n",
              "2020-02-05 01:25                    6                         0  \n",
              "2019-12-07 12:15                    2                         1  \n",
              "2020-05-03 14:10                    3                         1  "
            ]
          },
          "metadata": {
            "tags": []
          },
          "execution_count": 29
        }
      ]
    },
    {
      "cell_type": "markdown",
      "metadata": {
        "id": "j_GoxR0cxQxg",
        "colab_type": "text"
      },
      "source": [
        "**2.4. No cambiar los nombres de las variables de la fuente de origen**\n",
        "\n",
        "*No se modifican los nombre de campos del dataset*"
      ]
    },
    {
      "cell_type": "markdown",
      "metadata": {
        "id": "eQkG4grAxUn6",
        "colab_type": "text"
      },
      "source": [
        "####**Reglas de integridad**"
      ]
    },
    {
      "cell_type": "markdown",
      "metadata": {
        "id": "k17d3Xi8xWiC",
        "colab_type": "text"
      },
      "source": [
        "**2.5. Verificación de consistencia de datos**\n",
        "\n",
        "Este es el paso más analítico, en donde se deben aplicar reglas de integridad."
      ]
    },
    {
      "cell_type": "markdown",
      "metadata": {
        "id": "FJ3NvJoBxXMN",
        "colab_type": "text"
      },
      "source": [
        "*Se verificará la integridad de los campos corriente, tensión y potencia. Estos valores no deben ser negativos. En el caso de potencia y factor de potencia, los valores negativos se pasan a valor absoluto.*"
      ]
    },
    {
      "cell_type": "code",
      "metadata": {
        "id": "WN_zcXGpxZ8d",
        "colab_type": "code",
        "colab": {
          "base_uri": "https://localhost:8080/",
          "height": 153
        },
        "outputId": "06b8c195-ba39-4ca4-bf13-01cddfb6618f"
      },
      "source": [
        "#Verificar si existen valores negativos\n",
        "print('Cant. negativos Amper fase T-A: ' + str(_ds_energia[_ds_energia['Amper_fase_T_A'] < 0].shape[0] ))\n",
        "print('Cant. negativos Amper fase S-A: ' +  str(_ds_energia[_ds_energia['Amper_fase_S_A'] < 0].shape[0] ))\n",
        "print('Cant. negativos Amper fase R-A: ' +  str(_ds_energia[_ds_energia['Amper_fase_R_A'] < 0].shape[0] ))\n",
        "\n",
        "print('Cant. negativos Vab: ' +  str(_ds_energia[_ds_energia['Vab'] < 0].shape[0] ))\n",
        "print('Cant. negativos Vca: ' +  str(_ds_energia[_ds_energia['Vca'] < 0].shape[0] ))\n",
        "print('Cant. negativos Vbc: ' +  str(_ds_energia[_ds_energia['Vbc'] < 0].shape[0] ))\n",
        "\n",
        "print('Cant. negativos Kwatts 3 fases: ' +  str(_ds_energia[_ds_energia['Kwatts_3_fases'] < 0].shape[0] ))\n",
        "print('Cant. negativos Factor de Poten-A: ' +  str(_ds_energia[_ds_energia['Factor_de_Poten_A'] < 0].shape[0] ))\n"
      ],
      "execution_count": 30,
      "outputs": [
        {
          "output_type": "stream",
          "text": [
            "Cant. negativos Amper fase T-A: 0\n",
            "Cant. negativos Amper fase S-A: 0\n",
            "Cant. negativos Amper fase R-A: 0\n",
            "Cant. negativos Vab: 0\n",
            "Cant. negativos Vca: 0\n",
            "Cant. negativos Vbc: 0\n",
            "Cant. negativos Kwatts 3 fases: 14769\n",
            "Cant. negativos Factor de Poten-A: 9150\n"
          ],
          "name": "stdout"
        }
      ]
    },
    {
      "cell_type": "code",
      "metadata": {
        "id": "HZ0zyzdc9Sfu",
        "colab_type": "code",
        "colab": {}
      },
      "source": [
        "log_metadata('Cant. negativos Amper fase T-A: ' + str(_ds_energia[_ds_energia['Amper_fase_T_A'] < 0].shape[0] ))\n",
        "log_metadata('Cant. negativos Amper fase S-A: ' +  str(_ds_energia[_ds_energia['Amper_fase_S_A'] < 0].shape[0] ))\n",
        "log_metadata('Cant. negativos Amper fase R-A: ' +  str(_ds_energia[_ds_energia['Amper_fase_R_A'] < 0].shape[0] ))\n",
        "\n",
        "log_metadata('Cant. negativos Vab: ' +  str(_ds_energia[_ds_energia['Vab'] < 0].shape[0] ))\n",
        "log_metadata('Cant. negativos Vca: ' +  str(_ds_energia[_ds_energia['Vca'] < 0].shape[0] ))\n",
        "log_metadata('Cant. negativos Vbc: ' +  str(_ds_energia[_ds_energia['Vbc'] < 0].shape[0] ))\n",
        "\n",
        "log_metadata('Cant. negativos Kwatts 3 fases: ' +  str(_ds_energia[_ds_energia['Kwatts_3_fases'] < 0].shape[0] ))\n",
        "log_metadata('Cant. negativos Factor de Poten-A: ' +  str(_ds_energia[_ds_energia['Factor_de_Poten_A'] < 0].shape[0] ))"
      ],
      "execution_count": 32,
      "outputs": []
    },
    {
      "cell_type": "markdown",
      "metadata": {
        "id": "aRhYSNR8xb4j",
        "colab_type": "text"
      },
      "source": [
        "Control de registros duplicados en fecha_hora"
      ]
    },
    {
      "cell_type": "code",
      "metadata": {
        "id": "rrAGwvAPxdls",
        "colab_type": "code",
        "colab": {
          "base_uri": "https://localhost:8080/",
          "height": 34
        },
        "outputId": "76f9c4d3-cc94-4e6a-db85-ca2bb4368cf9"
      },
      "source": [
        "print(\"Cant. registros de fecha-hora duplicados: \" + str(_ds_energia[_ds_energia.Fecha.duplicated()].shape[0]))"
      ],
      "execution_count": 33,
      "outputs": [
        {
          "output_type": "stream",
          "text": [
            "Cant. registros de fecha-hora duplicados: 0\n"
          ],
          "name": "stdout"
        }
      ]
    },
    {
      "cell_type": "code",
      "metadata": {
        "id": "agvS7h-T9MiH",
        "colab_type": "code",
        "colab": {}
      },
      "source": [
        "log_metadata(\"Cant. registros de fecha-hora duplicados: \" + str(_ds_energia[_ds_energia.Fecha.duplicated()].shape[0]))"
      ],
      "execution_count": 34,
      "outputs": []
    },
    {
      "cell_type": "markdown",
      "metadata": {
        "id": "iIaTeoAkxf3j",
        "colab_type": "text"
      },
      "source": [
        "##### **Control Outliers**\n",
        "**2.6. Identificar y documentar valores atípicos/outliers**\n",
        "\n",
        "Calcular estadísticos. \n",
        "\n",
        "Detallar estrategias para completar los features con outliers o eliminar el registro completo."
      ]
    },
    {
      "cell_type": "code",
      "metadata": {
        "id": "gDHl9549xhkj",
        "colab_type": "code",
        "colab": {
          "base_uri": "https://localhost:8080/",
          "height": 294
        },
        "outputId": "fe8d7d31-b1a5-4663-dec9-197986afa4d1"
      },
      "source": [
        "_ds_energia.boxplot(column='abs_Kwatts')"
      ],
      "execution_count": 35,
      "outputs": [
        {
          "output_type": "execute_result",
          "data": {
            "text/plain": [
              "<matplotlib.axes._subplots.AxesSubplot at 0x7f6c41544400>"
            ]
          },
          "metadata": {
            "tags": []
          },
          "execution_count": 35
        },
        {
          "output_type": "display_data",
          "data": {
            "image/png": "[encoded data removed]",
            "text/plain": [
              "<Figure size 432x288 with 1 Axes>"
            ]
          },
          "metadata": {
            "tags": [],
            "needs_background": "light"
          }
        }
      ]
    },
    {
      "cell_type": "markdown",
      "metadata": {
        "id": "d3XO8UcgxjsK",
        "colab_type": "text"
      },
      "source": [
        "Control de valores fuera de rango (outliers)\n",
        "Como existen valores outliers muy extremos la \"media\" no es un valor que sea representativo, por lo que se utliza la  \"mediana\". Si tomamos 3 veces el valor de la mediana como valor máximo posible, todos los registros con Consumo por encima de este valor serán considerados outliers"
      ]
    },
    {
      "cell_type": "code",
      "metadata": {
        "id": "Rv-xuNYmxmL9",
        "colab_type": "code",
        "colab": {
          "base_uri": "https://localhost:8080/",
          "height": 34
        },
        "outputId": "0ef09285-8f54-45fb-a377-584a5372723a"
      },
      "source": [
        "# obtengo lista de registros outliers\n",
        "outl = _ds_energia[_ds_energia.abs_Kwatts > (_ds_energia.abs_Kwatts.median() + 3 * _ds_energia.abs_Kwatts.median())] \n",
        "outl.shape"
      ],
      "execution_count": 36,
      "outputs": [
        {
          "output_type": "execute_result",
          "data": {
            "text/plain": [
              "(5661, 21)"
            ]
          },
          "metadata": {
            "tags": []
          },
          "execution_count": 36
        }
      ]
    },
    {
      "cell_type": "markdown",
      "metadata": {
        "id": "lltdm8cIxsSW",
        "colab_type": "text"
      },
      "source": [
        "Sin outliers, el gráfico queda más entendible"
      ]
    },
    {
      "cell_type": "code",
      "metadata": {
        "id": "tYz4r3MRxrxW",
        "colab_type": "code",
        "colab": {
          "base_uri": "https://localhost:8080/",
          "height": 266
        },
        "outputId": "72b94582-22f5-4665-f919-31faf8725093"
      },
      "source": [
        "_ds_energia.drop(outl.index).boxplot(column='abs_Kwatts');"
      ],
      "execution_count": 37,
      "outputs": [
        {
          "output_type": "display_data",
          "data": {
            "image/png": "[encoded data removed]",
            "text/plain": [
              "<Figure size 432x288 with 1 Axes>"
            ]
          },
          "metadata": {
            "tags": [],
            "needs_background": "light"
          }
        }
      ]
    },
    {
      "cell_type": "markdown",
      "metadata": {
        "id": "FyBLoO1R7M8M",
        "colab_type": "text"
      },
      "source": [
        "#####Estrategia de para manejar outliers"
      ]
    },
    {
      "cell_type": "markdown",
      "metadata": {
        "id": "lzy186AB7P8m",
        "colab_type": "text"
      },
      "source": [
        "Consideramos los valores outliers no solo como error de medición de instrumentos sino como cortes efectivos de energía. Se lo identificarán con valor 1 en una columna nueva, antes de reemplazar su valor por cero (0) ya que cero es un indicador de corte de energía"
      ]
    },
    {
      "cell_type": "code",
      "metadata": {
        "id": "BnVO4MLV9QhS",
        "colab_type": "code",
        "colab": {
          "base_uri": "https://localhost:8080/",
          "height": 34
        },
        "outputId": "9e69834e-a6a4-4cc6-ef48-2c1f850b29e4"
      },
      "source": [
        "_valor_outlier = _ds_energia.abs_Kwatts.median() + 3 * _ds_energia.abs_Kwatts.median()\n",
        "print('Límite máximo de consumo para considerar outliers: ' + str(_valor_outlier) )"
      ],
      "execution_count": 38,
      "outputs": [
        {
          "output_type": "stream",
          "text": [
            "Límite máximo de consumo para considerar outliers: 14280.0\n"
          ],
          "name": "stdout"
        }
      ]
    },
    {
      "cell_type": "code",
      "metadata": {
        "id": "cJMI5oMMIM-p",
        "colab_type": "code",
        "colab": {}
      },
      "source": [
        "log_metadata('Límite máximo de consumo para considerar outliers es ' + str(_valor_outlier) +'. Tenemos ' + str(outl.abs_Kwatts.count()) + ' cantidad de outliers en la potencia.' )"
      ],
      "execution_count": 39,
      "outputs": []
    },
    {
      "cell_type": "code",
      "metadata": {
        "id": "i1iB_bwW6bbE",
        "colab_type": "code",
        "colab": {}
      },
      "source": [
        "#Reemplazamos Nan en tensiones\n",
        "_ds_energia[ _ds_energia['Vab'].isna()] = 0\n",
        "_ds_energia[ _ds_energia['Vca'].isna()] = 0\n",
        "_ds_energia[ _ds_energia['Vbc'].isna()] = 0"
      ],
      "execution_count": 40,
      "outputs": []
    },
    {
      "cell_type": "code",
      "metadata": {
        "id": "0W3BUBMx7Qjl",
        "colab_type": "code",
        "colab": {}
      },
      "source": [
        "# convertimos los nan de abs_Kwatts en valor 0 si es nan 'Kwatts 3 fases' y 'Amper fase T-A'== 0, luego se marcará como un corte de energia\n",
        "_ds_energia.loc[ ( _ds_energia['Amper_fase_R_A'].isna()) & (_ds_energia['Amper_fase_T_A'] == 0), 'Amper_fase_R_A'] = 0\n",
        "_ds_energia.loc[ ( _ds_energia['Amper_fase_S_A'].isna()) & (_ds_energia['Amper_fase_T_A'] == 0), 'Amper_fase_S_A'] = 0\n",
        "_ds_energia.loc[ ( _ds_energia['Kwatts_3_fases'].isna()) & (_ds_energia['Amper_fase_T_A'] == 0), 'abs_Kwatts'] = 0"
      ],
      "execution_count": 41,
      "outputs": []
    },
    {
      "cell_type": "code",
      "metadata": {
        "id": "NweSqSrd9SY1",
        "colab_type": "code",
        "colab": {}
      },
      "source": [
        "#Evaluamos si hubo un corte de energia (o sea, si la potencia total es igual a 0)\n",
        "_ds_energia.loc[_ds_energia.abs_Kwatts == 0, 'corte_energia'] = 1\n",
        "_ds_energia.loc[(_ds_energia['Factor_de_Poten_A']<=0) & (_ds_energia['Kwatts_3_fases']>0),\n",
        "                                               'corte_energia'] = 1\n",
        "_ds_energia.loc[(_ds_energia['Factor_de_Poten_A']>0) & (_ds_energia['Kwatts_3_fases']<0),\n",
        "                                               'corte_energia'] = 1                                               \n",
        "\n",
        "_ds_energia.loc[_ds_energia.abs_Kwatts != 0, 'corte_energia'] = 0\n",
        "\n",
        "\n",
        "#Cambiamos outliers sólo en columna nueva\n",
        "#Evaluamos si hay los outliers de la potencia\n",
        "_ds_energia.loc[_ds_energia.abs_Kwatts > _valor_outlier, 'outlier_Kwatts'] = 1\n",
        "_ds_energia.loc[_ds_energia.abs_Kwatts <= _valor_outlier, 'outlier_Kwatts'] = 0\n",
        "\n",
        "\n",
        "#Decidimos reemplazar los valores outliers de Potencia por 0 ya que consideramos que fue un error de medición y que para poder graficar los datos, necesitamos que no estén.\n",
        "_ds_energia.loc[_ds_energia['outlier_Kwatts']==1, 'abs_Kwatts'] = 0\n",
        "\n",
        "_ds_energia.winddirection.fillna(value=0,inplace=True)\n",
        "_ds_energia.windspeed.fillna(value=0,inplace=True)"
      ],
      "execution_count": 53,
      "outputs": []
    },
    {
      "cell_type": "code",
      "metadata": {
        "id": "nnJN4fGgjzXm",
        "colab_type": "code",
        "colab": {
          "base_uri": "https://localhost:8080/",
          "height": 34
        },
        "outputId": "db356a87-dcbb-4d1b-e909-478870c437c1"
      },
      "source": [
        "print('La Cantidad de Nan en Potencia es: '+str(len(_ds_energia[_ds_energia.abs_Kwatts.isna()].abs_Kwatts)) + \", con un impacto de un \" + str(len(_ds_energia[_ds_energia.abs_Kwatts.isna()].abs_Kwatts)/len(_ds_energia.abs_Kwatts)*100) +\"%.\")"
      ],
      "execution_count": 54,
      "outputs": [
        {
          "output_type": "stream",
          "text": [
            "La Cantidad de Nan en Potencia es: 0, con un impacto de un 0.0%.\n"
          ],
          "name": "stdout"
        }
      ]
    },
    {
      "cell_type": "code",
      "metadata": {
        "id": "2rbeS9swIo7s",
        "colab_type": "code",
        "colab": {}
      },
      "source": [
        "log_metadata('Calculamos Nan luego de reemplazarl')\n",
        "log_metadata('La Cantidad de Nan en Potencia es: '+str(len(_ds_energia[_ds_energia.abs_Kwatts.isna()].abs_Kwatts)) + \", con un impacto de un \" + str(len(_ds_energia[_ds_energia.abs_Kwatts.isna()].abs_Kwatts)/len(_ds_energia.abs_Kwatts)*100) +\"%.\")\n",
        "log_metadata('La Cantidad de Nan en las tensiones Vab es: '+str(len(_ds_energia[_ds_energia.Vab.isna()].Vab)) + \", con un impacto de un \" + str(len(_ds_energia[_ds_energia.Vab.isna()].Vab)/len(_ds_energia.abs_Kwatts)*100) +\"%.\")\n",
        "log_metadata('La Cantidad de Nan en las tensiones Vbc es: '+str(len(_ds_energia[_ds_energia.Vbc.isna()].Vbc)) + \", con un impacto de un \" + str(len(_ds_energia[_ds_energia.Vab.isna()].Vbc)/len(_ds_energia.abs_Kwatts)*100) +\"%.\")\n",
        "log_metadata('La Cantidad de Nan en las tensiones Vca es: '+str(len(_ds_energia[_ds_energia.Vca.isna()].Vca)) + \", con un impacto de un \" + str(len(_ds_energia[_ds_energia.Vca.isna()].Vca)/len(_ds_energia.abs_Kwatts)*100) +\"%.\")\n",
        "\n",
        "log_metadata('La Cantidad de Nan en Ds_Clima.temperature es: '+str(_ds_energia.fecha_dia.count() - _ds_energia.temperature.count()))\n",
        "log_metadata('La Cantidad de Nan en Ds_Clima.windspeed es: '+str(_ds_energia.fecha_dia.count() - _ds_energia.windspeed.count()))\n",
        "log_metadata('La Cantidad de Nan en Ds_Clima.winddirection es: '+str(_ds_energia.fecha_dia.count() - _ds_energia.winddirection.count()))"
      ],
      "execution_count": 55,
      "outputs": []
    },
    {
      "cell_type": "markdown",
      "metadata": {
        "id": "URlW56TELiHa",
        "colab_type": "text"
      },
      "source": [
        "####Almacenamiento de resultado\n",
        "**2.7. Evaluar cómo comprimir los datos para su almacenamiento más eficiente**\n"
      ]
    },
    {
      "cell_type": "markdown",
      "metadata": {
        "id": "ShJLUXWLUmi4",
        "colab_type": "text"
      },
      "source": [
        "Si el set de datos es muy grande (tomar un valor referencia, ejemplo 10 mb) se puede comprimir el mismo en .zip\n",
        "\n",
        "Utilizar una nomenclatura de nombre de archivo para que con cada ejecucion se puesa saber ráápidamente cual fue el archivo generado en el directorio de trabajo\n",
        "\n",
        "Ejemplo:\n",
        "\n",
        "../output/clean_data/ds_energia_output_yyyymmdd_hhmmss.zip\n"
      ]
    },
    {
      "cell_type": "code",
      "metadata": {
        "id": "5q0-kFisUpm8",
        "colab_type": "code",
        "colab": {}
      },
      "source": [
        "import os\n",
        "import errno\n",
        "#path para el archivo de salida\n",
        "_path_dir = os.path.join(os.getcwd(),'output/clean_data')\n",
        "\n",
        "# verificar si directorio existe\n",
        "try:\n",
        "    # crear directorio si no existe\n",
        "    os.makedirs(_path_dir)\n",
        "except OSError as exception:\n",
        "    if exception.errno != errno.EEXIST:\n",
        "        raise"
      ],
      "execution_count": 45,
      "outputs": []
    },
    {
      "cell_type": "markdown",
      "metadata": {
        "id": "Fc0D8PboUrL1",
        "colab_type": "text"
      },
      "source": [
        "**2.8. Guardar el set de datos con un nombre informativo**"
      ]
    },
    {
      "cell_type": "code",
      "metadata": {
        "id": "n7aU6zSULjAz",
        "colab_type": "code",
        "colab": {}
      },
      "source": [
        "# crear máscara de archivo\n",
        "_filename = 'ds_energia_output_{}_{}'.format(dt.datetime.now().strftime('%y%m%d'),dt.datetime.now().strftime('%H%M%S'))\n",
        "_extension = '.csv'\n",
        "_filename_extension = _filename + _extension\n",
        "_extension_zip = '.zip'\n",
        "_filename_zip_extension = _filename + _extension_zip\n",
        "\n",
        "try:\n",
        "  #Exportamos el csv sin las columnas originales de Kwatts 3 fases y Factor de potencia\n",
        "    _ds_energia.drop(columns=['Kwatts_3_fases','Factor_de_Poten_A']).to_csv(os.path.join(_path_dir,_filename_extension))\n",
        "except Exception as e:\n",
        "    print(str(e))\n",
        "    \n",
        "log_metadata('Se crea un archivo csv :' + str(os.path.join(_path_dir,_filename_extension)))"
      ],
      "execution_count": 47,
      "outputs": []
    },
    {
      "cell_type": "code",
      "metadata": {
        "id": "CygA_J5YI6xO",
        "colab_type": "code",
        "colab": {}
      },
      "source": [
        "# generar zip en directorio\n",
        "import zipfile\n",
        "with zipfile.ZipFile(os.path.join(_path_dir,_filename_zip_extension),'w',zipfile.ZIP_DEFLATED) as _zipedfile: \n",
        "    _zipedfile.write(os.path.join(_path_dir,_filename_extension),_filename_extension)\n"
      ],
      "execution_count": 48,
      "outputs": []
    },
    {
      "cell_type": "code",
      "metadata": {
        "id": "vw55WtlRmsZi",
        "colab_type": "code",
        "colab": {}
      },
      "source": [
        "log_metadata('Zipeamos el archivo ')"
      ],
      "execution_count": 49,
      "outputs": []
    },
    {
      "cell_type": "code",
      "metadata": {
        "id": "V-eNlyI4fdtB",
        "colab_type": "code",
        "colab": {}
      },
      "source": [
        "_filename_metadata = 'ds_energia_metadata_{}_{}.txt'.format(dt.datetime.now().strftime('%y%m%d'),dt.datetime.now().strftime('%H%M%S'))\n"
      ],
      "execution_count": 56,
      "outputs": []
    },
    {
      "cell_type": "code",
      "metadata": {
        "id": "xrwizSaFJFkh",
        "colab_type": "code",
        "colab": {
          "base_uri": "https://localhost:8080/",
          "height": 714
        },
        "outputId": "0bd5d4c1-b2ad-4a22-b3d3-0b7106e4a4db"
      },
      "source": [
        "# Generamos archivo metadata\n",
        "\n",
        "_f = open(os.path.join(_path_dir,_filename_metadata), 'w')\n",
        "\n",
        "# cabecera archivo\n",
        "_f.write(f'Fecha-Hora\\tMensaje\\r\\n')\n",
        "\n",
        "for item in _lista:\n",
        "    print(item['fecha_hora'] , item['texto'])\n",
        "    \n",
        "    # archivo separado por tab\n",
        "    _f.write('{}\\t{}\\r\\n'.format(item['fecha_hora'],item['texto']))\n",
        "\n",
        "_f.close()"
      ],
      "execution_count": 57,
      "outputs": [
        {
          "output_type": "stream",
          "text": [
            "20200807-221335 Dataset leído correctamente en utf-8\n",
            "20200807-221345 Generamos Period Index para dataset de Energía y ordenamos.\n",
            "20200807-221351 Generamos Period Index para dataset de Clima y ordenamos valores\n",
            "20200807-221355 Unimos ambos datasets\n",
            "20200807-221501 Calculamos Nan\n",
            "20200807-221501 La Cantidad de Nan en Potencia es: 153, con un impacto de un 0.2337233815037732%.\n",
            "20200807-221501 La Cantidad de Nan en las tensiones Vab es: 9030, con un impacto de un 13.794262320124654%.\n",
            "20200807-221501 La Cantidad de Nan en las tensiones Vbc es: 9030, con un impacto de un 13.794262320124654%.\n",
            "20200807-221501 La Cantidad de Nan en las tensiones Vca es: 9030, con un impacto de un 13.794262320124654%.\n",
            "20200807-221501 La Cantidad de Nan en Ds_Clima.temperature es: 0\n",
            "20200807-221501 La Cantidad de Nan en Ds_Clima.windspeed es: 12\n",
            "20200807-221501 La Cantidad de Nan en Ds_Clima.winddirection es: 1476\n",
            "20200807-221723 Cant. negativos Amper fase T-A: 0\n",
            "20200807-221723 Cant. negativos Amper fase S-A: 0\n",
            "20200807-221723 Cant. negativos Amper fase R-A: 0\n",
            "20200807-221723 Cant. negativos Vab: 0\n",
            "20200807-221723 Cant. negativos Vca: 0\n",
            "20200807-221723 Cant. negativos Vbc: 0\n",
            "20200807-221723 Cant. negativos Kwatts 3 fases: 14769\n",
            "20200807-221723 Cant. negativos Factor de Poten-A: 9150\n",
            "20200807-221729 Cant. registros de fecha-hora duplicados: 0\n",
            "20200807-221751 Límite máximo de consumo para considerar outliers es 14280.0. Tenemos 5661 cantidad de outliers en la potencia.\n",
            "20200807-222050 Calculamos Nan luego de reemplazarl\n",
            "20200807-222050 La Cantidad de Nan en Potencia es: 0, con un impacto de un 0.0%.\n",
            "20200807-222050 La Cantidad de Nan en las tensiones Vab es: 0, con un impacto de un 0.0%.\n",
            "20200807-222050 La Cantidad de Nan en las tensiones Vbc es: 0, con un impacto de un 0.0%.\n",
            "20200807-222050 La Cantidad de Nan en las tensiones Vca es: 0, con un impacto de un 0.0%.\n",
            "20200807-222050 La Cantidad de Nan en Ds_Clima.temperature es: 0\n",
            "20200807-222050 La Cantidad de Nan en Ds_Clima.windspeed es: 12\n",
            "20200807-222050 La Cantidad de Nan en Ds_Clima.winddirection es: 1392\n",
            "20200807-222100 Se crea un archivo csv :/content/output/clean_data/ds_energia_output_200807_222100.csv\n",
            "20200807-222127 Se crea un archivo csv :/content/output/clean_data/ds_energia_output_200807_222126.csv\n",
            "20200807-222132 Zipeamos el archivo \n",
            "20200807-222338 Calculamos Nan luego de reemplazarl\n",
            "20200807-222338 La Cantidad de Nan en Potencia es: 0, con un impacto de un 0.0%.\n",
            "20200807-222338 La Cantidad de Nan en las tensiones Vab es: 0, con un impacto de un 0.0%.\n",
            "20200807-222338 La Cantidad de Nan en las tensiones Vbc es: 0, con un impacto de un 0.0%.\n",
            "20200807-222338 La Cantidad de Nan en las tensiones Vca es: 0, con un impacto de un 0.0%.\n",
            "20200807-222338 La Cantidad de Nan en Ds_Clima.temperature es: 0\n",
            "20200807-222338 La Cantidad de Nan en Ds_Clima.windspeed es: 0\n",
            "20200807-222338 La Cantidad de Nan en Ds_Clima.winddirection es: 0\n"
          ],
          "name": "stdout"
        }
      ]
    },
    {
      "cell_type": "markdown",
      "metadata": {
        "id": "e8Qz21YCgRet",
        "colab_type": "text"
      },
      "source": [
        "### II. Análisis en Profundidad del Contenido\n",
        "\n",
        "1. La potencia total de las 3 fases esta dada por una fórmula en la que participan la tensión y corriente media de las fases. \n",
        "**Potencia = Tension x Corriente x Coseno de Phi (esto en el caso de las potencia activa)**\n",
        "\n",
        "[Distintos tipos de potencia](http://www.asifunciona.com/electrotecnia/ke_factor_potencia/ke_factor_potencia_3.htm)\n",
        "\n",
        "  1.a. Comparar los campos de tensiones. ¿Poseen la misma información? ¿Qué deberíamos hacer al respecto? \n",
        "  **Los campos de tensiones no poseen la misma información ya que cada uno tiene la tensión de cada fase. Si bien son datos similares, no podemos unificarlos ya que son necesarios si queremos analizar la información de cada fase.**\n",
        "\n"
      ]
    },
    {
      "cell_type": "code",
      "metadata": {
        "id": "nKxEtFFOQNe8",
        "colab_type": "code",
        "colab": {
          "base_uri": "https://localhost:8080/",
          "height": 297
        },
        "outputId": "80fb17ff-cfa7-4200-a3a5-8b44662f9a23"
      },
      "source": [
        "_ds_energia[['Vab','Vca','Vbc']].describe()"
      ],
      "execution_count": 58,
      "outputs": [
        {
          "output_type": "execute_result",
          "data": {
            "text/html": [
              "<div>\n",
              "<style scoped>\n",
              "    .dataframe tbody tr th:only-of-type {\n",
              "        vertical-align: middle;\n",
              "    }\n",
              "\n",
              "    .dataframe tbody tr th {\n",
              "        vertical-align: top;\n",
              "    }\n",
              "\n",
              "    .dataframe thead th {\n",
              "        text-align: right;\n",
              "    }\n",
              "</style>\n",
              "<table border=\"1\" class=\"dataframe\">\n",
              "  <thead>\n",
              "    <tr style=\"text-align: right;\">\n",
              "      <th></th>\n",
              "      <th>Vab</th>\n",
              "      <th>Vca</th>\n",
              "      <th>Vbc</th>\n",
              "    </tr>\n",
              "  </thead>\n",
              "  <tbody>\n",
              "    <tr>\n",
              "      <th>count</th>\n",
              "      <td>6.546200e+04</td>\n",
              "      <td>6.546200e+04</td>\n",
              "      <td>6.546200e+04</td>\n",
              "    </tr>\n",
              "    <tr>\n",
              "      <th>mean</th>\n",
              "      <td>1.856736e+05</td>\n",
              "      <td>1.858060e+05</td>\n",
              "      <td>1.858379e+05</td>\n",
              "    </tr>\n",
              "    <tr>\n",
              "      <th>std</th>\n",
              "      <td>6.034880e+05</td>\n",
              "      <td>6.036807e+05</td>\n",
              "      <td>6.037292e+05</td>\n",
              "    </tr>\n",
              "    <tr>\n",
              "      <th>min</th>\n",
              "      <td>0.000000e+00</td>\n",
              "      <td>0.000000e+00</td>\n",
              "      <td>0.000000e+00</td>\n",
              "    </tr>\n",
              "    <tr>\n",
              "      <th>25%</th>\n",
              "      <td>3.517000e+01</td>\n",
              "      <td>3.668000e+01</td>\n",
              "      <td>3.580000e+01</td>\n",
              "    </tr>\n",
              "    <tr>\n",
              "      <th>50%</th>\n",
              "      <td>3.615000e+01</td>\n",
              "      <td>3.780000e+01</td>\n",
              "      <td>3.671000e+01</td>\n",
              "    </tr>\n",
              "    <tr>\n",
              "      <th>75%</th>\n",
              "      <td>4.099000e+01</td>\n",
              "      <td>4.269000e+01</td>\n",
              "      <td>4.080000e+01</td>\n",
              "    </tr>\n",
              "    <tr>\n",
              "      <th>max</th>\n",
              "      <td>2.147484e+06</td>\n",
              "      <td>2.147484e+06</td>\n",
              "      <td>2.147484e+06</td>\n",
              "    </tr>\n",
              "  </tbody>\n",
              "</table>\n",
              "</div>"
            ],
            "text/plain": [
              "                Vab           Vca           Vbc\n",
              "count  6.546200e+04  6.546200e+04  6.546200e+04\n",
              "mean   1.856736e+05  1.858060e+05  1.858379e+05\n",
              "std    6.034880e+05  6.036807e+05  6.037292e+05\n",
              "min    0.000000e+00  0.000000e+00  0.000000e+00\n",
              "25%    3.517000e+01  3.668000e+01  3.580000e+01\n",
              "50%    3.615000e+01  3.780000e+01  3.671000e+01\n",
              "75%    4.099000e+01  4.269000e+01  4.080000e+01\n",
              "max    2.147484e+06  2.147484e+06  2.147484e+06"
            ]
          },
          "metadata": {
            "tags": []
          },
          "execution_count": 58
        }
      ]
    },
    {
      "cell_type": "markdown",
      "metadata": {
        "id": "RotHWX0RXRyA",
        "colab_type": "text"
      },
      "source": [
        "\n",
        "  1.b. Comparar los campos de corrientes. ¿Poseen la misma información? ¿Qué deberíamos hacer al respecto? \n",
        "  **Los 3 campos de corrientes proveen un amperaje según los tipos de potencias: activa, reactiva y aparente. Los datos no son los mismos y no puede tomarse 1 como general porque cada variación tiene que ver son el comportamiento de la corriente de cada fase.**\n",
        "\n",
        "  "
      ]
    },
    {
      "cell_type": "code",
      "metadata": {
        "id": "tlvlV8w2XSC2",
        "colab_type": "code",
        "colab": {
          "base_uri": "https://localhost:8080/",
          "height": 297
        },
        "outputId": "1093e838-b5d4-4754-e83a-9efabe2a86e8"
      },
      "source": [
        "_ds_energia[['Amper_fase_T_A', 'Amper_fase_S_A', 'Amper_fase_R_A']].describe()"
      ],
      "execution_count": 59,
      "outputs": [
        {
          "output_type": "execute_result",
          "data": {
            "text/html": [
              "<div>\n",
              "<style scoped>\n",
              "    .dataframe tbody tr th:only-of-type {\n",
              "        vertical-align: middle;\n",
              "    }\n",
              "\n",
              "    .dataframe tbody tr th {\n",
              "        vertical-align: top;\n",
              "    }\n",
              "\n",
              "    .dataframe thead th {\n",
              "        text-align: right;\n",
              "    }\n",
              "</style>\n",
              "<table border=\"1\" class=\"dataframe\">\n",
              "  <thead>\n",
              "    <tr style=\"text-align: right;\">\n",
              "      <th></th>\n",
              "      <th>Amper_fase_T_A</th>\n",
              "      <th>Amper_fase_S_A</th>\n",
              "      <th>Amper_fase_R_A</th>\n",
              "    </tr>\n",
              "  </thead>\n",
              "  <tbody>\n",
              "    <tr>\n",
              "      <th>count</th>\n",
              "      <td>65462.000000</td>\n",
              "      <td>65462.000000</td>\n",
              "      <td>65462.000000</td>\n",
              "    </tr>\n",
              "    <tr>\n",
              "      <th>mean</th>\n",
              "      <td>19.502597</td>\n",
              "      <td>20.721380</td>\n",
              "      <td>21.868030</td>\n",
              "    </tr>\n",
              "    <tr>\n",
              "      <th>std</th>\n",
              "      <td>20.727847</td>\n",
              "      <td>22.154062</td>\n",
              "      <td>23.638488</td>\n",
              "    </tr>\n",
              "    <tr>\n",
              "      <th>min</th>\n",
              "      <td>0.000000</td>\n",
              "      <td>0.000000</td>\n",
              "      <td>0.000000</td>\n",
              "    </tr>\n",
              "    <tr>\n",
              "      <th>25%</th>\n",
              "      <td>0.000000</td>\n",
              "      <td>0.000000</td>\n",
              "      <td>0.000000</td>\n",
              "    </tr>\n",
              "    <tr>\n",
              "      <th>50%</th>\n",
              "      <td>15.000000</td>\n",
              "      <td>15.000000</td>\n",
              "      <td>16.000000</td>\n",
              "    </tr>\n",
              "    <tr>\n",
              "      <th>75%</th>\n",
              "      <td>37.000000</td>\n",
              "      <td>40.000000</td>\n",
              "      <td>42.000000</td>\n",
              "    </tr>\n",
              "    <tr>\n",
              "      <th>max</th>\n",
              "      <td>85.000000</td>\n",
              "      <td>88.000000</td>\n",
              "      <td>95.000000</td>\n",
              "    </tr>\n",
              "  </tbody>\n",
              "</table>\n",
              "</div>"
            ],
            "text/plain": [
              "       Amper_fase_T_A  Amper_fase_S_A  Amper_fase_R_A\n",
              "count    65462.000000    65462.000000    65462.000000\n",
              "mean        19.502597       20.721380       21.868030\n",
              "std         20.727847       22.154062       23.638488\n",
              "min          0.000000        0.000000        0.000000\n",
              "25%          0.000000        0.000000        0.000000\n",
              "50%         15.000000       15.000000       16.000000\n",
              "75%         37.000000       40.000000       42.000000\n",
              "max         85.000000       88.000000       95.000000"
            ]
          },
          "metadata": {
            "tags": []
          },
          "execution_count": 59
        }
      ]
    },
    {
      "cell_type": "markdown",
      "metadata": {
        "id": "vJmCOEbXXhXY",
        "colab_type": "text"
      },
      "source": [
        "1.c Valor absoluto de la potencia"
      ]
    },
    {
      "cell_type": "code",
      "metadata": {
        "id": "lhL51owFXhsB",
        "colab_type": "code",
        "colab": {
          "base_uri": "https://localhost:8080/",
          "height": 297
        },
        "outputId": "3f52944e-58b1-4f74-918a-ca2fb50de4a0"
      },
      "source": [
        "_ds_energia[['abs_Kwatts']].describe()"
      ],
      "execution_count": 60,
      "outputs": [
        {
          "output_type": "execute_result",
          "data": {
            "text/html": [
              "<div>\n",
              "<style scoped>\n",
              "    .dataframe tbody tr th:only-of-type {\n",
              "        vertical-align: middle;\n",
              "    }\n",
              "\n",
              "    .dataframe tbody tr th {\n",
              "        vertical-align: top;\n",
              "    }\n",
              "\n",
              "    .dataframe thead th {\n",
              "        text-align: right;\n",
              "    }\n",
              "</style>\n",
              "<table border=\"1\" class=\"dataframe\">\n",
              "  <thead>\n",
              "    <tr style=\"text-align: right;\">\n",
              "      <th></th>\n",
              "      <th>abs_Kwatts</th>\n",
              "    </tr>\n",
              "  </thead>\n",
              "  <tbody>\n",
              "    <tr>\n",
              "      <th>count</th>\n",
              "      <td>65462.000000</td>\n",
              "    </tr>\n",
              "    <tr>\n",
              "      <th>mean</th>\n",
              "      <td>2699.240643</td>\n",
              "    </tr>\n",
              "    <tr>\n",
              "      <th>std</th>\n",
              "      <td>1718.515486</td>\n",
              "    </tr>\n",
              "    <tr>\n",
              "      <th>min</th>\n",
              "      <td>0.000000</td>\n",
              "    </tr>\n",
              "    <tr>\n",
              "      <th>25%</th>\n",
              "      <td>2113.250000</td>\n",
              "    </tr>\n",
              "    <tr>\n",
              "      <th>50%</th>\n",
              "      <td>2944.000000</td>\n",
              "    </tr>\n",
              "    <tr>\n",
              "      <th>75%</th>\n",
              "      <td>3865.000000</td>\n",
              "    </tr>\n",
              "    <tr>\n",
              "      <th>max</th>\n",
              "      <td>8553.000000</td>\n",
              "    </tr>\n",
              "  </tbody>\n",
              "</table>\n",
              "</div>"
            ],
            "text/plain": [
              "         abs_Kwatts\n",
              "count  65462.000000\n",
              "mean    2699.240643\n",
              "std     1718.515486\n",
              "min        0.000000\n",
              "25%     2113.250000\n",
              "50%     2944.000000\n",
              "75%     3865.000000\n",
              "max     8553.000000"
            ]
          },
          "metadata": {
            "tags": []
          },
          "execution_count": 60
        }
      ]
    },
    {
      "cell_type": "markdown",
      "metadata": {
        "id": "9KKNNi-SQNxR",
        "colab_type": "text"
      },
      "source": [
        "2.   Si la medición de potencia está invertida(negativa) el factor de potencia debería serlo también. Validar que esto ocurra en todos los casos. ¿Qué hacer en los que no?\n",
        "\n",
        "\n",
        "\n"
      ]
    },
    {
      "cell_type": "code",
      "metadata": {
        "id": "2bsrwa0AYXq_",
        "colab_type": "code",
        "colab": {
          "base_uri": "https://localhost:8080/",
          "height": 425
        },
        "outputId": "70e45b58-e897-4b95-8e1e-c8b38323ed1a"
      },
      "source": [
        "_ds_energia[(_ds_energia['Factor_de_Poten_A']<=0) & (_ds_energia['Kwatts_3_fases']>0)].count()"
      ],
      "execution_count": 61,
      "outputs": [
        {
          "output_type": "execute_result",
          "data": {
            "text/plain": [
              "Fecha                       24\n",
              "Amper_fase_T_A              24\n",
              "Amper_fase_S_A              24\n",
              "Amper_fase_R_A              24\n",
              "Vab                         24\n",
              "Vca                         24\n",
              "Vbc                         24\n",
              "Kwatts_3_fases              24\n",
              "Factor_de_Poten_A           24\n",
              "hora                        24\n",
              "temperature                 24\n",
              "windspeed                   24\n",
              "winddirection               24\n",
              "abs_Kwatts                  24\n",
              "abs_Potencia                24\n",
              "fecha_dia                   24\n",
              "DiaSemana                   24\n",
              "mes_desc                    24\n",
              "es_dia_laboral              24\n",
              "DiaSemana_Transform         24\n",
              "Es_dia_laboral_Transform    24\n",
              "corte_energia               24\n",
              "outlier_Kwatts              24\n",
              "dtype: int64"
            ]
          },
          "metadata": {
            "tags": []
          },
          "execution_count": 61
        }
      ]
    },
    {
      "cell_type": "code",
      "metadata": {
        "id": "FnN1GijIZU2U",
        "colab_type": "code",
        "colab": {
          "base_uri": "https://localhost:8080/",
          "height": 425
        },
        "outputId": "7c4bd4aa-201e-4244-e672-ad53d14b7fa6"
      },
      "source": [
        "_ds_energia[(_ds_energia['Factor_de_Poten_A']>=0) & (_ds_energia['Kwatts_3_fases']<0)].count()"
      ],
      "execution_count": 63,
      "outputs": [
        {
          "output_type": "execute_result",
          "data": {
            "text/plain": [
              "Fecha                       5681\n",
              "Amper_fase_T_A              5681\n",
              "Amper_fase_S_A              5681\n",
              "Amper_fase_R_A              5681\n",
              "Vab                         5681\n",
              "Vca                         5681\n",
              "Vbc                         5681\n",
              "Kwatts_3_fases              5681\n",
              "Factor_de_Poten_A           5681\n",
              "hora                        5681\n",
              "temperature                 5681\n",
              "windspeed                   5681\n",
              "winddirection               5681\n",
              "abs_Kwatts                  5681\n",
              "abs_Potencia                5681\n",
              "fecha_dia                   5681\n",
              "DiaSemana                   5681\n",
              "mes_desc                    5681\n",
              "es_dia_laboral              5681\n",
              "DiaSemana_Transform         5681\n",
              "Es_dia_laboral_Transform    5681\n",
              "corte_energia               5681\n",
              "outlier_Kwatts              5681\n",
              "dtype: int64"
            ]
          },
          "metadata": {
            "tags": []
          },
          "execution_count": 63
        }
      ]
    },
    {
      "cell_type": "markdown",
      "metadata": {
        "id": "LHuh21zGY52l",
        "colab_type": "text"
      },
      "source": [
        "**Se considera que el factor de potencia es negativo y el consumo en Kw es positivo o viserversa como un corte de energía. Se tomarán sus valores absolutos para realizar cálculos.**"
      ]
    },
    {
      "cell_type": "markdown",
      "metadata": {
        "id": "l_lqH6piYYO9",
        "colab_type": "text"
      },
      "source": [
        "\n",
        "3.   ¿Existe algun feature que pueda ser negativo? Reemplazar los negativos por su valor absoluto.\n",
        "\n",
        "**El factor de Potencia y la potencia total tenían valores negativos que fueron pasados a su valor absoluto.**\n"
      ]
    },
    {
      "cell_type": "markdown",
      "metadata": {
        "id": "ntEGgrmlZ0H0",
        "colab_type": "text"
      },
      "source": [
        "4.   ¿Existen valores faltantes? Definir e implementar estrategia para completarlos o descartarlos.\n",
        "\n",
        "**En el caso del dataset de clima, al llevarlo a una frecuencia de 5 mintos (cuando el dataset original viene cada una hora), aplicamos un backfill llenando con valores faltantes con datos de la hora siguiente.**"
      ]
    },
    {
      "cell_type": "markdown",
      "metadata": {
        "id": "RofjkA9hZ4Mw",
        "colab_type": "text"
      },
      "source": [
        "5.   Los datasets poseen diferentes frecuencia de medición. Definir una misma frecuencia y generar un único set de datos.\n",
        "\n",
        "**Definimos una frecuencia de 5 minutos en el dataset de clima para que coincidan con los datos del dataset de energía y no perder detalles de la información del servicio eléctrico. La unión está hecha al comenzar el ETL.**\n"
      ]
    }
  ]
}